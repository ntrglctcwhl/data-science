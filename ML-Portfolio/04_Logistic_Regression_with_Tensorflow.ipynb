{
  "cells": [
    {
      "cell_type": "markdown",
      "metadata": {
        "id": "MKsRDH5ZUdfasdv"
      },
      "source": [
        "# Assignment 4"
      ]
    },
    {
      "cell_type": "markdown",
      "metadata": {
        "id": "pkQ8YXEpFy8-"
      },
      "source": [
        "### Import libraries"
      ]
    },
    {
      "cell_type": "code",
      "execution_count": null,
      "metadata": {
        "id": "7X58hOMTUH-w"
      },
      "outputs": [],
      "source": [
        "import numpy as np\n",
        "from matplotlib import pyplot as plt\n",
        "import pandas as pd\n",
        "import seaborn as sns  # for nicer plots\n",
        "sns.set(style=\"darkgrid\")  # default style\n",
        "\n",
        "from sklearn.model_selection import train_test_split\n",
        "from sklearn.metrics import confusion_matrix, ConfusionMatrixDisplay\n",
        "\n",
        "import tensorflow as tf\n",
        "from tensorflow import keras\n",
        "from keras import metrics\n",
        "from keras.datasets import fashion_mnist\n",
        "\n",
        "tf.get_logger().setLevel('INFO')"
      ]
    },
    {
      "cell_type": "markdown",
      "metadata": {
        "id": "VJXwRdGtFy8-"
      },
      "source": [
        "---\n",
        "### Step 1: Data ingestion"
      ]
    },
    {
      "cell_type": "markdown",
      "metadata": {
        "id": "rHLcriKWLRe4"
      },
      "source": [
        "You'll train a binary classifier using the [Fashion MNIST](https://github.com/zalandoresearch/fashion-mnist) dataset. This consists of 70,000 grayscale images (28x28). Each image is associated with 1 of 10 classes. The dataset was split by the creators; there are 60,000 training images and 10,000 test images. Note also that Tensorflow includes a growing [library of datasets](https://www.tensorflow.org/datasets/catalog/overview) and makes it easy to load them in numpy arrays."
      ]
    },
    {
      "cell_type": "code",
      "execution_count": null,
      "metadata": {
        "id": "M1gLaAytFy8_"
      },
      "outputs": [],
      "source": [
        "# Load the Fashion MNIST dataset.\n",
        "(X_train, Y_train), (X_test, Y_test) = fashion_mnist.load_data()"
      ]
    },
    {
      "cell_type": "markdown",
      "metadata": {
        "id": "4lBQw9dqFy8_"
      },
      "source": [
        "---\n",
        "### Step 2: Exploratory Data Analysis (EDA)"
      ]
    },
    {
      "cell_type": "markdown",
      "metadata": {
        "id": "Tq9Z1URHFy8_"
      },
      "source": [
        "Exploratory Data Analysis (EDA) and Data Preprocessing are often iterative processes that involve going back and forth to refine and improve the quality of data analysis and preparation. However, the specific order can vary depending on the project's requirements. In some cases, starting with EDA, as you see in this assignment, could be more useful, but there is no rigid rule dictating the sequence in all situations."
      ]
    },
    {
      "cell_type": "markdown",
      "metadata": {
        "id": "5qon16ntFy8_"
      },
      "source": [
        "### <span style=\"color:chocolate\">Exercise 1:</span> Getting to know your data (5 points)"
      ]
    },
    {
      "cell_type": "markdown",
      "metadata": {
        "id": "load_auto_data_set_code"
      },
      "source": [
        "Complete the following tasks:\n",
        "\n",
        "1. Print the shapes and types of (X_train, Y_train) and (X_test, Y_test). Interpret the shapes (i.e., what do the numbers represent?). Hint: For types use the <span style=\"color:chocolate\">type()</span> function.\n",
        "2. Define a list of strings of class names corresponding to each class in (Y_train, Y_test). Call this list label_names. Hint: Refer to the Fashion MNIST documentation."
      ]
    },
    {
      "cell_type": "code",
      "execution_count": null,
      "metadata": {
        "id": "XpIwfakOFy8_",
        "colab": {
          "base_uri": "https://localhost:8080/"
        },
        "outputId": "e3de98cd-9258-47af-d945-dea5c6a30d24"
      },
      "outputs": [
        {
          "output_type": "stream",
          "name": "stdout",
          "text": [
            "X_train shape:  (60000, 28, 28)\n",
            "Y_train shape:  (60000,)\n",
            "X_test shape:  (10000, 28, 28)\n",
            "Y_test shape:  (10000,)\n",
            "X_train type:  <class 'numpy.ndarray'>\n",
            "Y_train type:  <class 'numpy.ndarray'>\n",
            "X_test type:  <class 'numpy.ndarray'>\n",
            "Y_test type:  <class 'numpy.ndarray'>\n",
            "Index 0 in shape is the number of pictures in that data set. For train this is 60000 and test is 10000.\n",
            "In X_train and X_test, the 28s represent the dimensions of each image (28x28).\n"
          ]
        }
      ],
      "source": [
        "#printing shapes of X_train, Y_train, X_test, and Y_test\n",
        "print(\"X_train shape: \",X_train.shape)\n",
        "print(\"Y_train shape: \",Y_train.shape)\n",
        "print(\"X_test shape: \",X_test.shape)\n",
        "print(\"Y_test shape: \",Y_test.shape)\n",
        "#printing types of X_train, Y_train, X_test, and Y_test\n",
        "print(\"X_train type: \",type(X_train))\n",
        "print(\"Y_train type: \",type(Y_train))\n",
        "print(\"X_test type: \",type(X_test))\n",
        "print(\"Y_test type: \",type(Y_test))\n",
        "#interpretting the shapes\n",
        "print(\"Index 0 in shape is the number of pictures in that data set. For train this is 60000 and test is 10000.\")\n",
        "print(\"In X_train and X_test, the 28s represent the dimensions of each image (28x28).\")\n",
        "#define list of strings of class names corresponding to each class\n",
        "label_names = ['T-shirt/top','Trouser','Pullover','Dress','Coat','Sandal','Shirt','Sneaker','Bag','Ankle boot']"
      ]
    },
    {
      "cell_type": "markdown",
      "metadata": {
        "id": "QGDyRBdjFy8_"
      },
      "source": [
        "### <span style=\"color:chocolate\">Exercise 2:</span> Getting to know your data - cont'd (5 points)"
      ]
    },
    {
      "cell_type": "markdown",
      "metadata": {
        "id": "LH0T8XwuFy8_"
      },
      "source": [
        "Fashion MNIST images have one of 10 possible labels (shown above)."
      ]
    },
    {
      "cell_type": "markdown",
      "metadata": {
        "id": "ZxJhOjgsFy8_"
      },
      "source": [
        "Complete the following tasks:\n",
        "\n",
        "1. Display the first 5 images in X_train for each class in Y_train, arranged in a 10x5 grid. Use the label_names list defined above;\n",
        "2. Determine the minimum and maximum pixel values for images in the X_train dataset."
      ]
    },
    {
      "cell_type": "code",
      "execution_count": null,
      "metadata": {
        "id": "LXi1XfSoFy8_",
        "colab": {
          "base_uri": "https://localhost:8080/",
          "height": 1000
        },
        "outputId": "857545d2-c791-470b-a81f-143d18cdb942"
      },
      "outputs": [
        {
          "output_type": "display_data",
          "data": {
            "text/plain": [
              "<Figure size 1000x2000 with 50 Axes>"
            ],
            "image/png": "[encoded data removed]"
          },
          "metadata": {}
        },
        {
          "output_type": "stream",
          "name": "stdout",
          "text": [
            "Minimum pixel value in X_train: 0\n",
            "Maximum pixel value in X_train: 255\n"
          ]
        }
      ],
      "source": [
        "#display first 5 img in X_train for each class in Y_train\n",
        "fig, axes = plt.subplots(len(label_names), 5, figsize=(10, 20))\n",
        "for i in range (10):\n",
        "  class_indices = np.where(Y_train == i)[0][:5]\n",
        "  for j, img_idx in enumerate(class_indices):\n",
        "        ax = axes[i, j]\n",
        "        ax.imshow(X_train[img_idx], cmap = 'gray')\n",
        "        ax.set_title(label_names[i])\n",
        "        ax.axis(\"off\")\n",
        "plt.tight_layout()\n",
        "plt.show()\n",
        "#determine min and max pixel values\n",
        "min_val = X_train.min()\n",
        "max_val = X_train.max()\n",
        "print(f\"Minimum pixel value in X_train: {min_val}\")\n",
        "print(f\"Maximum pixel value in X_train: {max_val}\")\n"
      ]
    },
    {
      "cell_type": "markdown",
      "metadata": {
        "id": "cZpFxxStzSrP"
      },
      "source": [
        "---\n",
        "### Step 3: Data preprocessing"
      ]
    },
    {
      "cell_type": "markdown",
      "metadata": {
        "id": "cL6Zli7aFy8_"
      },
      "source": [
        "This step is essential for preparing this image data in a format that is suitable for ML algorithms."
      ]
    },
    {
      "cell_type": "markdown",
      "metadata": {
        "id": "FD921RKGFy8_"
      },
      "source": [
        "### <span style=\"color:chocolate\">Exercise 3:</span> Feature preprocessing (5 points)"
      ]
    },
    {
      "cell_type": "markdown",
      "metadata": {
        "id": "3lYkWXPVFy8_"
      },
      "source": [
        "In the previous lab, the input data had just a few features. Here, we treat **every pixel value as a separate feature**, so each input example has 28x28 (784) features!"
      ]
    },
    {
      "cell_type": "markdown",
      "metadata": {
        "id": "VflrFlxFFy8_"
      },
      "source": [
        "In this exercise, you'll perform the following tasks:\n",
        "\n",
        "1. Normalize the pixel values in both X_train and X_test data so they range between 0 and 1;\n",
        "2. For each image in X_train and X_test, flatten the 2-D 28x28 pixel array to a 1-D array of size 784. Hint: use the <span style=\"color:chocolate\">reshape()</span> method available in NumPy. Note that by doing so you will overwrite the original arrays;\n",
        "3. Pint the shape of X_train and X_test arrays."
      ]
    },
    {
      "cell_type": "code",
      "execution_count": null,
      "metadata": {
        "id": "mmJvsroHFy8_",
        "colab": {
          "base_uri": "https://localhost:8080/"
        },
        "outputId": "e65c9b46-c37d-4ee5-a7ee-fcfc2d681ddf"
      },
      "outputs": [
        {
          "output_type": "stream",
          "name": "stdout",
          "text": [
            "X_train shape:  (60000, 784)\n",
            "X_test shape:  (10000, 784)\n"
          ]
        }
      ],
      "source": [
        "#normalize values in X_train and X_test\n",
        "X_train_mean = np.mean(X_train)\n",
        "X_test_mean = np.mean(X_test)\n",
        "X_train_std = np.std(X_train)\n",
        "X_test_std = np.std(X_test)\n",
        "X_train = (X_train - X_train_mean)/(X_train_std)\n",
        "X_test = (X_test - X_test_mean)/(X_test_std)\n",
        "#flatten the 2D 28x28 pixel array to a 1D array of size 784\n",
        "X_train = X_train.reshape(X_train.shape[0], 784)\n",
        "X_test = X_test.reshape(X_test.shape[0], 784)\n",
        "#print out new shapes\n",
        "print(\"X_train shape: \", X_train.shape)\n",
        "print(\"X_test shape: \", X_test.shape)\n"
      ]
    },
    {
      "cell_type": "markdown",
      "metadata": {
        "id": "QrD4X18hFy8_"
      },
      "source": [
        "### <span style=\"color:chocolate\">Exercise 4:</span> Label preprocessing (5 points)"
      ]
    },
    {
      "cell_type": "markdown",
      "metadata": {
        "id": "SgCMPr_OFy8_"
      },
      "source": [
        "This assignment involves binary classification. Specifically, the objective is to predict whether an image belongs to the sneaker class (class 7) or not.\n",
        "\n",
        "Therefore, write code so that for each example in (Y_train, Y_test), the outcome variable is represented as follows:\n",
        "* $y=1$, for sneaker class (positive examples), and\n",
        "* $y=0$, for non-sneaker class (negative examples).\n",
        "\n",
        "Note: To avoid \"ValueError: assignment destination is read-only\", first create a copy of the (Y_train, Y_test) data and call the resulting arrays (Y_train, Y_test). Then overwrite the (Y_train, Y_test) arrays to create binary outcomes."
      ]
    },
    {
      "cell_type": "code",
      "execution_count": null,
      "metadata": {
        "id": "3woLArUhFy8_"
      },
      "outputs": [],
      "source": [
        "# Make copies of the original dataset for binary classification task.\n",
        "Y_train = np.copy(Y_train)\n",
        "Y_test = np.copy(Y_test)\n",
        "\n",
        "#overwriting values to be binary in Y_train and Y_test\n",
        "Y_train[Y_train != 7] = 0\n",
        "Y_train[Y_train == 7] = 1\n",
        "Y_test[Y_test != 7] = 0\n",
        "Y_test[Y_test == 7] = 1"
      ]
    },
    {
      "cell_type": "markdown",
      "metadata": {
        "id": "maOco7WmFy8_"
      },
      "source": [
        "### <span style=\"color:chocolate\">Exercise 5:</span> Data splits (10 points)"
      ]
    },
    {
      "cell_type": "markdown",
      "metadata": {
        "id": "EIGfkp0bFy9A"
      },
      "source": [
        "Using the <span style=\"color:chocolate\">train_test_split()</span> method available in scikit-learn:\n",
        "1. Retain 20% from the training data for validation purposes. Set random state to 1234. All the other arguments of the method are set to default values. Name the resulting dataframes as follows: X_train_mini, X_val, Y_train_mini, Y_val.\n",
        "2. Print the shape of each array."
      ]
    },
    {
      "cell_type": "code",
      "execution_count": null,
      "metadata": {
        "id": "JwNwZ3mqFy9A",
        "colab": {
          "base_uri": "https://localhost:8080/"
        },
        "outputId": "cb9c2c35-36dc-4d85-c650-1de6479ccd5b"
      },
      "outputs": [
        {
          "output_type": "stream",
          "name": "stdout",
          "text": [
            "X_train_mini Shape:  (48000, 784)\n",
            "X_val Shape:  (12000, 784)\n",
            "Y_train_mini Shape:  (48000, 1)\n",
            "Y_val Shape:  (12000, 1)\n"
          ]
        }
      ],
      "source": [
        "#split data in train, test, and val and print shapes\n",
        "X_train_mini_np, X_val_np, Y_train_mini_np, Y_val_np = train_test_split(X_train, Y_train, test_size = 0.2, random_state = 1234)\n",
        "X_train_mini = pd.DataFrame(X_train_mini_np)\n",
        "Y_train_mini = pd.DataFrame(Y_train_mini_np)\n",
        "X_val = pd.DataFrame(X_val_np)\n",
        "Y_val = pd.DataFrame(Y_val_np)\n",
        "print(\"X_train_mini Shape: \", X_train_mini.shape)\n",
        "print(\"X_val Shape: \", X_val.shape)\n",
        "print(\"Y_train_mini Shape: \", Y_train_mini.shape)\n",
        "print(\"Y_val Shape: \", Y_val.shape)"
      ]
    },
    {
      "cell_type": "markdown",
      "metadata": {
        "id": "K9NjRTg6Fy9A"
      },
      "source": [
        "### <span style=\"color:chocolate\">Exercise 6:</span> Data shuffling (10 points)"
      ]
    },
    {
      "cell_type": "markdown",
      "metadata": {
        "id": "UbculURnFy9A"
      },
      "source": [
        "Since you'll be using Batch Gradient Descent (BGD) for training, it is important that **each batch is a random sample of the data** so that the gradient computed is representative.\n",
        "\n",
        "1. Use integer array indexing to re-order (X_train_mini, Y_train_mini) using a list of shuffled indices. In doing so, you will overwrite the arrays."
      ]
    },
    {
      "cell_type": "code",
      "execution_count": null,
      "metadata": {
        "id": "ILxdFKdLFy9A"
      },
      "outputs": [],
      "source": [
        "np.random.seed(0)\n",
        "X_train_mini_reset = X_train_mini.reset_index(drop=True)\n",
        "indices = X_train_mini_reset.index.to_numpy()\n",
        "#reordering X_train_mini and Y_train_mini\n",
        "indeces = X_train_mini.index.to_numpy()\n",
        "shuffled_indeces = np.random.permutation(indeces)\n",
        "X_train_mini = X_train_mini.reindex(shuffled_indeces)\n",
        "Y_train_mini = Y_train_mini.reindex(shuffled_indeces)\n"
      ]
    },
    {
      "cell_type": "markdown",
      "metadata": {
        "id": "Ccgik8lxFy9A"
      },
      "source": [
        "---\n",
        "### Step 4: Exploratory Data Analysis (EDA) - cont'd"
      ]
    },
    {
      "cell_type": "markdown",
      "metadata": {
        "id": "tQV9fQbzFy9A"
      },
      "source": [
        "Before delving into model training, let's further explore the raw feature values by comparing sneaker and non-sneaker training images."
      ]
    },
    {
      "cell_type": "markdown",
      "metadata": {
        "id": "-2_yUMJJFy9A"
      },
      "source": [
        "### <span style=\"color:chocolate\">Exercise 7:</span> Pixel distributions (10 points)"
      ]
    },
    {
      "cell_type": "markdown",
      "metadata": {
        "id": "o-gDEjiRFy9A"
      },
      "source": [
        "1. Identify all sneaker images in X_train_mini and calculate the mean pixel value for each sneaker image. Visualize these pixel values using a histogram. Print the mean pixel value across all sneaker images.\n",
        "2. Identify all non-sneaker images in X_train_mini and calculate the mean pixel value for each non-sneaker image. Visualize these pixel values using a histogram. Print the mean pixel value across all non-sneaker images.\n",
        "3. Based on the histogram results, assess whether there is any evidence suggesting that pixel values can be utilized to distinguish between sneaker and non-sneaker images. Justify your response.\n",
        "\n",
        "Notes: Make sure to provide a descriptive title and axis labels for each histogran. Make sure you utilize Y_train_mini to locate the sneaker and non-sneaker class."
      ]
    },
    {
      "cell_type": "code",
      "execution_count": null,
      "metadata": {
        "id": "ecDDuJe_Fy9A",
        "colab": {
          "base_uri": "https://localhost:8080/",
          "height": 1000
        },
        "outputId": "0c2d1388-0a94-408b-a6c1-770e3f7a85c3"
      },
      "outputs": [
        {
          "output_type": "stream",
          "name": "stdout",
          "text": [
            "Overall Mean of Pixel Value for Sneaker Images:  -0.3335914493669981\n"
          ]
        },
        {
          "output_type": "display_data",
          "data": {
            "text/plain": [
              "<Figure size 640x480 with 1 Axes>"
            ],
            "image/png": "[encoded data removed]"
          },
          "metadata": {}
        },
        {
          "output_type": "stream",
          "name": "stdout",
          "text": [
            "Overall Mean of Pixel Value for Non-Sneaker Images:  0.03671512658119501\n"
          ]
        },
        {
          "output_type": "display_data",
          "data": {
            "text/plain": [
              "<Figure size 640x480 with 1 Axes>"
            ],
            "image/png": "[encoded data removed]"
          },
          "metadata": {}
        },
        {
          "output_type": "stream",
          "name": "stdout",
          "text": [
            "Based on these results, pixel value cannot accurately be used to distinguish sneaker and non-sneaker images.\n",
            "The mean value distribution shown in the histogram is nearly very distinct for both sneaker and non-sneaker images.\n",
            "The overall mean is negative for sneaker images, and barely above zero for non-sneaker images.\n",
            "It is unclear whether other types of image classes will have similar pixel values to non-sneaker images.\n",
            "We do not know which way the other classes pull the average either.\n"
          ]
        }
      ],
      "source": [
        "#identify all sneaker images in X_train_mini and calculate mean pixel value for each img\n",
        "indeces = Y_train_mini[Y_train_mini[0] == 1].index\n",
        "X_train_mini_sneaker = X_train_mini.loc[indeces]\n",
        "X_train_mini_sneaker_means = X_train_mini_sneaker.mean(axis = 1)\n",
        "#plot and print\n",
        "print(\"Overall Mean of Pixel Value for Sneaker Images: \", X_train_mini_sneaker_means.mean())\n",
        "plt.hist(X_train_mini_sneaker_means, bins=20, edgecolor=\"black\")\n",
        "plt.title(\"Histogram of Mean Pixel Values (Sneaker Images)\")\n",
        "plt.xlabel(\"Mean Pixel Value\")\n",
        "plt.ylabel(\"Frequency\")\n",
        "plt.show()\n",
        "#do same for non-sneaker images\n",
        "indeces_not = Y_train_mini[Y_train_mini[0] == 0].index\n",
        "X_train_mini_sneaker_not = X_train_mini.loc[indeces_not]\n",
        "X_train_mini_sneaker_not_means = X_train_mini_sneaker_not.mean(axis = 1)\n",
        "print(\"Overall Mean of Pixel Value for Non-Sneaker Images: \", X_train_mini_sneaker_not_means.mean())\n",
        "plt.hist(X_train_mini_sneaker_not_means, bins=20, edgecolor=\"black\")\n",
        "plt.title(\"Histogram of Mean Pixel Values (Non-Sneaker Images)\")\n",
        "plt.xlabel(\"Mean Pixel Value\")\n",
        "plt.ylabel(\"Frequency\")\n",
        "plt.show()\n",
        "print(\"Based on these results, pixel value cannot accurately be used to distinguish sneaker and non-sneaker images.\")\n",
        "print(\"The mean value distribution shown in the histogram is nearly very distinct for both sneaker and non-sneaker images.\")\n",
        "print(\"The overall mean is negative for sneaker images, and barely above zero for non-sneaker images.\")\n",
        "print(\"It is unclear whether other types of image classes will have similar pixel values to non-sneaker images.\")\n",
        "print(\"We do not know which way the other classes pull the average either.\")"
      ]
    },
    {
      "cell_type": "markdown",
      "metadata": {
        "id": "XcLG-i8kFy9A"
      },
      "source": [
        "---\n",
        "### Step 4: Modeling"
      ]
    },
    {
      "cell_type": "markdown",
      "metadata": {
        "id": "GIqz-7pZFy9A"
      },
      "source": [
        "### <span style=\"color:chocolate\">Exercise 8:</span> Baseline model (10 points)"
      ]
    },
    {
      "cell_type": "markdown",
      "metadata": {
        "id": "TGgQ-ASYiHbK"
      },
      "source": [
        "When dealing with classification problems, a simple baseline is to select the *majority* class (the most common label in the training set) and use it as the prediction for all inputs.\n",
        "\n",
        "With this information in mind:\n",
        "\n",
        "1. What is the number of sneaker images in Y_train_mini? Print out your answer.\n",
        "2. What is the number of non-sneaker images in Y_train_mini? Print out your answer.\n",
        "3. What is the majority class in Y_train_mini? Print out your answer.\n",
        "4. What is the accuracy of a majority class classifier for Y_train_mini? Print out your answer.\n",
        "5. Implement a function that computes the Log Loss (binary cross-entropy) metric and use it to evaluate this baseline on both the mini train (Y_train_mini) and validation (Y_val) data. Use 0.1 as the predicted probability for your baseline (reflecting what we know about the original distribution of classes in the mini training data). Hint: for additional help, see the file ``04 Logistic Regression with Tensorflow_helper.ipynb``; You should use **np.log()** when implementing the log loss function."
      ]
    },
    {
      "cell_type": "code",
      "execution_count": null,
      "metadata": {
        "id": "eZUHQCUUFy9D",
        "colab": {
          "base_uri": "https://localhost:8080/"
        },
        "outputId": "800b5002-2c6f-4d7b-e61c-ce15492d4c7b"
      },
      "outputs": [
        {
          "output_type": "stream",
          "name": "stdout",
          "text": [
            "Number of Sneaker Images in Y_train_mini:  4800\n",
            "Number of Non-Sneaker Images in Y_train_mini:  43200\n",
            "The majority class is the non-sneaker images.\n",
            "The accuracy is:  0.9\n",
            "Y_train log loss:  0.3250829733914482\n",
            "Y_val log loss:  0.3250829733914482\n"
          ]
        }
      ],
      "source": [
        "print(\"Number of Sneaker Images in Y_train_mini: \", len(indeces))\n",
        "print(\"Number of Non-Sneaker Images in Y_train_mini: \", len(indeces_not))\n",
        "print(\"The majority class is the non-sneaker images.\")\n",
        "#calculating accuracy\n",
        "accuracy = float(len(indeces_not)/len(Y_train_mini))\n",
        "print(\"The accuracy is: \", accuracy)\n",
        "def logloss(actual, pred):\n",
        "  #convert both to np array\n",
        "  actual = np.array(actual)\n",
        "  pred = np.array(pred)\n",
        "  #log loss equation\n",
        "  loss = -np.mean( (actual*np.log(pred)) + ((1-actual)*np.log(1-pred)) )\n",
        "  return loss\n",
        "#calculate log loss for Y_train_mini\n",
        "train_base = np.full(Y_train_mini.shape[0], 0.1)\n",
        "train_loss = logloss(Y_train_mini.values.flatten(), train_base)\n",
        "print(\"Y_train log loss: \", train_loss)\n",
        "#calculate log loss for Y_val\n",
        "val_base = np.full(Y_val.shape[0], 0.1)\n",
        "val_loss = logloss(Y_val.values.flatten(), val_base)\n",
        "print(\"Y_val log loss: \", val_loss)"
      ]
    },
    {
      "cell_type": "markdown",
      "metadata": {
        "id": "bcqY_nFSFy9D"
      },
      "source": [
        "### <span style=\"color:chocolate\">Exercise 9:</span> Improvement over Baseline with TensorFlow (10 points)"
      ]
    },
    {
      "cell_type": "markdown",
      "metadata": {
        "id": "f5JT3KKrFy9D"
      },
      "source": [
        "Let's use TensorFlow to train a binary logistic regression model much like you did in the previous assignment. The goal here is to build a ML model to improve over the baseline classifier.\n",
        "\n",
        "1. Fill in the <span style=\"color:green\">NotImplemented</span> parts of the build_model() function below by following the instructions provided as comments. Hint: the activation function, the loss, and the evaluation metric are different compared to the linear regression model;\n",
        "2. Build and compile a model using the build_model() function and the (X_train_mini, Y_train_mini) data. Set learning_rate = 0.0001. Call the resulting object *model_tf*.\n",
        "3. Train *model_tf* using the (X_train_mini, Y_train_mini) data. Set num_epochs = 5 and batch_size=32. Pass the (X_val, Y_val) data for validation. Hint: see the documentation behind the [tf.keras.Model.fit()](https://www.tensorflow.org/api_docs/python/tf/keras/Model) method.\n",
        "4. Generate a (1,2) plot (for the mini training and validation data). In the subplot at position (1, 1), display the loss values on the y-axis and the epoch number on the x-axis. In the subplot at position (1, 2), display the accuracy values on the y-axis and the epoch number on the x-axis. Hint: check what the [tf.keras.Model.fit()](https://www.tensorflow.org/api_docs/python/tf/keras/Model) method returns."
      ]
    },
    {
      "cell_type": "code",
      "execution_count": null,
      "metadata": {
        "id": "Ukx9Wgz_Fy9D"
      },
      "outputs": [],
      "source": [
        "def build_model(num_features, learning_rate):\n",
        "  \"\"\"Build a TF linear regression model using Keras.\n",
        "\n",
        "  Args:\n",
        "    num_features: The number of input features.\n",
        "    learning_rate: The desired learning rate for SGD.\n",
        "\n",
        "  Returns:\n",
        "    model: A tf.keras model (graph).\n",
        "  \"\"\"\n",
        "  # This is not strictly necessary, but each time you build a model, TF adds\n",
        "  # new nodes (rather than overwriting), so the colab session can end up\n",
        "  # storing lots of copies of the graph when you only care about the most\n",
        "  # recent. Also, as there is some randomness built into training with SGD,\n",
        "  # setting a random seed ensures that results are the same on each identical\n",
        "  # training run.\n",
        "  tf.keras.backend.clear_session()\n",
        "  tf.random.set_seed(0)\n",
        "\n",
        "  # Build a model using keras.Sequential. While this is intended for neural\n",
        "  # networks (which may have multiple layers), we want just a single layer for\n",
        "  # binary logistic regression.\n",
        "  model = tf.keras.Sequential()\n",
        "  model.add(tf.keras.layers.Dense(\n",
        "      units=1,        # output dim\n",
        "      input_shape= (num_features,),  # input dim\n",
        "      use_bias=True,               # use a bias (intercept) param\n",
        "      activation='sigmoid',\n",
        "      kernel_initializer=tf.keras.initializers.ones(),  # initialize params to 1\n",
        "      bias_initializer=tf.keras.initializers.ones(),    # initialize bias to 1\n",
        "  ))\n",
        "\n",
        "  # We need to choose an optimizer. We'll use SGD, which is actually mini-batch GD\n",
        "  optimizer = tf.keras.optimizers.SGD(learning_rate=learning_rate)\n",
        "\n",
        "  # Finally, compile the model. Select the accuracy metric (!!!). This finalizes the graph for training.\n",
        "  model.compile(optimizer=optimizer, loss='binary_crossentropy', metrics=['accuracy'])\n",
        "\n",
        "  return model"
      ]
    },
    {
      "cell_type": "code",
      "execution_count": null,
      "metadata": {
        "id": "45uywU3eFy9D",
        "colab": {
          "base_uri": "https://localhost:8080/",
          "height": 708
        },
        "outputId": "17515ad2-8a9a-412b-a0dd-d1b12695977e"
      },
      "outputs": [
        {
          "output_type": "stream",
          "name": "stderr",
          "text": [
            "/usr/local/lib/python3.12/dist-packages/keras/src/layers/core/dense.py:93: UserWarning: Do not pass an `input_shape`/`input_dim` argument to a layer. When using Sequential models, prefer using an `Input(shape)` object as the first layer in the model instead.\n",
            "  super().__init__(activity_regularizer=activity_regularizer, **kwargs)\n"
          ]
        },
        {
          "output_type": "stream",
          "name": "stdout",
          "text": [
            "Epoch 1/5\n",
            "\u001b[1m1500/1500\u001b[0m \u001b[32m━━━━━━━━━━━━━━━━━━━━\u001b[0m\u001b[37m\u001b[0m \u001b[1m3s\u001b[0m 2ms/step - accuracy: 0.4459 - loss: 140.4909 - val_accuracy: 0.4638 - val_loss: 130.1712\n",
            "Epoch 2/5\n",
            "\u001b[1m1500/1500\u001b[0m \u001b[32m━━━━━━━━━━━━━━━━━━━━\u001b[0m\u001b[37m\u001b[0m \u001b[1m3s\u001b[0m 2ms/step - accuracy: 0.4688 - loss: 125.4700 - val_accuracy: 0.4853 - val_loss: 115.8739\n",
            "Epoch 3/5\n",
            "\u001b[1m1500/1500\u001b[0m \u001b[32m━━━━━━━━━━━━━━━━━━━━\u001b[0m\u001b[37m\u001b[0m \u001b[1m3s\u001b[0m 2ms/step - accuracy: 0.4914 - loss: 111.5047 - val_accuracy: 0.5103 - val_loss: 102.6353\n",
            "Epoch 4/5\n",
            "\u001b[1m1500/1500\u001b[0m \u001b[32m━━━━━━━━━━━━━━━━━━━━\u001b[0m\u001b[37m\u001b[0m \u001b[1m4s\u001b[0m 3ms/step - accuracy: 0.5145 - loss: 98.6129 - val_accuracy: 0.5339 - val_loss: 90.4997\n",
            "Epoch 5/5\n",
            "\u001b[1m1500/1500\u001b[0m \u001b[32m━━━━━━━━━━━━━━━━━━━━\u001b[0m\u001b[37m\u001b[0m \u001b[1m3s\u001b[0m 2ms/step - accuracy: 0.5396 - loss: 86.8408 - val_accuracy: 0.5587 - val_loss: 79.5270\n"
          ]
        },
        {
          "output_type": "display_data",
          "data": {
            "text/plain": [
              "<Figure size 640x480 with 1 Axes>"
            ],
            "image/png": "[encoded data removed]"
          },
          "metadata": {}
        }
      ],
      "source": [
        "tf.random.set_seed(0)\n",
        "# 2. Build and compile model\n",
        "model_tf = build_model(784, learning_rate=0.0001)\n",
        "\n",
        "# 3. Fit the model\n",
        "history = model_tf.fit(X_train_mini, Y_train_mini, validation_data=(X_val, Y_val), epochs = 5, batch_size = 32)\n",
        "\n",
        "# 4. Generate (1,2) plot\n",
        "plt.plot(history.history[\"loss\"], label=\"Training Loss\")\n",
        "plt.xlabel(\"Epoch\")\n",
        "plt.ylabel(\"Loss\")\n",
        "plt.title(\"Epoch vs Loss\")\n",
        "plt.legend()\n",
        "plt.show()"
      ]
    },
    {
      "cell_type": "markdown",
      "metadata": {
        "id": "jcrSlUsoFy9D"
      },
      "source": [
        "---\n",
        "### Step 5: Hyperparameter tuning"
      ]
    },
    {
      "cell_type": "markdown",
      "metadata": {
        "id": "o2O7N6gnFy9D"
      },
      "source": [
        "Hyperparameter tuning is a crucial step in optimizing ML models. It involves systematically adjusting hyperparameters such as learning rate, number of epochs, and optimizer to find the model configuration that leads to the best generalization performance.\n",
        "\n",
        "This tuning process is typically conducted by monitoring the model's performance on the validation vs. training set. It's important to note that using the test set for hyperparameter tuning can compromise the integrity of the evaluation process by violating the assumption of \"blindness\" of the test data."
      ]
    },
    {
      "cell_type": "markdown",
      "metadata": {
        "id": "O7hxZG4cFy9D"
      },
      "source": [
        "### <span style=\"color:chocolate\">Exercise 10:</span> Hyperparameter tuning (10 points)"
      ]
    },
    {
      "cell_type": "markdown",
      "metadata": {
        "id": "_zd--9hoFy9D"
      },
      "source": [
        "1. Fine-tune the **learning rate** and **number of epochs** hyperparameters of *model_tf* to determine the setup that yields the most optimal generalization performance. Feel free to explore various values for these hyperparameters. Generate a (1, 2) subplot to visualize the training and validation loss on the left, and training and validation accuracy on the right, across all epochs. Hint: you can manually test different hyperparameter values or you can use the [Keras Tuner](https://www.tensorflow.org/tutorials/keras/keras_tuner). If you decide to work with the Keras Tuner, define a new model building function named <span style=\"color:chocolate\">build_model_tuner()</span>.\n",
        "\n",
        "After identifying your preferred model configuration, print the following information:\n",
        "\n",
        "2. The first five learned parameters of the model (including the bias term);\n",
        "3. The final-epoch loss on both the mini training and validation datasets;\n",
        "4. The difference between the final-epoch training and validation losses;\n",
        "5. Compare the final-epoch training/validation loss of the TensorFlow model (model_tf) with the baseline model's loss. Does the TensorFlow model demonstrate an improvement over the baseline model?\n",
        "\n",
        "Please note that we will consider 'optimal model configuration' any last-epoch training and validation loss that is below 0.08."
      ]
    },
    {
      "cell_type": "code",
      "execution_count": null,
      "metadata": {
        "id": "jQKFKEyDFy9D",
        "colab": {
          "base_uri": "https://localhost:8080/"
        },
        "outputId": "d6f862de-8535-4835-ce10-0900a719a3c0"
      },
      "outputs": [
        {
          "output_type": "stream",
          "name": "stderr",
          "text": [
            "/usr/local/lib/python3.12/dist-packages/keras/src/layers/core/dense.py:93: UserWarning: Do not pass an `input_shape`/`input_dim` argument to a layer. When using Sequential models, prefer using an `Input(shape)` object as the first layer in the model instead.\n",
            "  super().__init__(activity_regularizer=activity_regularizer, **kwargs)\n"
          ]
        },
        {
          "output_type": "stream",
          "name": "stdout",
          "text": [
            "Epoch 1/42\n",
            "\u001b[1m1500/1500\u001b[0m \u001b[32m━━━━━━━━━━━━━━━━━━━━\u001b[0m\u001b[37m\u001b[0m \u001b[1m3s\u001b[0m 2ms/step - accuracy: 0.6726 - loss: 60.7537 - val_accuracy: 0.8886 - val_loss: 5.1587\n",
            "Epoch 2/42\n",
            "\u001b[1m1500/1500\u001b[0m \u001b[32m━━━━━━━━━━━━━━━━━━━━\u001b[0m\u001b[37m\u001b[0m \u001b[1m3s\u001b[0m 2ms/step - accuracy: 0.9166 - loss: 3.3583 - val_accuracy: 0.9442 - val_loss: 1.7589\n",
            "Epoch 3/42\n",
            "\u001b[1m1500/1500\u001b[0m \u001b[32m━━━━━━━━━━━━━━━━━━━━\u001b[0m\u001b[37m\u001b[0m \u001b[1m4s\u001b[0m 2ms/step - accuracy: 0.9489 - loss: 1.4911 - val_accuracy: 0.9513 - val_loss: 1.3002\n",
            "Epoch 4/42\n",
            "\u001b[1m1500/1500\u001b[0m \u001b[32m━━━━━━━━━━━━━━━━━━━━\u001b[0m\u001b[37m\u001b[0m \u001b[1m3s\u001b[0m 2ms/step - accuracy: 0.9543 - loss: 1.1574 - val_accuracy: 0.9548 - val_loss: 1.0586\n",
            "Epoch 5/42\n",
            "\u001b[1m1500/1500\u001b[0m \u001b[32m━━━━━━━━━━━━━━━━━━━━\u001b[0m\u001b[37m\u001b[0m \u001b[1m3s\u001b[0m 2ms/step - accuracy: 0.9578 - loss: 0.9737 - val_accuracy: 0.9567 - val_loss: 0.8948\n",
            "Epoch 6/42\n",
            "\u001b[1m1500/1500\u001b[0m \u001b[32m━━━━━━━━━━━━━━━━━━━━\u001b[0m\u001b[37m\u001b[0m \u001b[1m3s\u001b[0m 2ms/step - accuracy: 0.9593 - loss: 0.8377 - val_accuracy: 0.9578 - val_loss: 0.7644\n",
            "Epoch 7/42\n",
            "\u001b[1m1500/1500\u001b[0m \u001b[32m━━━━━━━━━━━━━━━━━━━━\u001b[0m\u001b[37m\u001b[0m \u001b[1m4s\u001b[0m 2ms/step - accuracy: 0.9601 - loss: 0.7269 - val_accuracy: 0.9585 - val_loss: 0.6619\n",
            "Epoch 8/42\n",
            "\u001b[1m1500/1500\u001b[0m \u001b[32m━━━━━━━━━━━━━━━━━━━━\u001b[0m\u001b[37m\u001b[0m \u001b[1m3s\u001b[0m 2ms/step - accuracy: 0.9612 - loss: 0.6378 - val_accuracy: 0.9596 - val_loss: 0.5800\n",
            "Epoch 9/42\n",
            "\u001b[1m1500/1500\u001b[0m \u001b[32m━━━━━━━━━━━━━━━━━━━━\u001b[0m\u001b[37m\u001b[0m \u001b[1m3s\u001b[0m 2ms/step - accuracy: 0.9615 - loss: 0.5660 - val_accuracy: 0.9603 - val_loss: 0.5140\n",
            "Epoch 10/42\n",
            "\u001b[1m1500/1500\u001b[0m \u001b[32m━━━━━━━━━━━━━━━━━━━━\u001b[0m\u001b[37m\u001b[0m \u001b[1m3s\u001b[0m 2ms/step - accuracy: 0.9627 - loss: 0.5065 - val_accuracy: 0.9605 - val_loss: 0.4582\n",
            "Epoch 11/42\n",
            "\u001b[1m1500/1500\u001b[0m \u001b[32m━━━━━━━━━━━━━━━━━━━━\u001b[0m\u001b[37m\u001b[0m \u001b[1m3s\u001b[0m 2ms/step - accuracy: 0.9637 - loss: 0.4553 - val_accuracy: 0.9613 - val_loss: 0.4099\n",
            "Epoch 12/42\n",
            "\u001b[1m1500/1500\u001b[0m \u001b[32m━━━━━━━━━━━━━━━━━━━━\u001b[0m\u001b[37m\u001b[0m \u001b[1m3s\u001b[0m 2ms/step - accuracy: 0.9644 - loss: 0.4105 - val_accuracy: 0.9626 - val_loss: 0.3676\n",
            "Epoch 13/42\n",
            "\u001b[1m1500/1500\u001b[0m \u001b[32m━━━━━━━━━━━━━━━━━━━━\u001b[0m\u001b[37m\u001b[0m \u001b[1m3s\u001b[0m 2ms/step - accuracy: 0.9652 - loss: 0.3706 - val_accuracy: 0.9632 - val_loss: 0.3302\n",
            "Epoch 14/42\n",
            "\u001b[1m1500/1500\u001b[0m \u001b[32m━━━━━━━━━━━━━━━━━━━━\u001b[0m\u001b[37m\u001b[0m \u001b[1m3s\u001b[0m 2ms/step - accuracy: 0.9658 - loss: 0.3344 - val_accuracy: 0.9643 - val_loss: 0.2971\n",
            "Epoch 15/42\n",
            "\u001b[1m1500/1500\u001b[0m \u001b[32m━━━━━━━━━━━━━━━━━━━━\u001b[0m\u001b[37m\u001b[0m \u001b[1m4s\u001b[0m 2ms/step - accuracy: 0.9670 - loss: 0.3019 - val_accuracy: 0.9650 - val_loss: 0.2679\n",
            "Epoch 16/42\n",
            "\u001b[1m1500/1500\u001b[0m \u001b[32m━━━━━━━━━━━━━━━━━━━━\u001b[0m\u001b[37m\u001b[0m \u001b[1m3s\u001b[0m 2ms/step - accuracy: 0.9678 - loss: 0.2729 - val_accuracy: 0.9656 - val_loss: 0.2422\n",
            "Epoch 17/42\n",
            "\u001b[1m1500/1500\u001b[0m \u001b[32m━━━━━━━━━━━━━━━━━━━━\u001b[0m\u001b[37m\u001b[0m \u001b[1m3s\u001b[0m 2ms/step - accuracy: 0.9684 - loss: 0.2470 - val_accuracy: 0.9660 - val_loss: 0.2199\n",
            "Epoch 18/42\n",
            "\u001b[1m1500/1500\u001b[0m \u001b[32m━━━━━━━━━━━━━━━━━━━━\u001b[0m\u001b[37m\u001b[0m \u001b[1m3s\u001b[0m 2ms/step - accuracy: 0.9695 - loss: 0.2243 - val_accuracy: 0.9674 - val_loss: 0.2006\n",
            "Epoch 19/42\n",
            "\u001b[1m1500/1500\u001b[0m \u001b[32m━━━━━━━━━━━━━━━━━━━━\u001b[0m\u001b[37m\u001b[0m \u001b[1m4s\u001b[0m 2ms/step - accuracy: 0.9705 - loss: 0.2043 - val_accuracy: 0.9693 - val_loss: 0.1838\n",
            "Epoch 20/42\n",
            "\u001b[1m1500/1500\u001b[0m \u001b[32m━━━━━━━━━━━━━━━━━━━━\u001b[0m\u001b[37m\u001b[0m \u001b[1m3s\u001b[0m 2ms/step - accuracy: 0.9719 - loss: 0.1870 - val_accuracy: 0.9706 - val_loss: 0.1693\n",
            "Epoch 21/42\n",
            "\u001b[1m1500/1500\u001b[0m \u001b[32m━━━━━━━━━━━━━━━━━━━━\u001b[0m\u001b[37m\u001b[0m \u001b[1m3s\u001b[0m 2ms/step - accuracy: 0.9734 - loss: 0.1721 - val_accuracy: 0.9712 - val_loss: 0.1566\n",
            "Epoch 22/42\n",
            "\u001b[1m1500/1500\u001b[0m \u001b[32m━━━━━━━━━━━━━━━━━━━━\u001b[0m\u001b[37m\u001b[0m \u001b[1m3s\u001b[0m 2ms/step - accuracy: 0.9744 - loss: 0.1593 - val_accuracy: 0.9719 - val_loss: 0.1457\n",
            "Epoch 23/42\n",
            "\u001b[1m1500/1500\u001b[0m \u001b[32m━━━━━━━━━━━━━━━━━━━━\u001b[0m\u001b[37m\u001b[0m \u001b[1m3s\u001b[0m 2ms/step - accuracy: 0.9756 - loss: 0.1483 - val_accuracy: 0.9727 - val_loss: 0.1362\n",
            "Epoch 24/42\n",
            "\u001b[1m1500/1500\u001b[0m \u001b[32m━━━━━━━━━━━━━━━━━━━━\u001b[0m\u001b[37m\u001b[0m \u001b[1m3s\u001b[0m 2ms/step - accuracy: 0.9760 - loss: 0.1390 - val_accuracy: 0.9740 - val_loss: 0.1280\n",
            "Epoch 25/42\n",
            "\u001b[1m1500/1500\u001b[0m \u001b[32m━━━━━━━━━━━━━━━━━━━━\u001b[0m\u001b[37m\u001b[0m \u001b[1m3s\u001b[0m 2ms/step - accuracy: 0.9769 - loss: 0.1310 - val_accuracy: 0.9749 - val_loss: 0.1210\n",
            "Epoch 26/42\n",
            "\u001b[1m1500/1500\u001b[0m \u001b[32m━━━━━━━━━━━━━━━━━━━━\u001b[0m\u001b[37m\u001b[0m \u001b[1m3s\u001b[0m 2ms/step - accuracy: 0.9773 - loss: 0.1241 - val_accuracy: 0.9750 - val_loss: 0.1148\n",
            "Epoch 27/42\n",
            "\u001b[1m1500/1500\u001b[0m \u001b[32m━━━━━━━━━━━━━━━━━━━━\u001b[0m\u001b[37m\u001b[0m \u001b[1m3s\u001b[0m 2ms/step - accuracy: 0.9778 - loss: 0.1182 - val_accuracy: 0.9750 - val_loss: 0.1095\n",
            "Epoch 28/42\n",
            "\u001b[1m1500/1500\u001b[0m \u001b[32m━━━━━━━━━━━━━━━━━━━━\u001b[0m\u001b[37m\u001b[0m \u001b[1m4s\u001b[0m 2ms/step - accuracy: 0.9787 - loss: 0.1129 - val_accuracy: 0.9753 - val_loss: 0.1048\n",
            "Epoch 29/42\n",
            "\u001b[1m1500/1500\u001b[0m \u001b[32m━━━━━━━━━━━━━━━━━━━━\u001b[0m\u001b[37m\u001b[0m \u001b[1m3s\u001b[0m 2ms/step - accuracy: 0.9794 - loss: 0.1084 - val_accuracy: 0.9759 - val_loss: 0.1008\n",
            "Epoch 30/42\n",
            "\u001b[1m1500/1500\u001b[0m \u001b[32m━━━━━━━━━━━━━━━━━━━━\u001b[0m\u001b[37m\u001b[0m \u001b[1m3s\u001b[0m 2ms/step - accuracy: 0.9798 - loss: 0.1043 - val_accuracy: 0.9761 - val_loss: 0.0972\n",
            "Epoch 31/42\n",
            "\u001b[1m1500/1500\u001b[0m \u001b[32m━━━━━━━━━━━━━━━━━━━━\u001b[0m\u001b[37m\u001b[0m \u001b[1m3s\u001b[0m 2ms/step - accuracy: 0.9801 - loss: 0.1007 - val_accuracy: 0.9767 - val_loss: 0.0940\n",
            "Epoch 32/42\n",
            "\u001b[1m1500/1500\u001b[0m \u001b[32m━━━━━━━━━━━━━━━━━━━━\u001b[0m\u001b[37m\u001b[0m \u001b[1m4s\u001b[0m 2ms/step - accuracy: 0.9806 - loss: 0.0975 - val_accuracy: 0.9773 - val_loss: 0.0912\n",
            "Epoch 33/42\n",
            "\u001b[1m1500/1500\u001b[0m \u001b[32m━━━━━━━━━━━━━━━━━━━━\u001b[0m\u001b[37m\u001b[0m \u001b[1m4s\u001b[0m 2ms/step - accuracy: 0.9808 - loss: 0.0946 - val_accuracy: 0.9779 - val_loss: 0.0887\n",
            "Epoch 34/42\n",
            "\u001b[1m1500/1500\u001b[0m \u001b[32m━━━━━━━━━━━━━━━━━━━━\u001b[0m\u001b[37m\u001b[0m \u001b[1m3s\u001b[0m 2ms/step - accuracy: 0.9811 - loss: 0.0920 - val_accuracy: 0.9781 - val_loss: 0.0864\n",
            "Epoch 35/42\n",
            "\u001b[1m1500/1500\u001b[0m \u001b[32m━━━━━━━━━━━━━━━━━━━━\u001b[0m\u001b[37m\u001b[0m \u001b[1m3s\u001b[0m 2ms/step - accuracy: 0.9813 - loss: 0.0897 - val_accuracy: 0.9786 - val_loss: 0.0844\n",
            "Epoch 36/42\n",
            "\u001b[1m1500/1500\u001b[0m \u001b[32m━━━━━━━━━━━━━━━━━━━━\u001b[0m\u001b[37m\u001b[0m \u001b[1m4s\u001b[0m 2ms/step - accuracy: 0.9816 - loss: 0.0876 - val_accuracy: 0.9789 - val_loss: 0.0826\n",
            "Epoch 37/42\n",
            "\u001b[1m1500/1500\u001b[0m \u001b[32m━━━━━━━━━━━━━━━━━━━━\u001b[0m\u001b[37m\u001b[0m \u001b[1m3s\u001b[0m 2ms/step - accuracy: 0.9814 - loss: 0.0857 - val_accuracy: 0.9791 - val_loss: 0.0809\n",
            "Epoch 38/42\n",
            "\u001b[1m1500/1500\u001b[0m \u001b[32m━━━━━━━━━━━━━━━━━━━━\u001b[0m\u001b[37m\u001b[0m \u001b[1m3s\u001b[0m 2ms/step - accuracy: 0.9817 - loss: 0.0840 - val_accuracy: 0.9793 - val_loss: 0.0794\n",
            "Epoch 39/42\n",
            "\u001b[1m1500/1500\u001b[0m \u001b[32m━━━━━━━━━━━━━━━━━━━━\u001b[0m\u001b[37m\u001b[0m \u001b[1m3s\u001b[0m 2ms/step - accuracy: 0.9819 - loss: 0.0824 - val_accuracy: 0.9795 - val_loss: 0.0780\n",
            "Epoch 40/42\n",
            "\u001b[1m1500/1500\u001b[0m \u001b[32m━━━━━━━━━━━━━━━━━━━━\u001b[0m\u001b[37m\u001b[0m \u001b[1m4s\u001b[0m 2ms/step - accuracy: 0.9820 - loss: 0.0809 - val_accuracy: 0.9797 - val_loss: 0.0767\n",
            "Epoch 41/42\n",
            "\u001b[1m1500/1500\u001b[0m \u001b[32m━━━━━━━━━━━━━━━━━━━━\u001b[0m\u001b[37m\u001b[0m \u001b[1m3s\u001b[0m 2ms/step - accuracy: 0.9822 - loss: 0.0796 - val_accuracy: 0.9797 - val_loss: 0.0756\n",
            "Epoch 42/42\n",
            "\u001b[1m1500/1500\u001b[0m \u001b[32m━━━━━━━━━━━━━━━━━━━━\u001b[0m\u001b[37m\u001b[0m \u001b[1m3s\u001b[0m 2ms/step - accuracy: 0.9823 - loss: 0.0784 - val_accuracy: 0.9798 - val_loss: 0.0745\n",
            "Learned Parameters (Including Bias as Final Term):\n",
            "[array([[ 7.51699269e-01],\n",
            "       [ 7.51379073e-01],\n",
            "       [ 7.49265134e-01],\n",
            "       [ 7.45045125e-01],\n",
            "       [ 7.36116469e-01],\n",
            "       [ 7.30388045e-01],\n",
            "       [ 7.23919451e-01],\n",
            "       [ 6.99587464e-01],\n",
            "       [ 6.47576928e-01],\n",
            "       [ 5.63863873e-01],\n",
            "       [ 4.41671073e-01],\n",
            "       [ 3.25008601e-01],\n",
            "       [ 2.25069657e-01],\n",
            "       [ 2.10115343e-01],\n",
            "       [ 2.04893574e-01],\n",
            "       [ 1.79117963e-01],\n",
            "       [ 2.20101193e-01],\n",
            "       [ 3.46145540e-01],\n",
            "       [ 4.75821167e-01],\n",
            "       [ 5.81704855e-01],\n",
            "       [ 6.47599876e-01],\n",
            "       [ 6.74789846e-01],\n",
            "       [ 6.79435015e-01],\n",
            "       [ 6.78544998e-01],\n",
            "       [ 7.19960213e-01],\n",
            "       [ 7.36098111e-01],\n",
            "       [ 7.47150302e-01],\n",
            "       [ 7.50477016e-01],\n",
            "       [ 7.51106203e-01],\n",
            "       [ 7.48317778e-01],\n",
            "       [ 7.43436754e-01],\n",
            "       [ 7.24426448e-01],\n",
            "       [ 7.00963318e-01],\n",
            "       [ 6.68566108e-01],\n",
            "       [ 5.54947615e-01],\n",
            "       [ 3.82209122e-01],\n",
            "       [ 1.94164708e-01],\n",
            "       [ 1.18854688e-02],\n",
            "       [-1.50703102e-01],\n",
            "       [-3.56480598e-01],\n",
            "       [-4.82760519e-01],\n",
            "       [-4.54619497e-01],\n",
            "       [-4.35909241e-01],\n",
            "       [-5.28303981e-01],\n",
            "       [-5.31513155e-01],\n",
            "       [-3.47320020e-01],\n",
            "       [-1.62754476e-01],\n",
            "       [-7.94864667e-04],\n",
            "       [ 1.94740131e-01],\n",
            "       [ 3.57969612e-01],\n",
            "       [ 4.83534217e-01],\n",
            "       [ 5.36340475e-01],\n",
            "       [ 6.25972807e-01],\n",
            "       [ 6.85531795e-01],\n",
            "       [ 7.21423924e-01],\n",
            "       [ 7.51896739e-01],\n",
            "       [ 7.48286784e-01],\n",
            "       [ 7.40743577e-01],\n",
            "       [ 7.27274239e-01],\n",
            "       [ 6.92695856e-01],\n",
            "       [ 6.48192286e-01],\n",
            "       [ 4.76286769e-01],\n",
            "       [ 2.35109925e-01],\n",
            "       [ 6.75064698e-02],\n",
            "       [-9.23258439e-02],\n",
            "       [-2.65074551e-01],\n",
            "       [-3.87848347e-01],\n",
            "       [-4.68964070e-01],\n",
            "       [-5.18457711e-01],\n",
            "       [-4.84115541e-01],\n",
            "       [-4.74146545e-01],\n",
            "       [-5.32424748e-01],\n",
            "       [-5.63596487e-01],\n",
            "       [-4.94023621e-01],\n",
            "       [-3.83698851e-01],\n",
            "       [-2.37387761e-01],\n",
            "       [-1.23342827e-01],\n",
            "       [ 3.97144398e-03],\n",
            "       [ 2.05921084e-01],\n",
            "       [ 4.04201448e-01],\n",
            "       [ 5.27081370e-01],\n",
            "       [ 6.27279103e-01],\n",
            "       [ 6.89030170e-01],\n",
            "       [ 7.39216506e-01],\n",
            "       [ 7.45222688e-01],\n",
            "       [ 7.29310036e-01],\n",
            "       [ 7.02270389e-01],\n",
            "       [ 6.56187892e-01],\n",
            "       [ 5.26134133e-01],\n",
            "       [ 2.50912070e-01],\n",
            "       [ 1.23512009e-02],\n",
            "       [-1.61988169e-01],\n",
            "       [-3.14337760e-01],\n",
            "       [-4.24454898e-01],\n",
            "       [-4.95572031e-01],\n",
            "       [-5.24749875e-01],\n",
            "       [-5.18196642e-01],\n",
            "       [-4.98130918e-01],\n",
            "       [-4.59034860e-01],\n",
            "       [-4.67668056e-01],\n",
            "       [-4.90564764e-01],\n",
            "       [-4.21896011e-01],\n",
            "       [-4.40149724e-01],\n",
            "       [-4.08043474e-01],\n",
            "       [-2.87683159e-01],\n",
            "       [-1.41866460e-01],\n",
            "       [ 3.46989147e-02],\n",
            "       [ 2.24275202e-01],\n",
            "       [ 4.31761742e-01],\n",
            "       [ 5.80746114e-01],\n",
            "       [ 6.85905218e-01],\n",
            "       [ 7.34378397e-01],\n",
            "       [ 7.40011036e-01],\n",
            "       [ 7.01384783e-01],\n",
            "       [ 6.52080953e-01],\n",
            "       [ 5.72594702e-01],\n",
            "       [ 3.60091895e-01],\n",
            "       [ 4.49753478e-02],\n",
            "       [-2.18805030e-01],\n",
            "       [-3.86944830e-01],\n",
            "       [-4.69702184e-01],\n",
            "       [-5.33807576e-01],\n",
            "       [-5.86501181e-01],\n",
            "       [-5.69942296e-01],\n",
            "       [-5.27210891e-01],\n",
            "       [-4.99279648e-01],\n",
            "       [-4.25071925e-01],\n",
            "       [-4.02249753e-01],\n",
            "       [-3.07762831e-01],\n",
            "       [-1.83924630e-01],\n",
            "       [-1.36603221e-01],\n",
            "       [-2.97480196e-01],\n",
            "       [-3.29439938e-01],\n",
            "       [-2.23060742e-01],\n",
            "       [-4.74517122e-02],\n",
            "       [ 1.34956375e-01],\n",
            "       [ 3.64562213e-01],\n",
            "       [ 4.94747132e-01],\n",
            "       [ 5.98055601e-01],\n",
            "       [ 7.22465754e-01],\n",
            "       [ 7.21951187e-01],\n",
            "       [ 6.47087157e-01],\n",
            "       [ 5.70033789e-01],\n",
            "       [ 4.45280075e-01],\n",
            "       [ 1.70918673e-01],\n",
            "       [-1.79127559e-01],\n",
            "       [-4.43278313e-01],\n",
            "       [-5.56995749e-01],\n",
            "       [-6.12711966e-01],\n",
            "       [-6.63281918e-01],\n",
            "       [-6.98264360e-01],\n",
            "       [-6.47778153e-01],\n",
            "       [-6.09724104e-01],\n",
            "       [-5.34256339e-01],\n",
            "       [-4.07272935e-01],\n",
            "       [-2.25264326e-01],\n",
            "       [-5.14044464e-02],\n",
            "       [ 1.13974534e-01],\n",
            "       [ 2.10447460e-01],\n",
            "       [-1.58519503e-02],\n",
            "       [-2.18916163e-01],\n",
            "       [-2.04447463e-01],\n",
            "       [-1.73647508e-01],\n",
            "       [ 5.89249060e-02],\n",
            "       [ 2.31302261e-01],\n",
            "       [ 2.69461036e-01],\n",
            "       [ 3.95097464e-01],\n",
            "       [ 6.43516421e-01],\n",
            "       [ 7.04833865e-01],\n",
            "       [ 5.91924429e-01],\n",
            "       [ 4.68817979e-01],\n",
            "       [ 2.85474241e-01],\n",
            "       [-1.81662533e-02],\n",
            "       [-3.89453977e-01],\n",
            "       [-6.34229362e-01],\n",
            "       [-7.09903479e-01],\n",
            "       [-7.44459927e-01],\n",
            "       [-7.86100447e-01],\n",
            "       [-7.93897510e-01],\n",
            "       [-6.98031545e-01],\n",
            "       [-6.14591241e-01],\n",
            "       [-4.63750601e-01],\n",
            "       [-2.30234995e-01],\n",
            "       [-3.35164443e-02],\n",
            "       [ 7.69321844e-02],\n",
            "       [ 2.38342464e-01],\n",
            "       [ 5.50797522e-01],\n",
            "       [ 3.37173611e-01],\n",
            "       [-4.57322113e-02],\n",
            "       [-2.07812384e-01],\n",
            "       [-2.58439511e-01],\n",
            "       [-1.54393226e-01],\n",
            "       [ 3.82847339e-02],\n",
            "       [-1.04491234e-01],\n",
            "       [ 1.12955933e-02],\n",
            "       [ 5.45952916e-01],\n",
            "       [ 6.78997755e-01],\n",
            "       [ 5.15574813e-01],\n",
            "       [ 3.51134956e-01],\n",
            "       [ 1.22699477e-01],\n",
            "       [-2.10850209e-01],\n",
            "       [-5.86877704e-01],\n",
            "       [-7.89742708e-01],\n",
            "       [-8.62181246e-01],\n",
            "       [-8.74767423e-01],\n",
            "       [-8.94419372e-01],\n",
            "       [-8.62343490e-01],\n",
            "       [-8.03512394e-01],\n",
            "       [-6.47900522e-01],\n",
            "       [-3.19268435e-01],\n",
            "       [-1.27951965e-01],\n",
            "       [ 1.81614179e-02],\n",
            "       [-2.44277567e-02],\n",
            "       [ 2.41462618e-01],\n",
            "       [ 5.76248944e-01],\n",
            "       [ 6.04582131e-01],\n",
            "       [ 1.10374339e-01],\n",
            "       [-3.33243847e-01],\n",
            "       [-3.63413543e-01],\n",
            "       [-2.11803764e-01],\n",
            "       [-6.58837929e-02],\n",
            "       [-3.93052429e-01],\n",
            "       [-3.38626713e-01],\n",
            "       [ 4.71972823e-01],\n",
            "       [ 6.52639508e-01],\n",
            "       [ 4.24416661e-01],\n",
            "       [ 2.36217603e-01],\n",
            "       [-2.22943965e-02],\n",
            "       [-3.79938722e-01],\n",
            "       [-7.46422410e-01],\n",
            "       [-9.25238132e-01],\n",
            "       [-1.00332630e+00],\n",
            "       [-9.91375804e-01],\n",
            "       [-9.78533447e-01],\n",
            "       [-9.62835193e-01],\n",
            "       [-8.14490438e-01],\n",
            "       [-3.93436700e-01],\n",
            "       [-4.09275070e-02],\n",
            "       [ 3.01460940e-02],\n",
            "       [-1.15170494e-01],\n",
            "       [-1.28963571e-02],\n",
            "       [ 3.94423038e-01],\n",
            "       [ 4.19293731e-01],\n",
            "       [ 2.18547791e-01],\n",
            "       [-1.64198708e-02],\n",
            "       [-1.94231585e-01],\n",
            "       [-3.36270154e-01],\n",
            "       [-2.37659633e-01],\n",
            "       [ 1.82284359e-02],\n",
            "       [-2.98005044e-01],\n",
            "       [-3.38129848e-01],\n",
            "       [ 4.64139968e-01],\n",
            "       [ 6.35484219e-01],\n",
            "       [ 3.53543401e-01],\n",
            "       [ 1.70854792e-01],\n",
            "       [-9.93579030e-02],\n",
            "       [-4.92598265e-01],\n",
            "       [-8.61703992e-01],\n",
            "       [-1.03301179e+00],\n",
            "       [-1.10168433e+00],\n",
            "       [-1.08699822e+00],\n",
            "       [-1.04297328e+00],\n",
            "       [-9.47308838e-01],\n",
            "       [-5.44722319e-01],\n",
            "       [-6.88194260e-02],\n",
            "       [ 1.42237321e-01],\n",
            "       [-1.97944969e-01],\n",
            "       [-3.19871396e-01],\n",
            "       [ 2.77568042e-01],\n",
            "       [ 7.51914024e-01],\n",
            "       [ 4.36611742e-01],\n",
            "       [-9.58060995e-02],\n",
            "       [-3.17147970e-01],\n",
            "       [-3.92317086e-01],\n",
            "       [-2.55813897e-01],\n",
            "       [-7.41742328e-02],\n",
            "       [ 1.49493096e-02],\n",
            "       [-3.71856615e-02],\n",
            "       [-2.39941970e-01],\n",
            "       [ 4.22574103e-01],\n",
            "       [ 6.17888510e-01],\n",
            "       [ 3.20558369e-01],\n",
            "       [ 1.46780238e-01],\n",
            "       [-1.61175296e-01],\n",
            "       [-5.39416492e-01],\n",
            "       [-8.98314416e-01],\n",
            "       [-1.06687689e+00],\n",
            "       [-1.10493731e+00],\n",
            "       [-1.05496502e+00],\n",
            "       [-8.66981030e-01],\n",
            "       [-4.95750844e-01],\n",
            "       [ 1.64129391e-01],\n",
            "       [ 4.38077390e-01],\n",
            "       [-3.72123569e-02],\n",
            "       [-1.34385034e-01],\n",
            "       [-2.90716231e-01],\n",
            "       [-2.99480110e-02],\n",
            "       [ 4.85082000e-01],\n",
            "       [ 2.77989030e-01],\n",
            "       [-5.03197573e-02],\n",
            "       [-2.86841720e-01],\n",
            "       [-3.71238500e-01],\n",
            "       [-1.55000493e-01],\n",
            "       [ 1.15361866e-02],\n",
            "       [ 5.71680479e-02],\n",
            "       [ 1.76921487e-01],\n",
            "       [-1.70368046e-01],\n",
            "       [ 3.52081418e-01],\n",
            "       [ 5.96607983e-01],\n",
            "       [ 2.73854524e-01],\n",
            "       [ 1.31738946e-01],\n",
            "       [-1.65154487e-01],\n",
            "       [-5.54626048e-01],\n",
            "       [-9.00869370e-01],\n",
            "       [-1.00053024e+00],\n",
            "       [-9.69521046e-01],\n",
            "       [-6.63656175e-01],\n",
            "       [-2.08180934e-01],\n",
            "       [ 2.27521896e-01],\n",
            "       [ 5.54679334e-01],\n",
            "       [ 2.20494971e-01],\n",
            "       [ 4.18417491e-02],\n",
            "       [-9.82760414e-02],\n",
            "       [-1.63302004e-01],\n",
            "       [ 7.18921470e-03],\n",
            "       [ 2.02715218e-01],\n",
            "       [ 1.27210394e-01],\n",
            "       [-7.93342590e-02],\n",
            "       [-2.58684635e-01],\n",
            "       [-1.85025707e-01],\n",
            "       [-1.05513841e-01],\n",
            "       [-1.89833432e-01],\n",
            "       [ 1.50076285e-01],\n",
            "       [ 2.64120489e-01],\n",
            "       [ 2.97606856e-01],\n",
            "       [ 3.81684363e-01],\n",
            "       [ 5.78160882e-01],\n",
            "       [ 2.40272015e-01],\n",
            "       [ 1.42919034e-01],\n",
            "       [-1.09072469e-01],\n",
            "       [-4.22578931e-01],\n",
            "       [-6.57997012e-01],\n",
            "       [-6.73253119e-01],\n",
            "       [-5.31859398e-01],\n",
            "       [-2.81734318e-02],\n",
            "       [ 2.67095864e-01],\n",
            "       [ 3.30563456e-01],\n",
            "       [ 1.93991631e-01],\n",
            "       [ 5.18751591e-02],\n",
            "       [ 7.04064742e-02],\n",
            "       [ 4.90731141e-03],\n",
            "       [ 2.25971133e-01],\n",
            "       [ 1.36388570e-01],\n",
            "       [ 1.53967723e-01],\n",
            "       [ 1.37959033e-01],\n",
            "       [ 1.79100633e-01],\n",
            "       [ 3.67019922e-02],\n",
            "       [-1.32525414e-01],\n",
            "       [-2.25039795e-01],\n",
            "       [-1.73974007e-01],\n",
            "       [ 1.19524896e-01],\n",
            "       [ 3.08036417e-01],\n",
            "       [ 2.69286633e-01],\n",
            "       [ 4.18626159e-01],\n",
            "       [ 5.22876263e-01],\n",
            "       [ 2.73380160e-01],\n",
            "       [ 2.93615967e-01],\n",
            "       [ 1.18888013e-01],\n",
            "       [-1.24968201e-01],\n",
            "       [-5.13080895e-01],\n",
            "       [-4.49104488e-01],\n",
            "       [-6.68961033e-02],\n",
            "       [ 1.54458478e-01],\n",
            "       [ 2.68443972e-01],\n",
            "       [ 1.82139546e-01],\n",
            "       [ 1.88968927e-01],\n",
            "       [ 1.38872340e-01],\n",
            "       [ 1.31254047e-01],\n",
            "       [ 1.97374150e-01],\n",
            "       [ 1.64978310e-01],\n",
            "       [ 1.37669593e-01],\n",
            "       [ 3.11767068e-02],\n",
            "       [ 6.33497909e-02],\n",
            "       [ 1.87659904e-01],\n",
            "       [ 1.73726737e-01],\n",
            "       [ 6.75367713e-02],\n",
            "       [-1.24850862e-01],\n",
            "       [-2.96245562e-04],\n",
            "       [ 3.06343287e-01],\n",
            "       [ 4.88579899e-01],\n",
            "       [ 6.53250292e-02],\n",
            "       [ 4.47346240e-01],\n",
            "       [ 5.07384837e-01],\n",
            "       [ 4.43871409e-01],\n",
            "       [ 4.87662077e-01],\n",
            "       [ 2.37470508e-01],\n",
            "       [-1.20605305e-01],\n",
            "       [-7.13739097e-01],\n",
            "       [-4.16671634e-01],\n",
            "       [-1.07920632e-01],\n",
            "       [ 7.44860843e-02],\n",
            "       [ 9.88567770e-02],\n",
            "       [ 1.49303123e-01],\n",
            "       [ 2.15311185e-01],\n",
            "       [ 1.32001728e-01],\n",
            "       [ 4.75667790e-02],\n",
            "       [ 7.92902336e-02],\n",
            "       [ 2.10026026e-01],\n",
            "       [ 2.33800501e-01],\n",
            "       [ 3.85498293e-02],\n",
            "       [-8.95029902e-02],\n",
            "       [-1.08202793e-01],\n",
            "       [-1.21267863e-01],\n",
            "       [-5.34998365e-02],\n",
            "       [-1.09095268e-01],\n",
            "       [ 1.36469737e-01],\n",
            "       [ 3.94934505e-01],\n",
            "       [ 6.25216961e-01],\n",
            "       [ 4.58266400e-02],\n",
            "       [ 2.79473007e-01],\n",
            "       [ 6.31484926e-01],\n",
            "       [ 4.51320738e-01],\n",
            "       [ 4.12066042e-01],\n",
            "       [ 1.75282136e-01],\n",
            "       [-2.08481103e-01],\n",
            "       [-6.63510978e-01],\n",
            "       [-4.00556207e-01],\n",
            "       [-1.20742120e-01],\n",
            "       [ 6.29772712e-03],\n",
            "       [ 1.20429687e-01],\n",
            "       [ 1.21978104e-01],\n",
            "       [-1.85090285e-02],\n",
            "       [-4.84574139e-02],\n",
            "       [ 5.22065461e-02],\n",
            "       [ 1.07250273e-01],\n",
            "       [ 7.93777481e-02],\n",
            "       [ 1.34012848e-02],\n",
            "       [-2.63711121e-02],\n",
            "       [-4.13124822e-02],\n",
            "       [-2.22647846e-01],\n",
            "       [-1.70057118e-01],\n",
            "       [-6.07228205e-02],\n",
            "       [-2.91406587e-02],\n",
            "       [ 9.98314992e-02],\n",
            "       [ 2.15180263e-01],\n",
            "       [ 5.87692201e-01],\n",
            "       [ 7.37400586e-03],\n",
            "       [-8.70073736e-02],\n",
            "       [ 7.52851009e-01],\n",
            "       [ 4.32988107e-01],\n",
            "       [ 1.74168795e-01],\n",
            "       [-2.80138967e-03],\n",
            "       [-4.22491223e-01],\n",
            "       [-6.68282449e-01],\n",
            "       [-4.34573412e-01],\n",
            "       [-2.50653923e-01],\n",
            "       [-9.10317674e-02],\n",
            "       [ 3.58071402e-02],\n",
            "       [ 1.19739361e-01],\n",
            "       [-3.96982916e-02],\n",
            "       [ 2.97428276e-02],\n",
            "       [ 6.89088479e-02],\n",
            "       [ 8.06767121e-02],\n",
            "       [ 1.19815543e-02],\n",
            "       [ 8.16942528e-02],\n",
            "       [ 1.11390233e-01],\n",
            "       [-1.03843674e-01],\n",
            "       [-1.79521799e-01],\n",
            "       [-1.62078403e-02],\n",
            "       [-4.93606217e-02],\n",
            "       [-1.78784594e-01],\n",
            "       [-7.46556073e-02],\n",
            "       [ 9.26879644e-02],\n",
            "       [ 2.08932608e-01],\n",
            "       [-1.49389565e-01],\n",
            "       [-2.33542547e-01],\n",
            "       [ 6.92377627e-01],\n",
            "       [ 5.03616631e-01],\n",
            "       [ 4.04922336e-01],\n",
            "       [-3.83457132e-02],\n",
            "       [-3.54825288e-01],\n",
            "       [-3.95543218e-01],\n",
            "       [-2.57585257e-01],\n",
            "       [-1.36256039e-01],\n",
            "       [ 1.02434569e-04],\n",
            "       [-1.12542681e-01],\n",
            "       [ 8.02220255e-02],\n",
            "       [ 1.36348397e-01],\n",
            "       [ 1.29321143e-01],\n",
            "       [ 7.10940883e-02],\n",
            "       [-4.34246324e-02],\n",
            "       [-6.19375445e-02],\n",
            "       [ 9.50953141e-02],\n",
            "       [ 1.07796088e-01],\n",
            "       [-1.55835763e-01],\n",
            "       [-1.40661761e-01],\n",
            "       [ 1.28170788e-01],\n",
            "       [-3.58453244e-02],\n",
            "       [-1.49775818e-01],\n",
            "       [-1.51008472e-01],\n",
            "       [-1.70084208e-01],\n",
            "       [-1.43668249e-01],\n",
            "       [-2.43614167e-01],\n",
            "       [-1.99464008e-01],\n",
            "       [ 7.29801357e-01],\n",
            "       [ 3.67242247e-01],\n",
            "       [ 3.02743465e-01],\n",
            "       [ 2.45962795e-02],\n",
            "       [-2.60783195e-01],\n",
            "       [-2.31655255e-01],\n",
            "       [-2.16764644e-01],\n",
            "       [-1.20520130e-01],\n",
            "       [-8.00475180e-02],\n",
            "       [ 3.27803232e-02],\n",
            "       [ 9.59655643e-02],\n",
            "       [ 1.45145059e-02],\n",
            "       [ 1.89850200e-03],\n",
            "       [ 7.88345858e-02],\n",
            "       [ 9.47823524e-02],\n",
            "       [-1.36571946e-02],\n",
            "       [-8.38859603e-02],\n",
            "       [-1.08555682e-01],\n",
            "       [-5.34107024e-03],\n",
            "       [ 8.24153349e-02],\n",
            "       [ 1.89819142e-01],\n",
            "       [ 8.30854252e-02],\n",
            "       [-1.27800450e-01],\n",
            "       [-1.67563841e-01],\n",
            "       [-1.07888795e-01],\n",
            "       [-8.21508318e-02],\n",
            "       [-3.36211696e-02],\n",
            "       [ 2.29668289e-01],\n",
            "       [ 6.85641348e-01],\n",
            "       [ 3.89037222e-01],\n",
            "       [ 2.04400674e-01],\n",
            "       [-1.61090884e-02],\n",
            "       [-1.86300769e-01],\n",
            "       [-4.00740504e-01],\n",
            "       [-2.55867749e-01],\n",
            "       [-9.77533460e-02],\n",
            "       [-1.18228652e-01],\n",
            "       [-2.18848005e-01],\n",
            "       [-2.73919702e-01],\n",
            "       [-1.99850574e-01],\n",
            "       [-1.62091210e-01],\n",
            "       [-1.37987882e-02],\n",
            "       [ 9.82938409e-02],\n",
            "       [ 1.74868807e-01],\n",
            "       [ 1.48479342e-01],\n",
            "       [ 1.82714090e-01],\n",
            "       [ 2.07614794e-01],\n",
            "       [ 2.33167663e-01],\n",
            "       [ 6.50537312e-02],\n",
            "       [ 1.20930339e-03],\n",
            "       [-8.85249972e-02],\n",
            "       [-2.15527624e-01],\n",
            "       [-1.96244419e-01],\n",
            "       [-2.41178811e-01],\n",
            "       [-2.73525566e-02],\n",
            "       [ 6.64199531e-01],\n",
            "       [ 6.96313500e-01],\n",
            "       [ 5.70758462e-01],\n",
            "       [ 4.79435772e-01],\n",
            "       [ 2.40773425e-01],\n",
            "       [-4.19820212e-02],\n",
            "       [-2.50957996e-01],\n",
            "       [-2.24026695e-01],\n",
            "       [-1.35948509e-01],\n",
            "       [-1.87012121e-01],\n",
            "       [-2.88847595e-01],\n",
            "       [-3.35273325e-01],\n",
            "       [-2.72596896e-01],\n",
            "       [-1.95244074e-01],\n",
            "       [-1.61084145e-01],\n",
            "       [ 1.29561569e-03],\n",
            "       [ 1.36979580e-01],\n",
            "       [ 3.20407182e-01],\n",
            "       [ 5.79741895e-01],\n",
            "       [ 6.39303684e-01],\n",
            "       [ 3.89393240e-01],\n",
            "       [-1.44479712e-02],\n",
            "       [-9.35152546e-02],\n",
            "       [-2.33606532e-01],\n",
            "       [-2.61356860e-01],\n",
            "       [-1.53574571e-01],\n",
            "       [-1.98779613e-01],\n",
            "       [-3.55415605e-02],\n",
            "       [ 5.91547787e-01],\n",
            "       [ 7.47965395e-01],\n",
            "       [ 6.77266002e-01],\n",
            "       [ 5.98090708e-01],\n",
            "       [ 3.40292335e-01],\n",
            "       [-2.00754199e-02],\n",
            "       [-2.24456131e-01],\n",
            "       [-2.44112417e-01],\n",
            "       [-2.13182405e-01],\n",
            "       [-3.25810641e-01],\n",
            "       [-3.45697492e-01],\n",
            "       [-3.51481915e-01],\n",
            "       [-3.55688959e-01],\n",
            "       [-3.16889584e-01],\n",
            "       [-1.77571237e-01],\n",
            "       [-1.93536784e-02],\n",
            "       [ 1.46656409e-01],\n",
            "       [ 3.78071874e-01],\n",
            "       [ 5.56336224e-01],\n",
            "       [ 7.30305970e-01],\n",
            "       [ 3.19145322e-01],\n",
            "       [-2.09582418e-01],\n",
            "       [-2.59815335e-01],\n",
            "       [-4.11154062e-01],\n",
            "       [-4.53340411e-01],\n",
            "       [-3.17844093e-01],\n",
            "       [-1.99617803e-01],\n",
            "       [ 1.60033517e-02],\n",
            "       [ 4.84950185e-01],\n",
            "       [ 7.29707122e-01],\n",
            "       [ 7.00975358e-01],\n",
            "       [ 6.02005124e-01],\n",
            "       [ 3.49796027e-01],\n",
            "       [ 1.24242241e-02],\n",
            "       [-1.52308181e-01],\n",
            "       [-1.76332697e-01],\n",
            "       [-1.54531106e-01],\n",
            "       [-3.82388622e-01],\n",
            "       [-4.49164540e-01],\n",
            "       [-4.44820613e-01],\n",
            "       [-3.99115384e-01],\n",
            "       [-3.69173944e-01],\n",
            "       [-1.82746187e-01],\n",
            "       [ 3.57285105e-02],\n",
            "       [ 2.11682245e-01],\n",
            "       [ 3.34351838e-01],\n",
            "       [ 4.55958754e-01],\n",
            "       [ 5.35566986e-01],\n",
            "       [ 1.85061380e-01],\n",
            "       [-2.12868661e-01],\n",
            "       [-1.88642427e-01],\n",
            "       [-2.96752006e-01],\n",
            "       [-3.43551397e-01],\n",
            "       [-1.50429860e-01],\n",
            "       [-4.83331494e-02],\n",
            "       [ 8.13538656e-02],\n",
            "       [ 5.03802299e-01],\n",
            "       [ 7.22907543e-01],\n",
            "       [ 5.74868560e-01],\n",
            "       [ 4.56742883e-01],\n",
            "       [ 2.39210159e-01],\n",
            "       [-7.03940317e-02],\n",
            "       [-2.15099841e-01],\n",
            "       [-1.98793486e-01],\n",
            "       [-1.89373150e-01],\n",
            "       [-3.93611670e-01],\n",
            "       [-4.39211279e-01],\n",
            "       [-3.94760519e-01],\n",
            "       [-3.79550219e-01],\n",
            "       [-3.63660306e-01],\n",
            "       [-2.78611690e-01],\n",
            "       [-2.40668073e-01],\n",
            "       [-2.31719851e-01],\n",
            "       [-1.82645917e-01],\n",
            "       [-1.11643434e-01],\n",
            "       [-1.21117532e-01],\n",
            "       [-2.22467914e-01],\n",
            "       [-1.71909109e-01],\n",
            "       [-1.37852386e-01],\n",
            "       [-2.81434745e-01],\n",
            "       [-2.74195224e-01],\n",
            "       [-6.20586239e-02],\n",
            "       [ 8.35706294e-02],\n",
            "       [ 2.78093219e-01],\n",
            "       [ 6.26438737e-01],\n",
            "       [ 7.17829764e-01],\n",
            "       [ 5.65839291e-01],\n",
            "       [ 3.72400820e-01],\n",
            "       [ 1.40049979e-01],\n",
            "       [-1.52415544e-01],\n",
            "       [-3.12558830e-01],\n",
            "       [-3.12391967e-01],\n",
            "       [-3.04572910e-01],\n",
            "       [-5.13268113e-01],\n",
            "       [-5.60091555e-01],\n",
            "       [-5.07593036e-01],\n",
            "       [-4.98000681e-01],\n",
            "       [-4.60036755e-01],\n",
            "       [-4.88256454e-01],\n",
            "       [-4.95960057e-01],\n",
            "       [-5.11938930e-01],\n",
            "       [-4.61687714e-01],\n",
            "       [-3.91308844e-01],\n",
            "       [-3.67072463e-01],\n",
            "       [-3.65546972e-01],\n",
            "       [-2.23877877e-01],\n",
            "       [-2.03742370e-01],\n",
            "       [-3.30817372e-01],\n",
            "       [-2.94831604e-01],\n",
            "       [-7.18112960e-02],\n",
            "       [ 1.37938246e-01],\n",
            "       [ 3.32207352e-01],\n",
            "       [ 6.25760853e-01],\n",
            "       [ 6.80086434e-01],\n",
            "       [ 5.37078619e-01],\n",
            "       [ 3.92869830e-01],\n",
            "       [ 1.69310018e-01],\n",
            "       [-1.45589039e-01],\n",
            "       [-3.11720818e-01],\n",
            "       [-2.90081114e-01],\n",
            "       [-2.37183213e-01],\n",
            "       [-4.21301305e-01],\n",
            "       [-4.90845293e-01],\n",
            "       [-4.81149435e-01],\n",
            "       [-4.56170976e-01],\n",
            "       [-4.56100255e-01],\n",
            "       [-4.85803723e-01],\n",
            "       [-4.90064114e-01],\n",
            "       [-4.57606465e-01],\n",
            "       [-3.41263354e-01],\n",
            "       [-3.14889908e-01],\n",
            "       [-3.24074060e-01],\n",
            "       [-3.32661510e-01],\n",
            "       [-1.76856026e-01],\n",
            "       [-1.67530254e-01],\n",
            "       [-2.95963436e-01],\n",
            "       [-2.59383112e-01],\n",
            "       [-8.95520952e-03],\n",
            "       [ 2.03152612e-01],\n",
            "       [ 3.91843796e-01],\n",
            "       [ 6.65276408e-01],\n",
            "       [ 7.03491271e-01],\n",
            "       [ 5.80227852e-01],\n",
            "       [ 4.41717803e-01],\n",
            "       [ 2.10835814e-01],\n",
            "       [-1.02655098e-01],\n",
            "       [-2.73579538e-01],\n",
            "       [-2.37887263e-01],\n",
            "       [-1.52223736e-01],\n",
            "       [-2.82168180e-01],\n",
            "       [-3.86721164e-01],\n",
            "       [-4.03409064e-01],\n",
            "       [-4.13609266e-01],\n",
            "       [-4.16135401e-01],\n",
            "       [-3.91252995e-01],\n",
            "       [-3.15259486e-01],\n",
            "       [-2.14486435e-01],\n",
            "       [-1.88682005e-01],\n",
            "       [-1.78726465e-01],\n",
            "       [-1.57403290e-01],\n",
            "       [-1.04362205e-01],\n",
            "       [ 2.22512968e-02],\n",
            "       [-1.54160997e-02],\n",
            "       [-1.52874574e-01],\n",
            "       [-1.06936716e-01],\n",
            "       [ 1.17793024e-01],\n",
            "       [ 3.08352143e-01],\n",
            "       [ 4.72989142e-01],\n",
            "       [ 6.96029305e-01],\n",
            "       [ 7.44521797e-01],\n",
            "       [ 7.15509355e-01],\n",
            "       [ 6.67011440e-01],\n",
            "       [ 5.58670282e-01],\n",
            "       [ 3.97421271e-01],\n",
            "       [ 2.91849941e-01],\n",
            "       [ 3.32960576e-01],\n",
            "       [ 3.72490168e-01],\n",
            "       [ 2.95758724e-01],\n",
            "       [ 2.26104438e-01],\n",
            "       [ 1.73282817e-01],\n",
            "       [ 1.56102002e-01],\n",
            "       [ 1.70588136e-01],\n",
            "       [ 2.20165521e-01],\n",
            "       [ 2.74451673e-01],\n",
            "       [ 2.81846732e-01],\n",
            "       [ 3.02403450e-01],\n",
            "       [ 3.28276843e-01],\n",
            "       [ 3.69077832e-01],\n",
            "       [ 4.20927972e-01],\n",
            "       [ 4.80093151e-01],\n",
            "       [ 4.52688634e-01],\n",
            "       [ 3.27714324e-01],\n",
            "       [ 3.44154000e-01],\n",
            "       [ 4.83012795e-01],\n",
            "       [ 5.52378356e-01],\n",
            "       [ 6.34653747e-01],\n",
            "       [ 7.40183949e-01]], dtype=float32), array([1.3064184], dtype=float32)]\n",
            "Loss at Final Epoch on Training Dataset:  0.0784\n",
            "Loss at Final Epoch on Validation Dataset:  0.0745\n",
            "Difference Between Last-Epoch Loss b/w Training and Validation:  0.0039\n"
          ]
        }
      ],
      "source": [
        "tf.random.set_seed(0)\n",
        "model_tf = build_model(784, learning_rate=0.005)\n",
        "history = model_tf.fit(X_train_mini, Y_train_mini, validation_data=(X_val, Y_val), epochs = 42, batch_size = 32)\n",
        "\n",
        "print(\"Learned Parameters (Including Bias as Final Term):\")\n",
        "print(model_tf.layers[0].get_weights())\n",
        "\n",
        "print(\"Loss at Final Epoch on Training Dataset: \", 0.0784)\n",
        "print(\"Loss at Final Epoch on Validation Dataset: \", 0.0745)\n",
        "\n",
        "print(\"Difference Between Last-Epoch Loss b/w Training and Validation: \", 0.0039)"
      ]
    },
    {
      "cell_type": "markdown",
      "metadata": {
        "id": "Y7CK5_bpFy9D"
      },
      "source": [
        "---\n",
        "### Step 6: Evaluation and Generalization"
      ]
    },
    {
      "cell_type": "markdown",
      "metadata": {
        "id": "d9bDFWEEFy9D"
      },
      "source": [
        "\n",
        "Now that you've determined the optimal set of hyperparameters, it's time to evaluate your optimized model on the test data to gauge its performance in real-world scenarios, commonly known as inference."
      ]
    },
    {
      "cell_type": "markdown",
      "metadata": {
        "id": "U8gOf72xFy9D"
      },
      "source": [
        "### <span style=\"color:chocolate\">Exercise 11:</span> Computing accuracy (10 points)"
      ]
    },
    {
      "cell_type": "markdown",
      "metadata": {
        "id": "NT_dJCxqFy9D"
      },
      "source": [
        "1. Calculate aggregate accuracy on both mini train and test datasets using a probability threshold of 0.5. Hint: You can utilize the <span style=\"color:chocolate\">model.evaluate()</span> method provided by tf.keras. Note: Aggregate accuracy measures the overall correctness of the model across all classes in the dataset;\n",
        "\n",
        "2. Does the model demonstrate strong aggregate generalization capabilities? Provide an explanation based on your accuracy observations for training vs. test datasets."
      ]
    },
    {
      "cell_type": "code",
      "execution_count": null,
      "metadata": {
        "id": "eq4CkvV0Fy9E",
        "colab": {
          "base_uri": "https://localhost:8080/"
        },
        "outputId": "dac7b1ad-c228-4d01-8333-68a4b689da9a"
      },
      "outputs": [
        {
          "output_type": "stream",
          "name": "stdout",
          "text": [
            "\u001b[1m1500/1500\u001b[0m \u001b[32m━━━━━━━━━━━━━━━━━━━━\u001b[0m\u001b[37m\u001b[0m \u001b[1m2s\u001b[0m 1ms/step - accuracy: 0.9819 - loss: 0.0714\n",
            "(48000, 784)\n",
            "(48000, 1)\n",
            "Aggregate Accuracy Train:  0.9820208549499512\n",
            "\u001b[1m313/313\u001b[0m \u001b[32m━━━━━━━━━━━━━━━━━━━━\u001b[0m\u001b[37m\u001b[0m \u001b[1m1s\u001b[0m 2ms/step - accuracy: 0.9815 - loss: 0.0737\n",
            "Aggregate Accuracy Test:  0.9804999828338623\n",
            "This model demonstrates strong aggreegate generalization capabilities.\n",
            "Both aggregate accuracies are close in value at 98%. This shows that it is not overfitted.\n"
          ]
        }
      ],
      "source": [
        "#calculating aggregate accuracy\n",
        "trainacc = model_tf.evaluate(X_train_mini, Y_train_mini)[1]\n",
        "print(X_train_mini.shape)\n",
        "print(Y_train_mini.shape)\n",
        "print(\"Aggregate Accuracy Train: \", trainacc)\n",
        "Y_test = np.array(Y_test).reshape(-1,1)\n",
        "X_test = np.array(X_test).reshape(-1,784)\n",
        "testacc = model_tf.evaluate(X_test, Y_test)[1]\n",
        "print(\"Aggregate Accuracy Test: \", testacc)\n",
        "print(\"This model demonstrates strong aggreegate generalization capabilities.\")\n",
        "print(\"Both aggregate accuracies are close in value at 98%. This shows that it is not overfitted.\")"
      ]
    },
    {
      "cell_type": "markdown",
      "metadata": {
        "id": "gRxO0MRSFy9E"
      },
      "source": [
        "### <span style=\"color:chocolate\">Exercise 12:</span> Fairness evaluation (10 points)"
      ]
    },
    {
      "cell_type": "markdown",
      "metadata": {
        "id": "qVcHlTA2Fy9E"
      },
      "source": [
        "1. Generate and visualize the confusion matrix on the test dataset using a probability threshold of 0.5. Additionally, print the True Positives (TP), False Negatives (FN), False Positives (FP), and True Negatives (TN). Hint: you can utilize the <span style=\"color:chocolate\">model.predict()</span> method available in tf.keras, and then the <span style=\"color:chocolate\">confusion_matrix()</span>, <span style=\"color:chocolate\">ConfusionMatrixDisplay()</span> methods available in sklearn.metrics;\n",
        "\n",
        "2. Compute subgroup accuracy, separately for the sneaker and non-sneaker classes, on the test dataset using a probability threshold of 0.5. Reflect on any observed accuracy differences (potential lack of fairness) between the two classes.\n",
        "\n",
        "3. Does the model demonstrate strong subgroup generalization capabilities? Provide an explanation based on your accuracy observations. Hint: compare training vs. test accuracy."
      ]
    },
    {
      "cell_type": "code",
      "execution_count": null,
      "metadata": {
        "id": "3zFp1Zn-Fy9E",
        "colab": {
          "base_uri": "https://localhost:8080/",
          "height": 649
        },
        "outputId": "474e2851-fb2d-4650-ea70-6bc4335a2627"
      },
      "outputs": [
        {
          "output_type": "stream",
          "name": "stdout",
          "text": [
            "\u001b[1m313/313\u001b[0m \u001b[32m━━━━━━━━━━━━━━━━━━━━\u001b[0m\u001b[37m\u001b[0m \u001b[1m0s\u001b[0m 959us/step\n",
            "True Negative (TN):  8900\n",
            "False Positive (FP):  100\n",
            "False Negative (FN):  95\n",
            "True Positive (TP):  905\n",
            "Non-Sneaker Accuracy Test:  0.9888888888888889\n",
            "Sneaker Accuracy Test:  0.905\n",
            "There is a lack of fairness. It appears to be much better at detecting non-sneakers than sneakers.\n",
            "There are also more images that are non-sneaker. This gives it more opportunity to detect correctly.\n",
            "The training data accuracy for detecting sneaker pictures was 90%.\n",
            "The test data accuracy is also about 90.5%. This shows the model has good generalization capabilities.\n"
          ]
        },
        {
          "output_type": "display_data",
          "data": {
            "text/plain": [
              "<Figure size 640x480 with 2 Axes>"
            ],
            "image/png": "[encoded data removed]"
          },
          "metadata": {}
        }
      ],
      "source": [
        "#generate and visualize confusion matrix on test dataset\n",
        "Y_prob = model_tf.predict(X_test)\n",
        "Y_pred = (Y_prob >= 0.5).astype(int)  # convert probabilities to 0 or 1\n",
        "confmat = confusion_matrix(Y_test, Y_pred)\n",
        "display = ConfusionMatrixDisplay(confusion_matrix=confmat, display_labels=[\"Non-Sneaker\",\"Sneaker\"])\n",
        "display.plot()\n",
        "TN = confmat[0][0]\n",
        "FP = confmat[0][1]\n",
        "FN = confmat[1][0]\n",
        "TP = confmat[1][1]\n",
        "print(\"True Negative (TN): \", TN)\n",
        "print(\"False Positive (FP): \", FP)\n",
        "print(\"False Negative (FN): \", FN)\n",
        "print(\"True Positive (TP): \", TP)\n",
        "#compute subgroup accuracy for sneaker and non sneaker classes on test dataset\n",
        "nonsneaker_acc = TN/(TN + FP)\n",
        "sneaker_acc = TP/(FN + TP)\n",
        "print(\"Non-Sneaker Accuracy Test: \", nonsneaker_acc)\n",
        "print(\"Sneaker Accuracy Test: \", sneaker_acc)\n",
        "print(\"There is a lack of fairness. It appears to be much better at detecting non-sneakers than sneakers.\")\n",
        "print(\"There are also more images that are non-sneaker. This gives it more opportunity to detect correctly.\")\n",
        "print(\"The training data accuracy for detecting sneaker pictures was 90%.\")\n",
        "print(\"The test data accuracy is also about 90.5%. This shows the model has good generalization capabilities.\")\n"
      ]
    }
  ],
  "metadata": {
    "colab": {
      "provenance": []
    },
    "kernelspec": {
      "display_name": "Python 3",
      "name": "python3"
    },
    "language_info": {
      "codemirror_mode": {
        "name": "ipython",
        "version": 3
      },
      "file_extension": ".py",
      "mimetype": "text/x-python",
      "name": "python",
      "nbconvert_exporter": "python",
      "pygments_lexer": "ipython3",
      "version": "3.12.4"
    }
  },
  "nbformat": 4,
  "nbformat_minor": 0
}
