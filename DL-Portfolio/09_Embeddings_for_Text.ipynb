{
  "cells": [
    {
      "cell_type": "markdown",
      "metadata": {
        "id": "MKsRDH5ZUdfasdv"
      },
      "source": [
        "# Assignment 9"
      ]
    },
    {
      "cell_type": "markdown",
      "metadata": {
        "id": "tXMGfvNB3gCK"
      },
      "source": [
        "### Import libraries"
      ]
    },
    {
      "cell_type": "code",
      "execution_count": null,
      "metadata": {
        "id": "7X58hOMTUH-w"
      },
      "outputs": [],
      "source": [
        "import numpy as np\n",
        "from matplotlib import pyplot as plt\n",
        "import pandas as pd\n",
        "import seaborn as sns  # for nicer plots\n",
        "sns.set(style=\"darkgrid\")  # default style\n",
        "import plotly.graph_objs as plotly  # for interactive plots\n",
        "\n",
        "import tensorflow as tf\n",
        "from tensorflow.keras.datasets import imdb"
      ]
    },
    {
      "cell_type": "markdown",
      "metadata": {
        "id": "Jt53Op3Q3gCM"
      },
      "source": [
        "---\n",
        "### Step 1: Data ingestion"
      ]
    },
    {
      "cell_type": "markdown",
      "metadata": {
        "id": "eqppUDpmdptk"
      },
      "source": [
        "In this lab, you'll train a <span style=\"color:chocolate\">sentiment</span> classifier for movie reviews.\n",
        "\n",
        "* The input is the text of a movie review;\n",
        "* The output is the probability the input is a positive review.\n",
        "* The target labels are binary, 0 for negative and 1 for positive.\n",
        "\n",
        "The data includes 50,000 movie reviews on IMDB. The data comes pre-segmented into train and test splits. The [data loading function](https://www.tensorflow.org/api_docs/python/tf/keras/datasets/imdb/load_data) below also splits each input text into tokens (words), and maps the words to integer values. Each input is a sequence of integers corresponding to the words."
      ]
    },
    {
      "cell_type": "code",
      "execution_count": null,
      "metadata": {
        "colab": {
          "base_uri": "https://localhost:8080/"
        },
        "id": "s6M-asvhQWV_",
        "outputId": "5fef619e-c56d-412a-a497-bbf74e8c5ba8"
      },
      "outputs": [
        {
          "output_type": "stream",
          "name": "stdout",
          "text": [
            "Downloading data from https://storage.googleapis.com/tensorflow/tf-keras-datasets/imdb.npz\n",
            "\u001b[1m17464789/17464789\u001b[0m \u001b[32m━━━━━━━━━━━━━━━━━━━━\u001b[0m\u001b[37m\u001b[0m \u001b[1m0s\u001b[0m 0us/step\n",
            "X_train.shape: (25000,)\n",
            "Y_train.shape: (25000,)\n",
            "X_test.shape: (25000,)\n",
            "Y_test.shape: (25000,)\n"
          ]
        }
      ],
      "source": [
        "# read data\n",
        "(X_train, Y_train), (X_test, Y_test) = imdb.load_data(path=\"imdb.npz\",\n",
        "                                                      num_words=None,\n",
        "                                                      skip_top=0,\n",
        "                                                      maxlen=None,\n",
        "                                                      seed=113,\n",
        "                                                      start_char=1,\n",
        "                                                      oov_char=2,\n",
        "                                                      index_from=3)\n",
        "\n",
        "print(\"X_train.shape:\", X_train.shape)\n",
        "print(\"Y_train.shape:\", Y_train.shape)\n",
        "print(\"X_test.shape:\", X_test.shape)\n",
        "print(\"Y_test.shape:\", Y_test.shape)"
      ]
    },
    {
      "cell_type": "markdown",
      "metadata": {
        "id": "9CW08nE83gCN"
      },
      "source": [
        "---\n",
        "### Step 2: Data preprocessing"
      ]
    },
    {
      "cell_type": "markdown",
      "metadata": {
        "id": "52detsA63gCN"
      },
      "source": [
        "Let's have a look at the first training example:"
      ]
    },
    {
      "cell_type": "code",
      "execution_count": null,
      "metadata": {
        "colab": {
          "base_uri": "https://localhost:8080/"
        },
        "id": "vRp_IdxJ3gCN",
        "outputId": "831b01a9-3614-48c3-ff9d-ad7fa1f85606"
      },
      "outputs": [
        {
          "output_type": "stream",
          "name": "stdout",
          "text": [
            "First training example data: [1, 14, 22, 16, 43, 530, 973, 1622, 1385, 65, 458, 4468, 66, 3941, 4, 173, 36, 256, 5, 25, 100, 43, 838, 112, 50, 670, 22665, 9, 35, 480, 284, 5, 150, 4, 172, 112, 167, 21631, 336, 385, 39, 4, 172, 4536, 1111, 17, 546, 38, 13, 447, 4, 192, 50, 16, 6, 147, 2025, 19, 14, 22, 4, 1920, 4613, 469, 4, 22, 71, 87, 12, 16, 43, 530, 38, 76, 15, 13, 1247, 4, 22, 17, 515, 17, 12, 16, 626, 18, 19193, 5, 62, 386, 12, 8, 316, 8, 106, 5, 4, 2223, 5244, 16, 480, 66, 3785, 33, 4, 130, 12, 16, 38, 619, 5, 25, 124, 51, 36, 135, 48, 25, 1415, 33, 6, 22, 12, 215, 28, 77, 52, 5, 14, 407, 16, 82, 10311, 8, 4, 107, 117, 5952, 15, 256, 4, 31050, 7, 3766, 5, 723, 36, 71, 43, 530, 476, 26, 400, 317, 46, 7, 4, 12118, 1029, 13, 104, 88, 4, 381, 15, 297, 98, 32, 2071, 56, 26, 141, 6, 194, 7486, 18, 4, 226, 22, 21, 134, 476, 26, 480, 5, 144, 30, 5535, 18, 51, 36, 28, 224, 92, 25, 104, 4, 226, 65, 16, 38, 1334, 88, 12, 16, 283, 5, 16, 4472, 113, 103, 32, 15, 16, 5345, 19, 178, 32]\n",
            "First training example label: 1\n"
          ]
        }
      ],
      "source": [
        "print('First training example data:', X_train[0])\n",
        "print('First training example label:', Y_train[0])"
      ]
    },
    {
      "cell_type": "markdown",
      "metadata": {
        "id": "MyIWiy-4gQK-"
      },
      "source": [
        "As you can see, the first training example is a positive review. However, that sequence of integer IDs is hard to read.\n",
        "\n",
        "The data loader provides a dictionary mapping words to IDs. Let's create a reverse index.\n"
      ]
    },
    {
      "cell_type": "code",
      "execution_count": null,
      "metadata": {
        "colab": {
          "base_uri": "https://localhost:8080/"
        },
        "id": "HQ-qATkhUj7c",
        "outputId": "37c0434e-d836-4786-8061-44697fb6dcc5"
      },
      "outputs": [
        {
          "output_type": "stream",
          "name": "stdout",
          "text": [
            "Downloading data from https://storage.googleapis.com/tensorflow/tf-keras-datasets/imdb_word_index.json\n",
            "\u001b[1m1641221/1641221\u001b[0m \u001b[32m━━━━━━━━━━━━━━━━━━━━\u001b[0m\u001b[37m\u001b[0m \u001b[1m0s\u001b[0m 0us/step\n",
            "Largest ID: 88587\n"
          ]
        }
      ],
      "source": [
        "# The imdb dataset comes with an index mapping words to integers.\n",
        "# In the index the words are ordered by frequency they occur.\n",
        "index = imdb.get_word_index()\n",
        "\n",
        "# Because we used index_from=3 (above), setting aside ids below 3 for special\n",
        "# symbols, we need to add 3 to the index values.\n",
        "index = dict([(key, value+3) for (key, value) in index.items()])\n",
        "\n",
        "# Create a reverse index so we can lookup tokens assigned to each id.\n",
        "reverse_index = dict([(value, key) for (key, value) in index.items()])\n",
        "reverse_index[1] = '<START>'  # start of input\n",
        "reverse_index[2] = '#'        # out-of-vocabulary (OOV)\n",
        "reverse_index[3] = '<UNUSED>'\n",
        "\n",
        "max_id = max(reverse_index.keys())\n",
        "print('Largest ID:', max_id)"
      ]
    },
    {
      "cell_type": "markdown",
      "metadata": {
        "id": "h76-b07ehWNQ"
      },
      "source": [
        "Note that our index (and reverse index) have <span style=\"color:chocolate\">88,587</span> tokens. That's quite <span style=\"color:chocolate\">a large vocabulary</span>!\n",
        "\n",
        "Next, let's write a decoding function for our data."
      ]
    },
    {
      "cell_type": "code",
      "execution_count": null,
      "metadata": {
        "colab": {
          "base_uri": "https://localhost:8080/"
        },
        "id": "UjobmouHS5Dm",
        "outputId": "7adef1ca-535b-48f6-d5e6-5841d34f518b"
      },
      "outputs": [
        {
          "output_type": "stream",
          "name": "stdout",
          "text": [
            "[1, 14, 22, 16, 43, 530, 973, 1622, 1385, 65, 458, 4468, 66, 3941, 4, 173, 36, 256, 5, 25, 100, 43, 838, 112, 50, 670, 22665, 9, 35, 480, 284, 5, 150, 4, 172, 112, 167, 21631, 336, 385, 39, 4, 172, 4536, 1111, 17, 546, 38, 13, 447, 4, 192, 50, 16, 6, 147, 2025, 19, 14, 22, 4, 1920, 4613, 469, 4, 22, 71, 87, 12, 16, 43, 530, 38, 76, 15, 13, 1247, 4, 22, 17, 515, 17, 12, 16, 626, 18, 19193, 5, 62, 386, 12, 8, 316, 8, 106, 5, 4, 2223, 5244, 16, 480, 66, 3785, 33, 4, 130, 12, 16, 38, 619, 5, 25, 124, 51, 36, 135, 48, 25, 1415, 33, 6, 22, 12, 215, 28, 77, 52, 5, 14, 407, 16, 82, 10311, 8, 4, 107, 117, 5952, 15, 256, 4, 31050, 7, 3766, 5, 723, 36, 71, 43, 530, 476, 26, 400, 317, 46, 7, 4, 12118, 1029, 13, 104, 88, 4, 381, 15, 297, 98, 32, 2071, 56, 26, 141, 6, 194, 7486, 18, 4, 226, 22, 21, 134, 476, 26, 480, 5, 144, 30, 5535, 18, 51, 36, 28, 224, 92, 25, 104, 4, 226, 65, 16, 38, 1334, 88, 12, 16, 283, 5, 16, 4472, 113, 103, 32, 15, 16, 5345, 19, 178, 32]\n",
            "<START> this film was just brilliant casting location scenery story direction everyone's really suited the part they played and you could just imagine being there robert redford's is an amazing actor and now the same being director norman's father came from the same scottish island as myself so i loved the fact there was a real connection with this film the witty remarks throughout the film were great it was just brilliant so much that i bought the film as soon as it was released for retail and would recommend it to everyone to watch and the fly fishing was amazing really cried at the end it was so sad and you know what they say if you cry at a film it must have been good and this definitely was also congratulations to the two little boy's that played the part's of norman and paul they were just brilliant children are often left out of the praising list i think because the stars that play them all grown up are such a big profile for the whole film but these children are amazing and should be praised for what they have done don't you think the whole story was so lovely because it was true and was someone's life after all that was shared with us all\n"
          ]
        }
      ],
      "source": [
        "def decode(token_ids):\n",
        "  \"\"\"Return a string with the decoded text given a list of token ids.\"\"\"\n",
        "  # Try looking up each id in the index, but return '#' (for OOV) if not found.\n",
        "  tokens = [reverse_index.get(i, \"#\") for i in token_ids]\n",
        "\n",
        "  # Connect the string tokens with a space.\n",
        "  return ' '.join(tokens)\n",
        "\n",
        "# Show the ids corresponding tokens in the first example.\n",
        "print(X_train[0])\n",
        "print(decode(X_train[0]))"
      ]
    },
    {
      "cell_type": "markdown",
      "metadata": {
        "id": "9RAPGg1x3gCO"
      },
      "source": [
        "---\n",
        "### Step 3: Exploratory Data Analysis (EDA)"
      ]
    },
    {
      "cell_type": "markdown",
      "metadata": {
        "id": "OZ8rfZoA3gCO"
      },
      "source": [
        "### <span style=\"color:chocolate\">Exercise 1:</span> Text lengths (10 points)"
      ]
    },
    {
      "cell_type": "markdown",
      "metadata": {
        "id": "g47w5CackGBA"
      },
      "source": [
        "Using the training reviews data, answer the following questions:\n",
        "\n",
        "1. What are the minimum, maximum, and mean lengths of positive and negative reviews?\n",
        "2. Create a histogram to visualize the distribution of positive and negative review lengths. Make sure to provide a descriptive title and axis labels."
      ]
    },
    {
      "cell_type": "code",
      "execution_count": null,
      "metadata": {
        "colab": {
          "base_uri": "https://localhost:8080/",
          "height": 627
        },
        "id": "G7FRfjNB3gCO",
        "outputId": "138bdf1a-63b1-4fe1-8cbe-6cbb967a7aaf"
      },
      "outputs": [
        {
          "output_type": "stream",
          "name": "stdout",
          "text": [
            "Positive Review Minimum Length:  11\n",
            "Positive Review Maximum Length:  1571\n",
            "Positive Review Mean Length:  235.86432\n",
            "Negative Review Minimum Length:  13\n",
            "Negative Review Maximum Length:  2494\n",
            "Negative Review Mean Length:  241.56296\n"
          ]
        },
        {
          "output_type": "display_data",
          "data": {
            "text/plain": [
              "<Figure size 1200x500 with 2 Axes>"
            ],
            "image/png": "[encoded data removed]"
          },
          "metadata": {}
        }
      ],
      "source": [
        "#find all lengths\n",
        "review_lengths = []\n",
        "for review in X_train:\n",
        "  review_lengths.append(len(review))\n",
        "\n",
        "review_lengths = np.array(review_lengths)\n",
        "\n",
        "#find negative and positive indeces and make two separate length arrays\n",
        "positive_review_ind = np.where(Y_train == 0)[0].astype(int)\n",
        "negative_review_ind = np.where(Y_train == 1)[0].astype(int)\n",
        "\n",
        "positive_lengths = review_lengths[positive_review_ind]\n",
        "negative_lengths = review_lengths[negative_review_ind]\n",
        "\n",
        "#find minimum maximum and mean lengths of positive and negative reviews\n",
        "print(\"Positive Review Minimum Length: \", min(positive_lengths))\n",
        "print(\"Positive Review Maximum Length: \", max(positive_lengths))\n",
        "print(\"Positive Review Mean Length: \", np.average(positive_lengths))\n",
        "print(\"Negative Review Minimum Length: \", min(negative_lengths))\n",
        "print(\"Negative Review Maximum Length: \", max(negative_lengths))\n",
        "print(\"Negative Review Mean Length: \", np.average(negative_lengths))\n",
        "\n",
        "#create histogram to visualize distribution of positive and negative review lengths\n",
        "fig, axes = plt.subplots(1,2,figsize=(12,5))\n",
        "axes[0].hist(positive_lengths, bins=10)\n",
        "axes[0].set_ylabel(\"Frequency\")\n",
        "axes[0].set_xlabel(\"Positive Review Lengths (words)\")\n",
        "axes[1].hist(negative_lengths, bins=10)\n",
        "axes[1].set_ylabel(\"Frequency\")\n",
        "axes[1].set_xlabel(\"Negative Review Lengths (words)\")\n",
        "plt.suptitle(\"Distribution of Positive and Negative Review Lengths\")\n",
        "plt.show()"
      ]
    },
    {
      "cell_type": "markdown",
      "metadata": {
        "id": "eTTKUkDu3gCO"
      },
      "source": [
        "### <span style=\"color:chocolate\">Exercise 2:</span> Token counts (10 points)"
      ]
    },
    {
      "cell_type": "markdown",
      "metadata": {
        "id": "c3ZE9gpkml3a"
      },
      "source": [
        "Using the training data, create a table listing the counts of positive and negative examples that contain each token provided below."
      ]
    },
    {
      "cell_type": "code",
      "execution_count": null,
      "metadata": {
        "id": "8YOYo6d01aWI",
        "colab": {
          "base_uri": "https://localhost:8080/"
        },
        "outputId": "82158de7-98ef-4a38-db78-a2d857f95948"
      },
      "outputs": [
        {
          "output_type": "stream",
          "name": "stdout",
          "text": [
            "     Token  Positive Reviews  Negative Reviews  Total\n",
            "0     good              4849              4767   9616\n",
            "1      bad              4396              1491   5887\n",
            "2  amazing               240               868   1108\n",
            "3   boring              1205               301   1506\n",
            "4    laugh               685               525   1210\n",
            "5      cry               114               231    345\n"
          ]
        }
      ],
      "source": [
        "tokens = ['good', 'bad', 'amazing', 'boring', 'laugh', 'cry']\n",
        "\n",
        "# find int value that corresponds to each token\n",
        "tokens_int = []\n",
        "for t in tokens:\n",
        "  tokens_int.append(index.get(t))\n",
        "\n",
        "# get array of positive and negative reviews\n",
        "positive_reviews = X_train[positive_review_ind]\n",
        "negative_reviews = X_train[negative_review_ind]\n",
        "\n",
        "# check which positive and negative reviews have the required words\n",
        "positive_tokens_indices = []\n",
        "negative_tokens_indices = []\n",
        "\n",
        "for i,t in enumerate(tokens):\n",
        "\n",
        "  pos_indices = [idx for idx, review in enumerate(positive_reviews) if tokens_int[i] in review]\n",
        "  neg_indices = [idx for idx, review in enumerate(negative_reviews) if tokens_int[i] in review]\n",
        "\n",
        "  positive_tokens_indices.append(pos_indices)\n",
        "  negative_tokens_indices.append(neg_indices)\n",
        "\n",
        "# finding the counts based on the indeces\n",
        "positive_tokens_counts = [len(indices) for indices in positive_tokens_indices]\n",
        "negative_tokens_counts = [len(indices) for indices in negative_tokens_indices]\n",
        "\n",
        "# create the table\n",
        "token_table = pd.DataFrame({\n",
        "    'Token': tokens,\n",
        "    'Positive Reviews': positive_tokens_counts,\n",
        "    'Negative Reviews': negative_tokens_counts\n",
        "})\n",
        "\n",
        "token_table['Total'] = token_table['Positive Reviews'] + token_table['Negative Reviews']\n",
        "\n",
        "print(token_table)"
      ]
    },
    {
      "cell_type": "markdown",
      "metadata": {
        "id": "I5LhIA8d3gCP"
      },
      "source": [
        "---\n",
        "### Step 4: Data preprocessing (cont'd)"
      ]
    },
    {
      "cell_type": "markdown",
      "metadata": {
        "id": "wnIjdwuk3gCP"
      },
      "source": [
        "As is clear from the review length histogram, the current representation of the review text is a variable-length array. Since fixed-length arrays are easier to work with in Tensorflow, you will add special padding tokens at the end of each review until they are all the same length. You will also truncate all training inputs to a specified length."
      ]
    },
    {
      "cell_type": "markdown",
      "metadata": {
        "id": "mVDWX12Y3gCP"
      },
      "source": [
        "### <span style=\"color:chocolate\">Exercise 3:</span> Reduced length and padding (10 points)"
      ]
    },
    {
      "cell_type": "markdown",
      "metadata": {
        "id": "wrJb5mdv3gCP"
      },
      "source": [
        "Fill in the <span style=\"color:green\">NotImplemented</span> parts of the <span style=\"color:chocolate\">truncate_pad_data()</span> function below by following these instructions:\n",
        "\n",
        "1. Restrict the maximum number of tokens by truncating all reviews to a length of 300;\n",
        "2. Append special padding tokens (value = 0) to the end of each review until all reviews are of the same length."
      ]
    },
    {
      "cell_type": "code",
      "execution_count": null,
      "metadata": {
        "colab": {
          "base_uri": "https://localhost:8080/"
        },
        "id": "s_ICjf_w3gCP",
        "outputId": "4da3c9f7-7ab8-4c7a-882c-8b37010cc3d4"
      },
      "outputs": [
        {
          "output_type": "stream",
          "name": "stdout",
          "text": [
            "Length of X_train[0]: 218\n",
            "Length of X_train_padded[0]: 300\n",
            "[    1    14    22    16    43   530   973  1622  1385    65   458  4468\n",
            "    66  3941     4   173    36   256     5    25   100    43   838   112\n",
            "    50   670 22665     9    35   480   284     5   150     4   172   112\n",
            "   167 21631   336   385    39     4   172  4536  1111    17   546    38\n",
            "    13   447     4   192    50    16     6   147  2025    19    14    22\n",
            "     4  1920  4613   469     4    22    71    87    12    16    43   530\n",
            "    38    76    15    13  1247     4    22    17   515    17    12    16\n",
            "   626    18 19193     5    62   386    12     8   316     8   106     5\n",
            "     4  2223  5244    16   480    66  3785    33     4   130    12    16\n",
            "    38   619     5    25   124    51    36   135    48    25  1415    33\n",
            "     6    22    12   215    28    77    52     5    14   407    16    82\n",
            " 10311     8     4   107   117  5952    15   256     4 31050     7  3766\n",
            "     5   723    36    71    43   530   476    26   400   317    46     7\n",
            "     4 12118  1029    13   104    88     4   381    15   297    98    32\n",
            "  2071    56    26   141     6   194  7486    18     4   226    22    21\n",
            "   134   476    26   480     5   144    30  5535    18    51    36    28\n",
            "   224    92    25   104     4   226    65    16    38  1334    88    12\n",
            "    16   283     5    16  4472   113   103    32    15    16  5345    19\n",
            "   178    32     0     0     0     0     0     0     0     0     0     0\n",
            "     0     0     0     0     0     0     0     0     0     0     0     0\n",
            "     0     0     0     0     0     0     0     0     0     0     0     0\n",
            "     0     0     0     0     0     0     0     0     0     0     0     0\n",
            "     0     0     0     0     0     0     0     0     0     0     0     0\n",
            "     0     0     0     0     0     0     0     0     0     0     0     0\n",
            "     0     0     0     0     0     0     0     0     0     0     0     0]\n"
          ]
        }
      ],
      "source": [
        "def truncate_pad_data(sequences, max_length):\n",
        "    # Keras has a convenient utility for padding a sequence:\n",
        "    # tf.keras.preprocessing.sequence.pad_sequences()\n",
        "    # Also make sure you get a numpy array rather than an array of lists.\n",
        "    padded_data = tf.keras.preprocessing.sequence.pad_sequences(\n",
        "        maxlen = max_length,\n",
        "        truncating = 'pre',\n",
        "        padding = 'post',\n",
        "        sequences = sequences\n",
        "    )\n",
        "    return padded_data\n",
        "\n",
        "# 1+ 2: Truncate and pad the training data\n",
        "X_train_padded = truncate_pad_data(X_train, max_length=300)\n",
        "\n",
        "# Check the padded output.\n",
        "print('Length of X_train[0]:', len(X_train[0]))\n",
        "print('Length of X_train_padded[0]:', len(X_train_padded[0]))\n",
        "print(X_train_padded[0])"
      ]
    },
    {
      "cell_type": "markdown",
      "metadata": {
        "id": "Znkjp-u33gCP"
      },
      "source": [
        "Next, you want to be able to limit the vocabulary size. Since the <span style=\"color:chocolate\">truncate_pad_data()</span> function produces fixed-length sequences in a numpy matrix, one can use clever numpy indexing to efficiently replace all token ids larger than some value with the designated out-of-vocabulary (OOV) id."
      ]
    },
    {
      "cell_type": "markdown",
      "metadata": {
        "id": "1ndd_vTy3gCP"
      },
      "source": [
        "### <span style=\"color:chocolate\">Exercise 4:</span> Reduced vocabulary (10 points)"
      ]
    },
    {
      "cell_type": "markdown",
      "metadata": {
        "id": "OE6KPBqh3gCP"
      },
      "source": [
        "Fill in the <span style=\"color:green\">NotImplemented</span> parts of the <span style=\"color:chocolate\">limit_vocab()</span> function below by following these instructions:\n",
        "\n",
        "1. Keep just token ids less than 1000, replacing all others with OOV."
      ]
    },
    {
      "cell_type": "code",
      "execution_count": null,
      "metadata": {
        "colab": {
          "base_uri": "https://localhost:8080/"
        },
        "id": "5NN0LaeK3gCP",
        "outputId": "6873472c-9eb1-4ebb-8c16-9b632f844f9c"
      },
      "outputs": [
        {
          "output_type": "stream",
          "name": "stdout",
          "text": [
            "[np.int32(1), np.int32(14), np.int32(22), np.int32(16), np.int32(43), np.int32(530), np.int32(973), 2, 2, np.int32(65), np.int32(458), 2, np.int32(66), 2, np.int32(4), np.int32(173), np.int32(36), np.int32(256), np.int32(5), np.int32(25), np.int32(100), np.int32(43), np.int32(838), np.int32(112), np.int32(50), np.int32(670), 2, np.int32(9), np.int32(35), np.int32(480), np.int32(284), np.int32(5), np.int32(150), np.int32(4), np.int32(172), np.int32(112), np.int32(167), 2, np.int32(336), np.int32(385), np.int32(39), np.int32(4), np.int32(172), 2, 2, np.int32(17), np.int32(546), np.int32(38), np.int32(13), np.int32(447), np.int32(4), np.int32(192), np.int32(50), np.int32(16), np.int32(6), np.int32(147), 2, np.int32(19), np.int32(14), np.int32(22), np.int32(4), 2, 2, np.int32(469), np.int32(4), np.int32(22), np.int32(71), np.int32(87), np.int32(12), np.int32(16), np.int32(43), np.int32(530), np.int32(38), np.int32(76), np.int32(15), np.int32(13), 2, np.int32(4), np.int32(22), np.int32(17), np.int32(515), np.int32(17), np.int32(12), np.int32(16), np.int32(626), np.int32(18), 2, np.int32(5), np.int32(62), np.int32(386), np.int32(12), np.int32(8), np.int32(316), np.int32(8), np.int32(106), np.int32(5), np.int32(4), 2, 2, np.int32(16), np.int32(480), np.int32(66), 2, np.int32(33), np.int32(4), np.int32(130), np.int32(12), np.int32(16), np.int32(38), np.int32(619), np.int32(5), np.int32(25), np.int32(124), np.int32(51), np.int32(36), np.int32(135), np.int32(48), np.int32(25), 2, np.int32(33), np.int32(6), np.int32(22), np.int32(12), np.int32(215), np.int32(28), np.int32(77), np.int32(52), np.int32(5), np.int32(14), np.int32(407), np.int32(16), np.int32(82), 2, np.int32(8), np.int32(4), np.int32(107), np.int32(117), 2, np.int32(15), np.int32(256), np.int32(4), 2, np.int32(7), 2, np.int32(5), np.int32(723), np.int32(36), np.int32(71), np.int32(43), np.int32(530), np.int32(476), np.int32(26), np.int32(400), np.int32(317), np.int32(46), np.int32(7), np.int32(4), 2, 2, np.int32(13), np.int32(104), np.int32(88), np.int32(4), np.int32(381), np.int32(15), np.int32(297), np.int32(98), np.int32(32), 2, np.int32(56), np.int32(26), np.int32(141), np.int32(6), np.int32(194), 2, np.int32(18), np.int32(4), np.int32(226), np.int32(22), np.int32(21), np.int32(134), np.int32(476), np.int32(26), np.int32(480), np.int32(5), np.int32(144), np.int32(30), 2, np.int32(18), np.int32(51), np.int32(36), np.int32(28), np.int32(224), np.int32(92), np.int32(25), np.int32(104), np.int32(4), np.int32(226), np.int32(65), np.int32(16), np.int32(38), 2, np.int32(88), np.int32(12), np.int32(16), np.int32(283), np.int32(5), np.int32(16), 2, np.int32(113), np.int32(103), np.int32(32), np.int32(15), np.int32(16), 2, np.int32(19), np.int32(178), np.int32(32), np.int32(0), np.int32(0), np.int32(0), np.int32(0), np.int32(0), np.int32(0), np.int32(0), np.int32(0), np.int32(0), np.int32(0), np.int32(0), np.int32(0), np.int32(0), np.int32(0), np.int32(0), np.int32(0), np.int32(0), np.int32(0), np.int32(0), np.int32(0), np.int32(0), np.int32(0), np.int32(0), np.int32(0), np.int32(0), np.int32(0), np.int32(0), np.int32(0), np.int32(0), np.int32(0), np.int32(0), np.int32(0), np.int32(0), np.int32(0), np.int32(0), np.int32(0), np.int32(0), np.int32(0), np.int32(0), np.int32(0), np.int32(0), np.int32(0), np.int32(0), np.int32(0), np.int32(0), np.int32(0), np.int32(0), np.int32(0), np.int32(0), np.int32(0), np.int32(0), np.int32(0), np.int32(0), np.int32(0), np.int32(0), np.int32(0), np.int32(0), np.int32(0), np.int32(0), np.int32(0), np.int32(0), np.int32(0), np.int32(0), np.int32(0), np.int32(0), np.int32(0), np.int32(0), np.int32(0), np.int32(0), np.int32(0), np.int32(0), np.int32(0), np.int32(0), np.int32(0), np.int32(0), np.int32(0), np.int32(0), np.int32(0), np.int32(0), np.int32(0), np.int32(0), np.int32(0)]\n",
            "<START> this film was just brilliant casting # # story direction # really # the part they played and you could just imagine being there robert # is an amazing actor and now the same being director # father came from the same # # as myself so i loved the fact there was a real # with this film the # # throughout the film were great it was just brilliant so much that i # the film as soon as it was released for # and would recommend it to everyone to watch and the # # was amazing really # at the end it was so sad and you know what they say if you # at a film it must have been good and this definitely was also # to the two little # that played the # of # and paul they were just brilliant children are often left out of the # # i think because the stars that play them all # up are such a big # for the whole film but these children are amazing and should be # for what they have done don't you think the whole story was so # because it was true and was # life after all that was # with us all # # # # # # # # # # # # # # # # # # # # # # # # # # # # # # # # # # # # # # # # # # # # # # # # # # # # # # # # # # # # # # # # # # # # # # # # # # # # # # # # # #\n"
          ]
        }
      ],
      "source": [
        "def limit_vocab(sequences, max_token_id, oov_id=2):\n",
        "  \"\"\"Replace token ids greater than or equal to max_token_id with the oov_id.\"\"\"\n",
        "  # YOUR CODE HERE\n",
        "  reduced_sequences = []\n",
        "  for sequence in sequences:\n",
        "    reduced_sequence = [tok_id if tok_id < max_token_id else oov_id for tok_id in sequence]\n",
        "    reduced_sequences.append(reduced_sequence)\n",
        "  return reduced_sequences\n",
        "\n",
        "# Reduce vocabulary to 1000 tokens.\n",
        "X_train_reduced = limit_vocab(X_train_padded, max_token_id=1000)\n",
        "print(X_train_reduced[0])\n",
        "\n",
        "# Decode to see what this looks like in tokens. Note the '#' for OOVs.\n",
        "print(decode(X_train_reduced[0]))"
      ]
    },
    {
      "cell_type": "markdown",
      "metadata": {
        "id": "eMenZUSd3gCP"
      },
      "source": [
        "### <span style=\"color:chocolate\">Exercise 5:</span> One-hot encoding (0 points)"
      ]
    },
    {
      "cell_type": "markdown",
      "metadata": {
        "id": "yLGlY0S53gCP"
      },
      "source": [
        "The current feature representations are **sparse**. That is, one only keeps track of the token ids that are present in the input. A **one-hot** encoding replaces a value like 22 (corresponding to 'film') with an array with a single 1 at position 22 and zeros everywhere else. This will be very memory-inefficient, but we'll do it anyway for clarity.\n",
        "\n",
        "To avoid any memory limitations, let's dramatically reduce both the number of token positions (review length) and the number of token ids (vocabulary).\n",
        "\n",
        "The code below clips each review after 20 tokens and keeps only the first 1000 tokens."
      ]
    },
    {
      "cell_type": "code",
      "execution_count": null,
      "metadata": {
        "colab": {
          "base_uri": "https://localhost:8080/"
        },
        "id": "NJogaZRP3gCP",
        "outputId": "d0376a84-3ad4-4302-9329-8ccf38c0f765"
      },
      "outputs": [
        {
          "output_type": "stream",
          "name": "stdout",
          "text": [
            "X_train_one_hot shape: (25000, 20, 1000)\n"
          ]
        }
      ],
      "source": [
        "# Keras has a util to create one-hot encodings.\n",
        "X_train_padded = truncate_pad_data(X_train, max_length=20)\n",
        "X_train_reduced = limit_vocab(X_train_padded, max_token_id=1000)\n",
        "X_train_one_hot = tf.keras.utils.to_categorical(X_train_reduced)\n",
        "print('X_train_one_hot shape:', X_train_one_hot.shape)"
      ]
    },
    {
      "cell_type": "markdown",
      "metadata": {
        "id": "ZvJ4uaaP3gCQ"
      },
      "source": [
        "Note the shape of the one-hot encoded features. For each of the 25000 training examples, you have a 20 x 1000 matrix. That is, for each of 20 token positions, you have a vector of 1000 elements containing a single 1 and 999 zeros.\n",
        "\n",
        "You can think of these 1000-dimensional one-hot arrays as **embeddings**. Each token in the input has a 1000-dimensional representation. But because of the one-hot setup, the distance between each pair of tokens is the same ([1,0,0,...], [0,1,0,...], etc.). By contrast, learned embeddings result in meaningful distances between pairs of tokens. You'll get to that soon."
      ]
    },
    {
      "cell_type": "markdown",
      "metadata": {
        "id": "uPSGnNsN3gCQ"
      },
      "source": [
        "---\n",
        "### Step 5: Modeling"
      ]
    },
    {
      "cell_type": "markdown",
      "metadata": {
        "id": "riSuA7Xi3gCQ"
      },
      "source": [
        "### <span style=\"color:chocolate\">Baseline model:</span> Logistic regression with one-hot encodings"
      ]
    },
    {
      "cell_type": "markdown",
      "metadata": {
        "id": "296Cnt647b5c"
      },
      "source": [
        "You will start with something familiar -- logistic regression. Since your feature representation is in 2 dimensions (20 x 1000), you need to flatten it to pass it to Keras (remember you did this with the pixel data too). Try two strategies for flattening.\n",
        "\n",
        "1. Flatten by *concatenating* (as you did with pixels), turning (20 x 1000) data into (20000,) data. The result is a separate feature for each token at each position;\n",
        "2. Flatten by *averaging* over token positions, turning (20 x 1000) data into (1000,) data. The result is an array with average token counts, ignoring position."
      ]
    },
    {
      "cell_type": "code",
      "execution_count": null,
      "metadata": {
        "id": "6m6eebM-0dUW"
      },
      "outputs": [],
      "source": [
        "def build_onehot_model(average_over_positions=False):\n",
        "  \"\"\"Build a tf.keras model for one-hot data.\"\"\"\n",
        "  # Clear session and remove randomness.\n",
        "  tf.keras.backend.clear_session()\n",
        "  tf.random.set_seed(0)\n",
        "\n",
        "  model = tf.keras.Sequential()\n",
        "\n",
        "  if average_over_positions:\n",
        "    # This layer averages over the first dimension of the input by default.\n",
        "    model.add(tf.keras.layers.GlobalAveragePooling1D())\n",
        "  else:\n",
        "    # Concatenate.\n",
        "    model.add(tf.keras.layers.Flatten())\n",
        "\n",
        "  model.add(tf.keras.layers.Dense(\n",
        "      units=1,                     # output dim (for binary classification)\n",
        "      activation=\"sigmoid\"         # sigmoid activation for binary classification\n",
        "  ))\n",
        "\n",
        "  model.compile(loss='binary_crossentropy',   # this is a classification task\n",
        "                optimizer='adam',             # fancy optimizer\n",
        "                metrics=['accuracy'])\n",
        "\n",
        "  return model"
      ]
    },
    {
      "cell_type": "markdown",
      "metadata": {
        "id": "NY3W_1-OSZ2X"
      },
      "source": [
        "Now let's try fitting the model to your training data and check performance metrics on the validation data. But first, here's a function for plotting the learning curves given the training history object we get from Keras."
      ]
    },
    {
      "cell_type": "code",
      "execution_count": null,
      "metadata": {
        "id": "cOVmajSuMjN6"
      },
      "outputs": [],
      "source": [
        "def plot_history(history):\n",
        "  plt.ylabel('Loss')\n",
        "  plt.xlabel('Epoch')\n",
        "  plt.xticks(range(0, len(history['loss'] + 1)))\n",
        "  plt.plot(history['loss'], label=\"training\", marker='o')\n",
        "  plt.plot(history['val_loss'], label=\"validation\", marker='o')\n",
        "  plt.ylim(0,1)\n",
        "  plt.legend()\n",
        "  plt.show()"
      ]
    },
    {
      "cell_type": "code",
      "execution_count": null,
      "metadata": {
        "colab": {
          "base_uri": "https://localhost:8080/",
          "height": 830
        },
        "id": "MyE4PgX70_op",
        "outputId": "1dad1206-767d-454f-c2a2-846780403d86"
      },
      "outputs": [
        {
          "output_type": "stream",
          "name": "stdout",
          "text": [
            "Epoch 1/5\n",
            "\u001b[1m352/352\u001b[0m \u001b[32m━━━━━━━━━━━━━━━━━━━━\u001b[0m\u001b[37m\u001b[0m \u001b[1m3s\u001b[0m 7ms/step - accuracy: 0.5683 - loss: 0.6859 - val_accuracy: 0.6480 - val_loss: 0.6664\n",
            "Epoch 2/5\n",
            "\u001b[1m352/352\u001b[0m \u001b[32m━━━━━━━━━━━━━━━━━━━━\u001b[0m\u001b[37m\u001b[0m \u001b[1m2s\u001b[0m 6ms/step - accuracy: 0.7434 - loss: 0.6397 - val_accuracy: 0.6684 - val_loss: 0.6460\n",
            "Epoch 3/5\n",
            "\u001b[1m352/352\u001b[0m \u001b[32m━━━━━━━━━━━━━━━━━━━━\u001b[0m\u001b[37m\u001b[0m \u001b[1m2s\u001b[0m 5ms/step - accuracy: 0.7768 - loss: 0.6019 - val_accuracy: 0.6748 - val_loss: 0.6308\n",
            "Epoch 4/5\n",
            "\u001b[1m352/352\u001b[0m \u001b[32m━━━━━━━━━━━━━━━━━━━━\u001b[0m\u001b[37m\u001b[0m \u001b[1m2s\u001b[0m 5ms/step - accuracy: 0.7985 - loss: 0.5708 - val_accuracy: 0.6780 - val_loss: 0.6192\n",
            "Epoch 5/5\n",
            "\u001b[1m352/352\u001b[0m \u001b[32m━━━━━━━━━━━━━━━━━━━━\u001b[0m\u001b[37m\u001b[0m \u001b[1m2s\u001b[0m 6ms/step - accuracy: 0.8112 - loss: 0.5445 - val_accuracy: 0.6820 - val_loss: 0.6102\n"
          ]
        },
        {
          "output_type": "display_data",
          "data": {
            "text/plain": [
              "\u001b[1mModel: \"sequential\"\u001b[0m\n"
            ],
            "text/html": [
              "<pre style=\"white-space:pre;overflow-x:auto;line-height:normal;font-family:Menlo,'DejaVu Sans Mono',consolas,'Courier New',monospace\"><span style=\"font-weight: bold\">Model: \"sequential\"</span>\n",
              "</pre>\n"
            ]
          },
          "metadata": {}
        },
        {
          "output_type": "display_data",
          "data": {
            "text/plain": [
              "┏━━━━━━━━━━━━━━━━━━━━━━━━━━━━━━━━━┳━━━━━━━━━━━━━━━━━━━━━━━━┳━━━━━━━━━━━━━━━┓\n",
              "┃\u001b[1m \u001b[0m\u001b[1mLayer (type)                   \u001b[0m\u001b[1m \u001b[0m┃\u001b[1m \u001b[0m\u001b[1mOutput Shape          \u001b[0m\u001b[1m \u001b[0m┃\u001b[1m \u001b[0m\u001b[1m      Param #\u001b[0m\u001b[1m \u001b[0m┃\n",
              "┡━━━━━━━━━━━━━━━━━━━━━━━━━━━━━━━━━╇━━━━━━━━━━━━━━━━━━━━━━━━╇━━━━━━━━━━━━━━━┩\n",
              "│ flatten (\u001b[38;5;33mFlatten\u001b[0m)               │ (\u001b[38;5;45mNone\u001b[0m, \u001b[38;5;34m20000\u001b[0m)          │             \u001b[38;5;34m0\u001b[0m │\n",
              "├─────────────────────────────────┼────────────────────────┼───────────────┤\n",
              "│ dense (\u001b[38;5;33mDense\u001b[0m)                   │ (\u001b[38;5;45mNone\u001b[0m, \u001b[38;5;34m1\u001b[0m)              │        \u001b[38;5;34m20,001\u001b[0m │\n",
              "└─────────────────────────────────┴────────────────────────┴───────────────┘\n"
            ],
            "text/html": [
              "<pre style=\"white-space:pre;overflow-x:auto;line-height:normal;font-family:Menlo,'DejaVu Sans Mono',consolas,'Courier New',monospace\">┏━━━━━━━━━━━━━━━━━━━━━━━━━━━━━━━━━┳━━━━━━━━━━━━━━━━━━━━━━━━┳━━━━━━━━━━━━━━━┓\n",
              "┃<span style=\"font-weight: bold\"> Layer (type)                    </span>┃<span style=\"font-weight: bold\"> Output Shape           </span>┃<span style=\"font-weight: bold\">       Param # </span>┃\n",
              "┡━━━━━━━━━━━━━━━━━━━━━━━━━━━━━━━━━╇━━━━━━━━━━━━━━━━━━━━━━━━╇━━━━━━━━━━━━━━━┩\n",
              "│ flatten (<span style=\"color: #0087ff; text-decoration-color: #0087ff\">Flatten</span>)               │ (<span style=\"color: #00d7ff; text-decoration-color: #00d7ff\">None</span>, <span style=\"color: #00af00; text-decoration-color: #00af00\">20000</span>)          │             <span style=\"color: #00af00; text-decoration-color: #00af00\">0</span> │\n",
              "├─────────────────────────────────┼────────────────────────┼───────────────┤\n",
              "│ dense (<span style=\"color: #0087ff; text-decoration-color: #0087ff\">Dense</span>)                   │ (<span style=\"color: #00d7ff; text-decoration-color: #00d7ff\">None</span>, <span style=\"color: #00af00; text-decoration-color: #00af00\">1</span>)              │        <span style=\"color: #00af00; text-decoration-color: #00af00\">20,001</span> │\n",
              "└─────────────────────────────────┴────────────────────────┴───────────────┘\n",
              "</pre>\n"
            ]
          },
          "metadata": {}
        },
        {
          "output_type": "display_data",
          "data": {
            "text/plain": [
              "\u001b[1m Total params: \u001b[0m\u001b[38;5;34m60,005\u001b[0m (234.40 KB)\n"
            ],
            "text/html": [
              "<pre style=\"white-space:pre;overflow-x:auto;line-height:normal;font-family:Menlo,'DejaVu Sans Mono',consolas,'Courier New',monospace\"><span style=\"font-weight: bold\"> Total params: </span><span style=\"color: #00af00; text-decoration-color: #00af00\">60,005</span> (234.40 KB)\n",
              "</pre>\n"
            ]
          },
          "metadata": {}
        },
        {
          "output_type": "display_data",
          "data": {
            "text/plain": [
              "\u001b[1m Trainable params: \u001b[0m\u001b[38;5;34m20,001\u001b[0m (78.13 KB)\n"
            ],
            "text/html": [
              "<pre style=\"white-space:pre;overflow-x:auto;line-height:normal;font-family:Menlo,'DejaVu Sans Mono',consolas,'Courier New',monospace\"><span style=\"font-weight: bold\"> Trainable params: </span><span style=\"color: #00af00; text-decoration-color: #00af00\">20,001</span> (78.13 KB)\n",
              "</pre>\n"
            ]
          },
          "metadata": {}
        },
        {
          "output_type": "display_data",
          "data": {
            "text/plain": [
              "\u001b[1m Non-trainable params: \u001b[0m\u001b[38;5;34m0\u001b[0m (0.00 B)\n"
            ],
            "text/html": [
              "<pre style=\"white-space:pre;overflow-x:auto;line-height:normal;font-family:Menlo,'DejaVu Sans Mono',consolas,'Courier New',monospace\"><span style=\"font-weight: bold\"> Non-trainable params: </span><span style=\"color: #00af00; text-decoration-color: #00af00\">0</span> (0.00 B)\n",
              "</pre>\n"
            ]
          },
          "metadata": {}
        },
        {
          "output_type": "display_data",
          "data": {
            "text/plain": [
              "\u001b[1m Optimizer params: \u001b[0m\u001b[38;5;34m40,004\u001b[0m (156.27 KB)\n"
            ],
            "text/html": [
              "<pre style=\"white-space:pre;overflow-x:auto;line-height:normal;font-family:Menlo,'DejaVu Sans Mono',consolas,'Courier New',monospace\"><span style=\"font-weight: bold\"> Optimizer params: </span><span style=\"color: #00af00; text-decoration-color: #00af00\">40,004</span> (156.27 KB)\n",
              "</pre>\n"
            ]
          },
          "metadata": {}
        },
        {
          "output_type": "display_data",
          "data": {
            "text/plain": [
              "<Figure size 640x480 with 1 Axes>"
            ],
            "image/png": "[encoded data removed]"
          },
          "metadata": {}
        }
      ],
      "source": [
        "model1 = build_onehot_model()\n",
        "\n",
        "# Fit the model.\n",
        "history1 = model1.fit(\n",
        "  x = X_train_one_hot,  # one-hot training data\n",
        "  y = Y_train,          # corresponding binary labels\n",
        "  epochs=5,             # number of passes through the training data\n",
        "  batch_size=64,        # mini-batch size\n",
        "  validation_split=0.1, # use a fraction of the examples for validation\n",
        "  verbose=1             # display some progress output during training\n",
        "  )\n",
        "\n",
        "model1.summary()\n",
        "# Convert the return value into a DataFrame so we can see the train loss\n",
        "# and binary accuracy after every epoch.\n",
        "history1 = pd.DataFrame(history1.history)\n",
        "plot_history(history1)"
      ]
    },
    {
      "cell_type": "code",
      "source": [
        "model_avg = build_onehot_model(average_over_positions=True)\n",
        "\n",
        "# Fit the model.\n",
        "history_avg = model_avg.fit(\n",
        "  x = X_train_one_hot,  # one-hot training data\n",
        "  y = Y_train,          # corresponding binary labels\n",
        "  epochs=5,             # number of passes through the training data\n",
        "  batch_size=64,        # mini-batch size\n",
        "  validation_split=0.1, # use a fraction of the examples for validation\n",
        "  verbose=1             # display some progress output during training\n",
        "  )\n",
        "\n",
        "model_avg.summary()\n",
        "# Convert the return value into a DataFrame so we can see the train loss\n",
        "# and binary accuracy after every epoch.\n",
        "history_avg = pd.DataFrame(history_avg.history)\n",
        "plot_history(history_avg)"
      ],
      "metadata": {
        "colab": {
          "base_uri": "https://localhost:8080/",
          "height": 846
        },
        "id": "0lZ57VHtH5S8",
        "outputId": "8a8bb352-c838-499e-e24a-8d3c0df6ea05"
      },
      "execution_count": null,
      "outputs": [
        {
          "output_type": "stream",
          "name": "stdout",
          "text": [
            "Epoch 1/5\n",
            "\u001b[1m352/352\u001b[0m \u001b[32m━━━━━━━━━━━━━━━━━━━━\u001b[0m\u001b[37m\u001b[0m \u001b[1m3s\u001b[0m 6ms/step - accuracy: 0.5681 - loss: 0.6919 - val_accuracy: 0.6400 - val_loss: 0.6885\n",
            "Epoch 2/5\n",
            "\u001b[1m352/352\u001b[0m \u001b[32m━━━━━━━━━━━━━━━━━━━━\u001b[0m\u001b[37m\u001b[0m \u001b[1m2s\u001b[0m 5ms/step - accuracy: 0.6624 - loss: 0.6868 - val_accuracy: 0.6700 - val_loss: 0.6839\n",
            "Epoch 3/5\n",
            "\u001b[1m352/352\u001b[0m \u001b[32m━━━━━━━━━━━━━━━━━━━━\u001b[0m\u001b[37m\u001b[0m \u001b[1m2s\u001b[0m 5ms/step - accuracy: 0.6820 - loss: 0.6819 - val_accuracy: 0.6800 - val_loss: 0.6795\n",
            "Epoch 4/5\n",
            "\u001b[1m352/352\u001b[0m \u001b[32m━━━━━━━━━━━━━━━━━━━━\u001b[0m\u001b[37m\u001b[0m \u001b[1m2s\u001b[0m 5ms/step - accuracy: 0.6900 - loss: 0.6771 - val_accuracy: 0.6860 - val_loss: 0.6753\n",
            "Epoch 5/5\n",
            "\u001b[1m352/352\u001b[0m \u001b[32m━━━━━━━━━━━━━━━━━━━━\u001b[0m\u001b[37m\u001b[0m \u001b[1m2s\u001b[0m 7ms/step - accuracy: 0.6952 - loss: 0.6726 - val_accuracy: 0.6932 - val_loss: 0.6712\n"
          ]
        },
        {
          "output_type": "display_data",
          "data": {
            "text/plain": [
              "\u001b[1mModel: \"sequential\"\u001b[0m\n"
            ],
            "text/html": [
              "<pre style=\"white-space:pre;overflow-x:auto;line-height:normal;font-family:Menlo,'DejaVu Sans Mono',consolas,'Courier New',monospace\"><span style=\"font-weight: bold\">Model: \"sequential\"</span>\n",
              "</pre>\n"
            ]
          },
          "metadata": {}
        },
        {
          "output_type": "display_data",
          "data": {
            "text/plain": [
              "┏━━━━━━━━━━━━━━━━━━━━━━━━━━━━━━━━━┳━━━━━━━━━━━━━━━━━━━━━━━━┳━━━━━━━━━━━━━━━┓\n",
              "┃\u001b[1m \u001b[0m\u001b[1mLayer (type)                   \u001b[0m\u001b[1m \u001b[0m┃\u001b[1m \u001b[0m\u001b[1mOutput Shape          \u001b[0m\u001b[1m \u001b[0m┃\u001b[1m \u001b[0m\u001b[1m      Param #\u001b[0m\u001b[1m \u001b[0m┃\n",
              "┡━━━━━━━━━━━━━━━━━━━━━━━━━━━━━━━━━╇━━━━━━━━━━━━━━━━━━━━━━━━╇━━━━━━━━━━━━━━━┩\n",
              "│ global_average_pooling1d        │ (\u001b[38;5;45mNone\u001b[0m, \u001b[38;5;34m1000\u001b[0m)           │             \u001b[38;5;34m0\u001b[0m │\n",
              "│ (\u001b[38;5;33mGlobalAveragePooling1D\u001b[0m)        │                        │               │\n",
              "├─────────────────────────────────┼────────────────────────┼───────────────┤\n",
              "│ dense (\u001b[38;5;33mDense\u001b[0m)                   │ (\u001b[38;5;45mNone\u001b[0m, \u001b[38;5;34m1\u001b[0m)              │         \u001b[38;5;34m1,001\u001b[0m │\n",
              "└─────────────────────────────────┴────────────────────────┴───────────────┘\n"
            ],
            "text/html": [
              "<pre style=\"white-space:pre;overflow-x:auto;line-height:normal;font-family:Menlo,'DejaVu Sans Mono',consolas,'Courier New',monospace\">┏━━━━━━━━━━━━━━━━━━━━━━━━━━━━━━━━━┳━━━━━━━━━━━━━━━━━━━━━━━━┳━━━━━━━━━━━━━━━┓\n",
              "┃<span style=\"font-weight: bold\"> Layer (type)                    </span>┃<span style=\"font-weight: bold\"> Output Shape           </span>┃<span style=\"font-weight: bold\">       Param # </span>┃\n",
              "┡━━━━━━━━━━━━━━━━━━━━━━━━━━━━━━━━━╇━━━━━━━━━━━━━━━━━━━━━━━━╇━━━━━━━━━━━━━━━┩\n",
              "│ global_average_pooling1d        │ (<span style=\"color: #00d7ff; text-decoration-color: #00d7ff\">None</span>, <span style=\"color: #00af00; text-decoration-color: #00af00\">1000</span>)           │             <span style=\"color: #00af00; text-decoration-color: #00af00\">0</span> │\n",
              "│ (<span style=\"color: #0087ff; text-decoration-color: #0087ff\">GlobalAveragePooling1D</span>)        │                        │               │\n",
              "├─────────────────────────────────┼────────────────────────┼───────────────┤\n",
              "│ dense (<span style=\"color: #0087ff; text-decoration-color: #0087ff\">Dense</span>)                   │ (<span style=\"color: #00d7ff; text-decoration-color: #00d7ff\">None</span>, <span style=\"color: #00af00; text-decoration-color: #00af00\">1</span>)              │         <span style=\"color: #00af00; text-decoration-color: #00af00\">1,001</span> │\n",
              "└─────────────────────────────────┴────────────────────────┴───────────────┘\n",
              "</pre>\n"
            ]
          },
          "metadata": {}
        },
        {
          "output_type": "display_data",
          "data": {
            "text/plain": [
              "\u001b[1m Total params: \u001b[0m\u001b[38;5;34m3,005\u001b[0m (11.74 KB)\n"
            ],
            "text/html": [
              "<pre style=\"white-space:pre;overflow-x:auto;line-height:normal;font-family:Menlo,'DejaVu Sans Mono',consolas,'Courier New',monospace\"><span style=\"font-weight: bold\"> Total params: </span><span style=\"color: #00af00; text-decoration-color: #00af00\">3,005</span> (11.74 KB)\n",
              "</pre>\n"
            ]
          },
          "metadata": {}
        },
        {
          "output_type": "display_data",
          "data": {
            "text/plain": [
              "\u001b[1m Trainable params: \u001b[0m\u001b[38;5;34m1,001\u001b[0m (3.91 KB)\n"
            ],
            "text/html": [
              "<pre style=\"white-space:pre;overflow-x:auto;line-height:normal;font-family:Menlo,'DejaVu Sans Mono',consolas,'Courier New',monospace\"><span style=\"font-weight: bold\"> Trainable params: </span><span style=\"color: #00af00; text-decoration-color: #00af00\">1,001</span> (3.91 KB)\n",
              "</pre>\n"
            ]
          },
          "metadata": {}
        },
        {
          "output_type": "display_data",
          "data": {
            "text/plain": [
              "\u001b[1m Non-trainable params: \u001b[0m\u001b[38;5;34m0\u001b[0m (0.00 B)\n"
            ],
            "text/html": [
              "<pre style=\"white-space:pre;overflow-x:auto;line-height:normal;font-family:Menlo,'DejaVu Sans Mono',consolas,'Courier New',monospace\"><span style=\"font-weight: bold\"> Non-trainable params: </span><span style=\"color: #00af00; text-decoration-color: #00af00\">0</span> (0.00 B)\n",
              "</pre>\n"
            ]
          },
          "metadata": {}
        },
        {
          "output_type": "display_data",
          "data": {
            "text/plain": [
              "\u001b[1m Optimizer params: \u001b[0m\u001b[38;5;34m2,004\u001b[0m (7.83 KB)\n"
            ],
            "text/html": [
              "<pre style=\"white-space:pre;overflow-x:auto;line-height:normal;font-family:Menlo,'DejaVu Sans Mono',consolas,'Courier New',monospace\"><span style=\"font-weight: bold\"> Optimizer params: </span><span style=\"color: #00af00; text-decoration-color: #00af00\">2,004</span> (7.83 KB)\n",
              "</pre>\n"
            ]
          },
          "metadata": {}
        },
        {
          "output_type": "display_data",
          "data": {
            "text/plain": [
              "<Figure size 640x480 with 1 Axes>"
            ],
            "image/png": "[encoded data removed]"
          },
          "metadata": {}
        }
      ]
    },
    {
      "cell_type": "markdown",
      "metadata": {
        "id": "naDf5Ub_3gCa"
      },
      "source": [
        "### <span style=\"color:chocolate\">Exercise 6:</span>  Comparing logistic regression models (20 points)"
      ]
    },
    {
      "cell_type": "markdown",
      "metadata": {
        "id": "QuCh9aQPv7F_"
      },
      "source": [
        "Train the one-hot model using both the concatenating and the averaging strategies and compare the results. Let's call these *LR-C* (Logistic Regression Concatenating) and *LR-A* (Logistic Regression Averaging). Then answer the following questions:\n",
        "\n",
        "1. What are the final training and validation accuracies for LR-C and LR-A?\n",
        "2. How many parameters are there in each model?\n",
        "3. Would you say that either model is overfitting? Why or why not?\n",
        "4. Briefly describe how LR-C differs from LR-A. How do you explain the relationship between their respective validation accuracy results?"
      ]
    },
    {
      "cell_type": "markdown",
      "metadata": {
        "id": "CEAN5BejHc__"
      },
      "source": [
        "*Written answer:*\n",
        "\n",
        "1. For LR-C, the final training and validation accuracies are 0.8132 and 0.6832. For LR-A, the final training and validation accuracies are 0.6918 and 0.6856.\n",
        "\n",
        "2. For LR-C, there are 60,005 parameters. For LR-A, there are 3,005 parameters.\n",
        "\n",
        "3. LR-C may be overfitting. This is because there is a decrease in training loss while validation loss stays about the same. The accuracies are also largely different, with training accuracy being 81% and validation accuracy being 0.6856. It is not generalizing well and is overfitted.\n",
        "\n",
        "4. LR-C and LR-A achieve similar validation accuracies because they're both constrained by the limited feature representation (20 tokens, 1000 vocab). However, LR-C is more stable and doesn't overfit, while LR-A shows overfitting with its training loss decreasing but validation loss staying flat. The averaging in LR-C acts as a regularizer, preventing overfitting without sacrificing accuracy.\n"
      ]
    },
    {
      "cell_type": "markdown",
      "metadata": {
        "id": "7GmJUNX53gCa"
      },
      "source": [
        "### <span style=\"color:chocolate\">Improvement over baseline:</span> Logistic regression with embeddings"
      ]
    },
    {
      "cell_type": "markdown",
      "metadata": {
        "id": "sJIBRqK7lsjG"
      },
      "source": [
        "Next, you will train a model that replaces one-hot representations of each token with learned embeddings.\n",
        "\n",
        "The code below uses a Keras Embedding layer, which expects to receive a sparse (rather than one-hot) representation. That is, it expects a (padded) sequence of token ids; for each id, it looks up the corresponding embedding vector."
      ]
    },
    {
      "cell_type": "code",
      "execution_count": null,
      "metadata": {
        "id": "ho6uOeCaBs2e"
      },
      "outputs": [],
      "source": [
        "def build_embeddings_model(average_over_positions=False,\n",
        "                           vocab_size=1000,\n",
        "                           sequence_length=20,\n",
        "                           embedding_dim=2):\n",
        "  \"\"\"Build a tf.keras model using embeddings.\"\"\"\n",
        "  # Clear session and remove randomness.\n",
        "  tf.keras.backend.clear_session()\n",
        "  tf.random.set_seed(0)\n",
        "\n",
        "  model = tf.keras.Sequential()\n",
        "  model.add(tf.keras.layers.Embedding(\n",
        "      input_dim=vocab_size,\n",
        "      output_dim=embedding_dim,\n",
        "      input_length=sequence_length)\n",
        "  )\n",
        "\n",
        "  if average_over_positions:\n",
        "    # This layer averages over the first dimension of the input by default.\n",
        "    model.add(tf.keras.layers.GlobalAveragePooling1D())\n",
        "  else:\n",
        "    # Concatenate.\n",
        "    model.add(tf.keras.layers.Flatten())\n",
        "\n",
        "  model.add(tf.keras.layers.Dense(\n",
        "      units=1,                     # output dim (for binary classification)\n",
        "      activation='sigmoid'         # apply the sigmoid function!\n",
        "  ))\n",
        "\n",
        "  model.compile(loss='binary_crossentropy',\n",
        "                optimizer='adam',\n",
        "                metrics=['accuracy'])\n",
        "\n",
        "  return model"
      ]
    },
    {
      "cell_type": "markdown",
      "metadata": {
        "id": "eyhoEjAiFSNB"
      },
      "source": [
        "You will train this model, this time using the averaging strategy instead of the concatenating strategy for handling the token sequence. You'll look up the embedding vectors for each token and average them to produce a single vector. Then, you'll use this averaged vector to train a logistic regression model to predict the binary label."
      ]
    },
    {
      "cell_type": "code",
      "execution_count": null,
      "metadata": {
        "colab": {
          "base_uri": "https://localhost:8080/",
          "height": 878
        },
        "id": "uYUE5UwkxoU8",
        "outputId": "5933f0a2-d066-4e9f-b78a-fd3839212aca"
      },
      "outputs": [
        {
          "output_type": "stream",
          "name": "stdout",
          "text": [
            "Epoch 1/5\n",
            "\u001b[1m352/352\u001b[0m \u001b[32m━━━━━━━━━━━━━━━━━━━━\u001b[0m\u001b[37m\u001b[0m \u001b[1m3s\u001b[0m 4ms/step - accuracy: 0.5796 - loss: 0.6901 - val_accuracy: 0.6604 - val_loss: 0.6777\n",
            "Epoch 2/5\n",
            "\u001b[1m352/352\u001b[0m \u001b[32m━━━━━━━━━━━━━━━━━━━━\u001b[0m\u001b[37m\u001b[0m \u001b[1m1s\u001b[0m 2ms/step - accuracy: 0.6794 - loss: 0.6700 - val_accuracy: 0.6916 - val_loss: 0.6520\n",
            "Epoch 3/5\n",
            "\u001b[1m352/352\u001b[0m \u001b[32m━━━━━━━━━━━━━━━━━━━━\u001b[0m\u001b[37m\u001b[0m \u001b[1m1s\u001b[0m 2ms/step - accuracy: 0.7005 - loss: 0.6412 - val_accuracy: 0.7028 - val_loss: 0.6251\n",
            "Epoch 4/5\n",
            "\u001b[1m352/352\u001b[0m \u001b[32m━━━━━━━━━━━━━━━━━━━━\u001b[0m\u001b[37m\u001b[0m \u001b[1m1s\u001b[0m 2ms/step - accuracy: 0.7108 - loss: 0.6124 - val_accuracy: 0.7072 - val_loss: 0.6025\n",
            "Epoch 5/5\n",
            "\u001b[1m352/352\u001b[0m \u001b[32m━━━━━━━━━━━━━━━━━━━━\u001b[0m\u001b[37m\u001b[0m \u001b[1m1s\u001b[0m 2ms/step - accuracy: 0.7180 - loss: 0.5880 - val_accuracy: 0.7124 - val_loss: 0.5850\n"
          ]
        },
        {
          "output_type": "display_data",
          "data": {
            "text/plain": [
              "\u001b[1mModel: \"sequential\"\u001b[0m\n"
            ],
            "text/html": [
              "<pre style=\"white-space:pre;overflow-x:auto;line-height:normal;font-family:Menlo,'DejaVu Sans Mono',consolas,'Courier New',monospace\"><span style=\"font-weight: bold\">Model: \"sequential\"</span>\n",
              "</pre>\n"
            ]
          },
          "metadata": {}
        },
        {
          "output_type": "display_data",
          "data": {
            "text/plain": [
              "┏━━━━━━━━━━━━━━━━━━━━━━━━━━━━━━━━━┳━━━━━━━━━━━━━━━━━━━━━━━━┳━━━━━━━━━━━━━━━┓\n",
              "┃\u001b[1m \u001b[0m\u001b[1mLayer (type)                   \u001b[0m\u001b[1m \u001b[0m┃\u001b[1m \u001b[0m\u001b[1mOutput Shape          \u001b[0m\u001b[1m \u001b[0m┃\u001b[1m \u001b[0m\u001b[1m      Param #\u001b[0m\u001b[1m \u001b[0m┃\n",
              "┡━━━━━━━━━━━━━━━━━━━━━━━━━━━━━━━━━╇━━━━━━━━━━━━━━━━━━━━━━━━╇━━━━━━━━━━━━━━━┩\n",
              "│ embedding (\u001b[38;5;33mEmbedding\u001b[0m)           │ (\u001b[38;5;45mNone\u001b[0m, \u001b[38;5;34m20\u001b[0m, \u001b[38;5;34m2\u001b[0m)          │         \u001b[38;5;34m2,000\u001b[0m │\n",
              "├─────────────────────────────────┼────────────────────────┼───────────────┤\n",
              "│ global_average_pooling1d        │ (\u001b[38;5;45mNone\u001b[0m, \u001b[38;5;34m2\u001b[0m)              │             \u001b[38;5;34m0\u001b[0m │\n",
              "│ (\u001b[38;5;33mGlobalAveragePooling1D\u001b[0m)        │                        │               │\n",
              "├─────────────────────────────────┼────────────────────────┼───────────────┤\n",
              "│ dense (\u001b[38;5;33mDense\u001b[0m)                   │ (\u001b[38;5;45mNone\u001b[0m, \u001b[38;5;34m1\u001b[0m)              │             \u001b[38;5;34m3\u001b[0m │\n",
              "└─────────────────────────────────┴────────────────────────┴───────────────┘\n"
            ],
            "text/html": [
              "<pre style=\"white-space:pre;overflow-x:auto;line-height:normal;font-family:Menlo,'DejaVu Sans Mono',consolas,'Courier New',monospace\">┏━━━━━━━━━━━━━━━━━━━━━━━━━━━━━━━━━┳━━━━━━━━━━━━━━━━━━━━━━━━┳━━━━━━━━━━━━━━━┓\n",
              "┃<span style=\"font-weight: bold\"> Layer (type)                    </span>┃<span style=\"font-weight: bold\"> Output Shape           </span>┃<span style=\"font-weight: bold\">       Param # </span>┃\n",
              "┡━━━━━━━━━━━━━━━━━━━━━━━━━━━━━━━━━╇━━━━━━━━━━━━━━━━━━━━━━━━╇━━━━━━━━━━━━━━━┩\n",
              "│ embedding (<span style=\"color: #0087ff; text-decoration-color: #0087ff\">Embedding</span>)           │ (<span style=\"color: #00d7ff; text-decoration-color: #00d7ff\">None</span>, <span style=\"color: #00af00; text-decoration-color: #00af00\">20</span>, <span style=\"color: #00af00; text-decoration-color: #00af00\">2</span>)          │         <span style=\"color: #00af00; text-decoration-color: #00af00\">2,000</span> │\n",
              "├─────────────────────────────────┼────────────────────────┼───────────────┤\n",
              "│ global_average_pooling1d        │ (<span style=\"color: #00d7ff; text-decoration-color: #00d7ff\">None</span>, <span style=\"color: #00af00; text-decoration-color: #00af00\">2</span>)              │             <span style=\"color: #00af00; text-decoration-color: #00af00\">0</span> │\n",
              "│ (<span style=\"color: #0087ff; text-decoration-color: #0087ff\">GlobalAveragePooling1D</span>)        │                        │               │\n",
              "├─────────────────────────────────┼────────────────────────┼───────────────┤\n",
              "│ dense (<span style=\"color: #0087ff; text-decoration-color: #0087ff\">Dense</span>)                   │ (<span style=\"color: #00d7ff; text-decoration-color: #00d7ff\">None</span>, <span style=\"color: #00af00; text-decoration-color: #00af00\">1</span>)              │             <span style=\"color: #00af00; text-decoration-color: #00af00\">3</span> │\n",
              "└─────────────────────────────────┴────────────────────────┴───────────────┘\n",
              "</pre>\n"
            ]
          },
          "metadata": {}
        },
        {
          "output_type": "display_data",
          "data": {
            "text/plain": [
              "\u001b[1m Total params: \u001b[0m\u001b[38;5;34m6,011\u001b[0m (23.48 KB)\n"
            ],
            "text/html": [
              "<pre style=\"white-space:pre;overflow-x:auto;line-height:normal;font-family:Menlo,'DejaVu Sans Mono',consolas,'Courier New',monospace\"><span style=\"font-weight: bold\"> Total params: </span><span style=\"color: #00af00; text-decoration-color: #00af00\">6,011</span> (23.48 KB)\n",
              "</pre>\n"
            ]
          },
          "metadata": {}
        },
        {
          "output_type": "display_data",
          "data": {
            "text/plain": [
              "\u001b[1m Trainable params: \u001b[0m\u001b[38;5;34m2,003\u001b[0m (7.82 KB)\n"
            ],
            "text/html": [
              "<pre style=\"white-space:pre;overflow-x:auto;line-height:normal;font-family:Menlo,'DejaVu Sans Mono',consolas,'Courier New',monospace\"><span style=\"font-weight: bold\"> Trainable params: </span><span style=\"color: #00af00; text-decoration-color: #00af00\">2,003</span> (7.82 KB)\n",
              "</pre>\n"
            ]
          },
          "metadata": {}
        },
        {
          "output_type": "display_data",
          "data": {
            "text/plain": [
              "\u001b[1m Non-trainable params: \u001b[0m\u001b[38;5;34m0\u001b[0m (0.00 B)\n"
            ],
            "text/html": [
              "<pre style=\"white-space:pre;overflow-x:auto;line-height:normal;font-family:Menlo,'DejaVu Sans Mono',consolas,'Courier New',monospace\"><span style=\"font-weight: bold\"> Non-trainable params: </span><span style=\"color: #00af00; text-decoration-color: #00af00\">0</span> (0.00 B)\n",
              "</pre>\n"
            ]
          },
          "metadata": {}
        },
        {
          "output_type": "display_data",
          "data": {
            "text/plain": [
              "\u001b[1m Optimizer params: \u001b[0m\u001b[38;5;34m4,008\u001b[0m (15.66 KB)\n"
            ],
            "text/html": [
              "<pre style=\"white-space:pre;overflow-x:auto;line-height:normal;font-family:Menlo,'DejaVu Sans Mono',consolas,'Courier New',monospace\"><span style=\"font-weight: bold\"> Optimizer params: </span><span style=\"color: #00af00; text-decoration-color: #00af00\">4,008</span> (15.66 KB)\n",
              "</pre>\n"
            ]
          },
          "metadata": {}
        },
        {
          "output_type": "display_data",
          "data": {
            "text/plain": [
              "<Figure size 640x480 with 1 Axes>"
            ],
            "image/png": "[encoded data removed]"
          },
          "metadata": {}
        }
      ],
      "source": [
        "X_train_reduced = np.array(X_train_reduced)\n",
        "\n",
        "model2 = build_embeddings_model(average_over_positions=True,\n",
        "                               vocab_size=1000,\n",
        "                               sequence_length=20,\n",
        "                               embedding_dim=2)\n",
        "history2 = model2.fit(\n",
        "  x = X_train_reduced,  # our sparse padded training data\n",
        "  y = Y_train,          # corresponding binary labels\n",
        "  epochs=5,             # number of passes through the training data\n",
        "  batch_size=64,        # mini-batch size\n",
        "  validation_split=0.1, # use a fraction of the examples for validation\n",
        "  verbose=1             # display some progress output during training\n",
        "  )\n",
        "\n",
        "model2.summary()\n",
        "\n",
        "history2 = pd.DataFrame(history2.history)\n",
        "plot_history(history2)"
      ]
    },
    {
      "cell_type": "markdown",
      "metadata": {
        "id": "2rqaprFI3gCb"
      },
      "source": [
        "### <span style=\"color:chocolate\">Exercise 7:</span> Embedding size tuning (20 points)"
      ]
    },
    {
      "cell_type": "markdown",
      "metadata": {
        "id": "V3k__61hFnag"
      },
      "source": [
        "Experiment with embedding sizes {2, 4, 8, 16, 32, 64}, while keeping other settings fixed and using the averaging strategy instead of the concatenating strategy. Then:\n",
        "\n",
        "1. Construct a table showing the training and validation accuracies for each model after 5 training epochs;\n",
        "2. Calculate the number of parameters in each model;\n",
        "3. Analyze whether learned embeddings improve performance compared to one-hot encoding, and explain why this might be the case."
      ]
    },
    {
      "cell_type": "markdown",
      "metadata": {
        "id": "O7t46ZdX2ofd"
      },
      "source": [
        "*Written answer:*\n",
        "\n",
        "1. | Embed Size | Training Accuracy | Validation Accuracy |\n",
        "|-------|------------------|---------------------|\n",
        "| 2 | 0.7180 | 0.7124 |\n",
        "| 4 | 0.7263 | 0.7204 |\n",
        "| 8 | 0.7410 | 0.7248 |\n",
        "| 16 | 0.7513 | 0.7284 |\n",
        "| 32 | 0.7549 | 0.7308 |\n",
        "| 64 | 0.7578 | 0.7308 |\n",
        "\n",
        "2. | Embed Size | Parameters |\n",
        "|-------|--------------|\n",
        "| 2 | 6,011 |\n",
        "| 4 | 12,017 |\n",
        "| 8 | 24,029 |\n",
        "| 16 | 48,053 |\n",
        "| 32 | 96,101 |\n",
        "| 64 | 192,197 |\n",
        "\n",
        "3. The learned embeddings show significant improvement over one-hot encoding:\n",
        "\n",
        "  - One-hot encoding (LR-C and LR-A): Validation accuracy ~67-70%\n",
        "  - Learned embeddings: Validation accuracy ranges from 71.2% (dim=2) to 73.1% (dim=32 and 64)\n",
        "\n",
        "    This represents approximately **3-6% improvement** in validation accuracy.\n",
        "\n",
        "    One-hot encoding creates sparse vectors, while embeddings create dense, low-dimensional vectors that capture semantic relationships between words. Similar words (like \"good\" and \"great\") end up with similar embeddings.\n",
        "\n",
        "    Even a 2-dimensional embedding (6,011 parameters) outperforms the one-hot model. Higher dimensions (32-64) capture more nuanced word relationships with 48,053-96,101 parameters, still far more efficient than storing 1000-dimensional one-hot vectors.\n",
        "\n",
        "    Embeddings are learned during training to optimize for the sentiment classification task. Words that are predictive of positive/negative sentiment are positioned meaningfully in the embedding space.\n",
        "\n",
        "    The dense representations help the model generalize better to unseen reviews by capturing underlying semantic patterns rather than just memorizing specific word indices."
      ]
    },
    {
      "cell_type": "markdown",
      "metadata": {
        "id": "Zj5ZkNgH3gCb"
      },
      "source": [
        "---"
      ]
    },
    {
      "cell_type": "markdown",
      "metadata": {
        "id": "i2dWOuxqKHA6"
      },
      "source": [
        "### Inspecting Learned Embeddings\n",
        "You will now retrieve the learned embedding parameters from the trained model2 and plot the token embeddings.\n",
        "\n",
        "The model layers in a Keras Sequential model are stored as a list and the embeddings are the first layer. You can use the <span style=\"color:chocolate\">get_weights()</span> function to get a numpy array with the parameters."
      ]
    },
    {
      "cell_type": "code",
      "execution_count": null,
      "metadata": {
        "id": "bfsbGSwkaFjo",
        "colab": {
          "base_uri": "https://localhost:8080/",
          "height": 86
        },
        "outputId": "67b132d6-a56b-4289-978c-16e0b2805512"
      },
      "outputs": [
        {
          "output_type": "display_data",
          "data": {
            "text/plain": [
              "[<Embedding name=embedding, built=True>,\n",
              " <GlobalAveragePooling1D name=global_average_pooling1d, built=True>,\n",
              " <Dense name=dense, built=True>]"
            ]
          },
          "metadata": {}
        },
        {
          "output_type": "display_data",
          "data": {
            "text/plain": [
              "(1000, 64)"
            ]
          },
          "metadata": {}
        }
      ],
      "source": [
        "# Display the model layers.\n",
        "display(model2.layers)\n",
        "\n",
        "# Retrieve the embeddings layer, which itself is wrapped in a list.\n",
        "embeddings2 = model2.layers[0].get_weights()[0]\n",
        "display(embeddings2.shape)"
      ]
    },
    {
      "cell_type": "markdown",
      "metadata": {
        "id": "apPWscNwcXTE"
      },
      "source": [
        "Now you'll use a fancy plotting tool called *plotly* to show the embeddings with hovertext so you can move your mouse over the points to see the corresponding tokens."
      ]
    },
    {
      "cell_type": "code",
      "execution_count": null,
      "metadata": {
        "id": "5RZMTrA0KttL",
        "colab": {
          "base_uri": "https://localhost:8080/",
          "height": 542
        },
        "outputId": "8c1c865d-ad78-485c-e5ce-bf536627a93b"
      },
      "outputs": [
        {
          "output_type": "display_data",
          "data": {
            "text/html": [
              "<html>\n",
              "<head><meta charset=\"utf-8\" /></head>\n",
              "<body>\n",
              "    <div>            <script src=\"https://cdnjs.cloudflare.com/ajax/libs/mathjax/2.7.5/MathJax.js?config=TeX-AMS-MML_SVG\"></script><script type=\"text/javascript\">if (window.MathJax && window.MathJax.Hub && window.MathJax.Hub.Config) {window.MathJax.Hub.Config({SVG: {font: \"STIX-Web\"}});}</script>                <script type=\"text/javascript\">window.PlotlyConfig = {MathJaxConfig: 'local'};</script>\n",
              "        <script charset=\"utf-8\" src=\"https://cdn.plot.ly/plotly-2.35.2.min.js\"></script>                <div id=\"b060b5a0-45a9-4725-81f6-d65d5599e85a\" class=\"plotly-graph-div\" style=\"height:525px; width:100%;\"></div>            <script type=\"text/javascript\">                                    window.PLOTLYENV=window.PLOTLYENV || {};                                    if (document.getElementById(\"b060b5a0-45a9-4725-81f6-d65d5599e85a\")) {                    Plotly.newPlot(                        \"b060b5a0-45a9-4725-81f6-d65d5599e85a\",                        [{\"hoverinfo\":\"text\",\"mode\":\"markers\",\"text\":[\"game\",\"past\",\"able\",\"b\",\"days\",\"turns\",\"child\",\"they're\",\"hand\",\"flick\",\"enjoyed\",\"act\",\"genre\",\"town\",\"favorite\",\"soon\",\"kill\",\"starts\",\"sometimes\",\"car\",\"gave\",\"run\",\"late\",\"eyes\",\"actress\",\"etc\",\"directed\",\"horrible\",\"won't\",\"viewer\",\"brilliant\",\"parts\",\"self\",\"themselves\",\"hour\",\"expect\",\"thinking\",\"stories\",\"stuff\",\"girls\",\"obviously\",\"blood\",\"decent\",\"city\",\"voice\",\"highly\",\"myself\",\"feeling\",\"fight\",\"except\",\"slow\",\"matter\",\"type\",\"anyway\",\"kid\",\"roles\",\"killed\",\"heard\",\"god\",\"age\",\"says\",\"moment\",\"took\",\"leave\",\"writer\",\"strong\",\"cannot\",\"violence\",\"police\",\"hit\",\"stop\",\"happens\",\"particularly\",\"known\",\"involved\",\"happened\",\"extremely\",\"daughter\",\"obvious\",\"told\",\"chance\",\"living\",\"coming\",\"lack\",\"alone\",\"experience\",\"wouldn't\",\"including\",\"murder\",\"attempt\",\"s\",\"please\",\"james\",\"happen\",\"wonder\",\"crap\",\"ago\",\"brother\",\"film's\",\"gore\",\"none\",\"complete\",\"interest\",\"score\",\"group\",\"cut\",\"simple\",\"save\",\"ok\",\"hell\",\"looked\",\"career\",\"number\",\"song\",\"possible\",\"seriously\",\"annoying\",\"shown\",\"exactly\",\"sad\",\"running\",\"musical\",\"serious\",\"taken\",\"yourself\",\"whose\",\"released\",\"cinematography\",\"david\",\"scary\",\"ends\",\"english\",\"hero\",\"usually\",\"hours\",\"reality\",\"opening\",\"i'll\",\"across\",\"today\",\"jokes\",\"light\",\"hilarious\",\"somewhat\",\"usual\",\"started\",\"cool\",\"ridiculous\",\"body\",\"relationship\",\"view\",\"level\",\"opinion\",\"change\",\"happy\",\"middle\",\"taking\",\"wish\",\"husband\",\"finds\",\"saying\",\"order\",\"talking\",\"ones\",\"documentary\",\"shots\",\"huge\",\"novel\",\"female\",\"mostly\",\"robert\",\"power\",\"episodes\",\"room\",\"important\",\"rating\",\"talent\",\"five\",\"major\",\"turned\",\"strange\",\"word\",\"modern\",\"call\",\"apparently\",\"disappointed\",\"single\",\"events\",\"due\",\"four\",\"songs\",\"basically\",\"attention\",\"7\",\"knows\",\"clearly\",\"supporting\",\"knew\",\"british\",\"television\",\"comic\",\"non\",\"fast\",\"earth\",\"country\",\"future\",\"cheap\",\"class\",\"thriller\",\"8\",\"silly\",\"king\",\"problems\",\"aren't\",\"easily\",\"words\",\"tells\",\"miss\",\"jack\",\"local\",\"sequence\",\"bring\",\"entertainment\",\"paul\",\"beyond\",\"upon\",\"whether\",\"predictable\",\"moving\",\"similar\",\"straight\",\"romantic\",\"sets\",\"review\",\"falls\",\"oscar\",\"mystery\",\"enjoyable\",\"needs\",\"appears\",\"talk\",\"rock\",\"george\",\"giving\",\"eye\",\"richard\",\"within\",\"ten\",\"animation\",\"message\",\"theater\",\"near\",\"above\",\"dull\",\"nearly\",\"sequel\",\"theme\",\"points\",\"'\",\"stand\",\"mention\",\"lady\",\"bunch\",\"add\",\"feels\",\"herself\",\"release\",\"red\",\"team\",\"storyline\",\"surprised\",\"ways\",\"using\",\"named\",\"haven't\",\"lots\",\"easy\",\"fantastic\",\"begins\",\"actual\",\"working\",\"effort\",\"york\",\"die\",\"hate\",\"french\",\"minute\",\"tale\",\"clear\",\"stay\",\"9\",\"elements\",\"feature\",\"among\",\"follow\",\"comments\",\"re\",\"viewers\",\"avoid\",\"sister\",\"showing\",\"typical\",\"editing\",\"what's\",\"famous\",\"tried\",\"sorry\",\"dialog\",\"check\",\"fall\",\"period\",\"season\",\"form\",\"certain\",\"filmed\",\"weak\",\"soundtrack\",\"means\",\"buy\",\"material\",\"somehow\",\"realistic\",\"figure\",\"crime\",\"doubt\",\"gone\",\"peter\",\"tom\",\"kept\",\"viewing\",\"t\",\"general\",\"leads\",\"greatest\",\"space\",\"lame\",\"suspense\",\"dance\",\"imagine\",\"brought\",\"third\",\"atmosphere\",\"hear\",\"particular\",\"sequences\",\"whatever\",\"parents\",\"move\",\"lee\",\"indeed\",\"learn\",\"rent\",\"de\",\"eventually\",\"note\",\"deal\",\"average\",\"reviews\",\"wait\",\"forget\",\"japanese\",\"sexual\",\"poorly\",\"premise\",\"okay\",\"zombie\",\"surprise\",\"believable\",\"stage\",\"possibly\",\"sit\",\"who's\",\"decided\",\"expected\",\"you've\",\"subject\",\"nature\",\"became\",\"difficult\",\"free\",\"killing\",\"screenplay\",\"truth\",\"romance\",\"dr\",\"nor\",\"reading\",\"needed\",\"question\",\"leaves\",\"street\",\"20\",\"meets\",\"hot\",\"unless\",\"begin\",\"baby\",\"superb\",\"credits\",\"imdb\",\"otherwise\",\"write\",\"shame\",\"let's\",\"situation\",\"dramatic\",\"memorable\",\"directors\",\"earlier\",\"meet\",\"disney\",\"open\",\"dog\",\"badly\",\"joe\",\"male\",\"weird\",\"acted\",\"forced\",\"laughs\",\"sci\",\"emotional\",\"older\",\"realize\",\"fi\",\"dream\",\"society\",\"writers\",\"interested\",\"footage\",\"forward\",\"comment\",\"crazy\",\"deep\",\"sounds\",\"plus\",\"beauty\",\"whom\",\"america\",\"fantasy\",\"directing\",\"keeps\",\"ask\",\"development\",\"features\",\"air\",\"quickly\",\"mess\",\"creepy\",\"towards\",\"perfectly\",\"mark\",\"worked\",\"box\",\"cheesy\",\"unique\",\"setting\",\"hands\",\"plenty\",\"result\",\"previous\",\"brings\",\"effect\",\"e\",\"total\",\"personal\",\"incredibly\",\"rate\",\"fire\",\"monster\",\"business\",\"leading\",\"apart\",\"casting\",\"admit\",\"joke\",\"powerful\",\"appear\",\"background\",\"telling\",\"girlfriend\",\"meant\",\"christmas\",\"hardly\",\"present\",\"battle\",\"potential\",\"create\",\"bill\",\"break\",\"pay\",\"masterpiece\",\"gay\",\"political\",\"return\",\"dumb\",\"fails\",\"fighting\",\"various\",\"era\"],\"textposition\":\"bottom left\",\"x\":[-0.10251965,-0.0740034,0.032622218,0.011356342,-0.11556326,0.055995204,-0.11457363,-0.0001238334,0.20637955,0.04156235,-0.17636704,0.08124334,-0.13536678,0.022663236,-0.3209133,-0.12840107,0.1465946,0.11376524,-0.198387,0.09944635,-0.044046648,0.079616606,-0.06292769,-0.09291812,0.026103446,0.2179171,0.110553585,0.438306,-0.09139162,0.002358961,-0.32472944,-0.11933034,0.19345506,0.006490464,-0.034998875,0.031445295,0.017579766,-0.14266682,-0.020610258,0.02177616,0.1101025,-0.034680754,0.14029251,-0.05110457,-0.072019905,-0.58348095,0.023891144,-0.04339355,0.013767091,0.15034096,0.050843857,-0.07502591,-0.0038194004,0.024271403,0.12742926,0.038321603,0.1542659,-0.06707307,0.17042059,-0.06663458,0.008526261,-0.03494812,-0.012356071,0.097811975,0.12410363,-0.16747013,0.041849367,0.046459462,-0.07971712,-0.26622906,0.08240942,0.2441874,0.069818005,-0.05191494,0.21176828,-0.010010139,0.025362117,0.030144934,0.17604728,0.08947006,-0.31976664,0.05112303,0.018034488,0.29747173,0.046729386,-0.09798083,0.31925747,-0.20598432,0.035675112,0.28801522,0.029795783,0.031517915,-0.12793976,-0.0314134,0.035578206,0.43178442,-0.017723955,0.03440219,0.16606659,0.23330322,0.21469353,0.043998893,0.09704101,-0.06689573,-0.012440387,-0.06749018,-0.09258743,0.49713674,0.092007115,0.13667391,0.23803508,0.14854613,-0.09601352,0.011385587,-0.054182414,0.13682671,0.28553233,-0.060753137,-0.07769473,0.20809217,0.034495592,-0.014152557,0.0112336995,0.000054342905,0.10904324,-0.0323993,-0.1221231,0.048767287,0.044972964,0.10263744,-0.00051087944,-0.21237491,-0.103325054,0.026409985,0.018649617,-0.15407671,-0.0479467,0.060241994,0.0012574526,-0.37522015,0.10349632,-0.1871202,-0.13728645,-0.0016482836,0.00011796114,0.07994727,-0.18230614,0.23409471,0.09518196,-0.19492795,-0.056283925,0.03395046,0.021069959,-0.118759476,-0.17945541,0.052912273,0.031766802,-0.054954175,0.09573146,-0.067622684,0.077743754,-0.046984874,-0.07216208,0.024094641,-0.05883025,0.20971648,0.12255976,0.07818664,0.096226715,0.05968759,-0.09467505,0.032076772,-0.13475725,0.09498951,-0.028372783,0.055538278,0.14146562,0.03878088,0.16483247,0.18830818,-0.024074834,0.12328964,-0.16491914,0.10983112,0.1041563,0.041068777,0.08289865,-0.014876196,0.11020539,0.04130839,0.04909974,0.14546996,-0.14764516,-0.6306062,-0.13252553,0.11530566,-0.0007752369,0.22002035,0.11228254,-0.10973437,-0.1246386,0.008058983,0.11429705,-0.0060288575,-0.08880569,-0.08040798,0.35526663,-0.019005805,-0.15206596,-0.62230796,0.06421342,0.04898885,0.06294988,0.052185204,-0.14143924,-0.0741846,-0.19904059,-0.20409311,-0.08299381,0.119520664,-0.22010991,-0.22379115,-0.033268277,-0.099817745,-0.040690567,0.003967282,-0.07849804,0.2340057,-0.17484443,-0.07848084,0.010719888,-0.16823569,0.021268811,0.00014205267,0.11616675,-0.23313104,-0.051129103,-0.26551342,0.086513475,0.12617168,-0.0360782,-0.15262654,0.023538824,0.032988556,0.006914124,-0.12005349,-0.116698645,-0.058296517,-0.0042207106,-0.18052545,0.16534764,0.046184,0.0136186015,0.3882439,-0.11153769,-0.012445752,0.07207394,0.07284404,0.08071834,-0.029627325,-0.045436233,-0.16948336,-0.14587614,-0.006810524,0.0283642,-0.14863846,-0.09346232,0.1569251,-0.13449305,0.03572058,-0.101977736,-0.06255357,0.11810482,0.2309102,-0.13368213,-0.010035321,-0.04111033,-0.25759292,-0.0023796123,0.21254869,0.05812705,0.24514797,0.087391436,0.16380425,0.085413374,-0.009429861,0.09839532,-0.25217012,0.1511644,0.13056564,-0.49656382,-0.1133162,0.08442818,-0.08663256,0.018317843,-0.090250604,0.029661104,0.0177593,0.7119903,0.12779503,-0.101115584,-0.11083289,0.030240705,0.0037814926,-0.1678441,0.01289508,0.2793688,0.024333132,-0.20140952,-0.054707527,-0.027348643,-0.15124828,-0.037311185,-0.11856183,0.061664805,0.24151707,-0.116410255,-0.058558296,-0.14077105,0.14882271,-0.04862441,-0.2418469,0.05278357,-0.10505405,-0.036528118,-0.06503985,-0.010837561,-0.15686026,0.059406027,-0.24216717,0.17855446,0.05467112,-0.010173539,-0.2863977,0.021875702,0.3751507,0.016392823,-0.14206797,-0.042229723,-0.115069136,-0.008543815,-0.2702138,-0.12804718,-0.07017703,-0.13644476,0.026866019,0.031978227,0.061137803,0.3237747,0.092039324,-0.09121687,0.097614415,-0.026925437,-0.08976091,0.07281775,-0.09868561,0.04248687,0.026040504,0.031145705,-0.031207498,-0.115141295,0.055823494,0.43788338,0.24517007,0.26129436,0.093459345,0.01769764,-0.14759842,-0.018660322,-0.0043925517,0.12980674,-0.09017306,0.16191444,0.07232056,-0.07300704,0.14129438,-0.19464302,0.03274288,-0.21943314,0.14231533,0.14834885,0.022463063,0.059881646,-0.13936512,0.010620987,0.02957773,-0.1324084,-0.12240153,-0.075802445,0.006455698,0.0385688,0.023195641,-0.05681358,0.10369045,0.4834141,0.08446731,0.07151464,-0.3442073,0.0773259,0.10809317,0.16577384,0.2761396,0.19644888,0.0852708,-0.25043046,-0.16814686,-0.037737746,0.09565073,-0.036085833,0.1734115,-0.04643905,-0.11804059,0.07584594,0.35616726,0.23288459,0.15396726,-0.05785064,0.0057516596,0.12353106,0.07764,-0.01563403,-0.076166995,0.053389136,0.17781368,-0.035357222,-0.039920617,-0.0799881,0.13710904,-0.10175216,0.0125506865,-0.10090898,0.044172756,0.067009225,-0.1525069,0.03664703,0.035541624,-0.14632627,-0.042445097,-0.1815598,-0.19390668,-0.014400277,-0.10467998,-0.06549654,0.054996677,-0.051691648,-0.18473579,0.077587254,0.49552992,-0.10944477,0.04871359,-0.2707357,0.11367299,0.09028818,-0.1086936,0.045813195,-0.08358105,0.12499251,0.07655533,-0.0004095928,0.3131808,0.071054615,-0.111057855,-0.0046065524,0.15124814,0.15207757,-0.029740702,-0.046896257,0.00062220194,-0.11400281,0.09631781,0.034608025,-0.1301241,0.090993896,0.09055542,-0.046273164,0.2824374,-0.34808734,0.058809806,-0.0033237867,0.020253206,-0.11376039,0.06631317,0.13486639,0.12420518,-0.12177388,-0.047660615,0.16977413,-0.046142634,-0.06253383,0.16789272,0.25729135,-0.23540828,0.13732177,-0.049563684,0.06290274,0.21486388,0.3010781,-0.07934488,-0.04352269,-0.19699651],\"y\":[0.09480132,0.037684727,-0.028933538,0.00042625412,0.079684965,0.0048659975,0.06605318,0.011211863,-0.18894555,-0.06307467,0.2748122,-0.115180835,0.12761591,-0.03185472,0.43091762,0.1409661,-0.1806253,-0.04251575,0.2133623,-0.17926358,0.029868508,-0.10389296,-0.006440623,0.02996915,0.042499434,-0.1948341,-0.099079326,-0.47457036,0.10776597,-0.038229536,0.41740543,0.08981412,-0.19364752,-0.012236967,0.02970857,-0.03291638,-0.061644655,0.2040977,0.017621236,0.03465565,-0.14121978,0.12627916,-0.19973262,0.031205073,0.055342775,0.6660512,-0.020439582,0.019819029,-0.053453237,-0.2239966,-0.047377963,0.13092177,0.047933824,0.034527786,-0.15084465,-0.000083504216,-0.13204713,0.12920126,-0.17659476,0.11366689,-0.001020845,-0.00018638716,-0.019619197,-0.11416498,-0.10428184,0.24690552,0.005313306,-0.022313027,0.0002523208,0.37624878,-0.07169764,-0.25056326,-0.049486812,0.032496862,-0.19422904,0.008892123,-0.022322945,0.012834043,-0.24003398,-0.118557096,0.28293744,-0.10859253,0.0806568,-0.3028761,-0.05151206,0.20247969,-0.4327458,0.18198647,-0.029798446,-0.2987107,0.0070940778,-0.020826748,0.18053809,0.017218174,-0.026827298,-0.56573874,0.02253854,-0.010087308,-0.12792711,-0.36076653,-0.22356121,-0.10486979,-0.1094732,0.055025153,0.023144703,0.12812631,0.142789,-0.6200181,-0.12654112,-0.13985927,-0.22459216,-0.11857243,0.040318113,-0.026983637,0.05138317,-0.16051093,-0.29203576,0.06869332,0.038768686,-0.20771186,-0.08495746,0.027230749,0.003351679,0.056029078,-0.17511272,-0.0077027255,0.07065819,0.006358069,-0.1084766,-0.15190251,-0.018157573,0.28629506,0.06136184,-0.019124923,-0.12776104,0.16250281,0.050757095,-0.034854464,0.008734086,0.46599498,-0.101612955,0.1894555,0.1365564,0.031655546,-0.04896526,-0.096597135,0.1580272,-0.30151436,-0.14379217,0.2136703,0.06546038,-0.029299177,-0.0868612,0.12284181,0.17174824,0.0046555027,-0.047198854,0.06216888,-0.07703129,0.07422289,-0.103314824,0.018124582,0.10300669,-0.008632685,0.05013213,-0.19639279,-0.16235116,-0.080825634,-0.051916126,-0.038278982,0.052869946,-0.01289279,0.2117371,-0.051731642,0.052535508,-0.13179804,-0.14866048,-0.11954263,-0.15777567,-0.17712353,0.034689464,-0.16726369,0.15730298,-0.16542941,-0.08446058,-0.11811481,-0.06652002,0.066046394,-0.11330991,-0.027777256,-0.023320282,-0.15763876,0.18072955,0.7245248,0.15814385,-0.16984603,0.033319682,-0.2591135,-0.13519372,0.06861776,0.05776797,-0.07757073,-0.13222319,0.016494675,0.032323357,0.15964314,-0.37933275,0.034339625,0.24268347,0.71223503,-0.15319811,-0.061107654,-0.0011377248,-0.06763206,0.08959785,0.10759713,0.2040954,0.20660347,0.102679916,-0.08768547,0.22439516,0.19287334,0.027846884,0.11756879,0.04805297,-0.05292066,0.15634622,-0.23851356,0.2379814,0.097107075,-0.020591162,0.17527048,-0.004106047,-0.008759389,-0.18622358,0.2381298,0.035217017,0.35584742,-0.15981902,-0.105449386,0.113398835,0.16581574,-0.07085905,-0.053495813,-0.054598756,0.038378894,0.06533375,0.020899365,-0.026247418,0.21314442,-0.21533015,-0.036731396,-0.0053428328,-0.45449743,0.1273393,-0.020410711,-0.004054081,-0.08451017,-0.035801344,0.075401,-0.009546487,0.16013713,0.08931893,0.008086717,-0.02096737,0.2010962,0.17537461,-0.12655103,0.14237054,-0.011141835,0.042865474,0.050567344,-0.07430408,-0.19199625,0.15850012,0.0014595877,0.09647331,0.24084555,0.08301832,-0.16243172,0.011861032,-0.29981422,-0.06867986,-0.15847091,-0.063026085,-0.023981284,-0.18986174,0.27407768,-0.14663494,-0.2409251,0.55381805,0.12473451,-0.079872146,0.076114215,-0.050514776,0.07744628,-0.071592875,-0.031169688,-0.84882665,-0.11046743,0.01978963,0.16663194,-0.06691104,0.01765906,0.2024572,0.0074873967,-0.39045092,-0.076311536,0.25821266,0.038113613,0.031545456,0.1874818,0.020149592,0.07496619,-0.100615986,-0.2705334,0.12907828,0.12323207,0.12925424,-0.15593898,0.0011360615,0.26080233,-0.030821493,0.04234223,0.10268743,0.07821657,0.022211505,0.1183559,0.019507775,0.26720947,-0.25302267,-0.071559705,-0.0028455814,0.34564638,-0.1154279,-0.42534876,0.057057112,0.23670931,0.039375067,0.120112166,0.07492352,0.2427528,0.055364642,0.08629643,0.14996198,-0.050259024,-0.00087213196,-0.13765705,-0.33457252,-0.11689843,0.07212799,-0.17278524,-0.031642176,0.062074363,-0.06076692,0.06568016,0.030659387,-0.044861984,0.04676874,0.014149468,0.11107295,-0.04970182,-0.42259544,-0.25031266,-0.29452875,-0.0915296,0.04759501,0.21533513,-0.006719169,-0.03807352,-0.091186576,0.09580048,-0.12161316,-0.116356336,0.006993345,-0.09694996,0.2762894,-0.046091706,0.23168975,-0.18541507,-0.1520672,0.05653221,-0.032063544,0.103618816,0.0040468797,-0.03249229,0.1105533,0.17808487,0.048861146,0.06569275,0.035130385,-0.05613685,0.026016429,-0.16404007,-0.5976498,-0.00607747,-0.009729409,0.41353923,-0.17357938,-0.03545748,-0.24002652,-0.21734653,-0.22466278,-0.037514504,0.21459365,0.10015975,0.025532069,-0.15144533,0.090372145,-0.124316394,0.11965207,0.14362231,-0.11110215,-0.3216397,-0.23066019,-0.11829479,0.14008856,-0.028294863,-0.09800415,-0.13955276,0.055338137,0.12235062,-0.024280328,-0.15767743,-0.0374126,0.043772135,0.11400007,-0.17055166,0.16506879,0.04094221,0.13392396,-0.08428163,-0.03638458,0.12077261,-0.105141684,-0.0729276,0.18626131,0.033903252,0.15059605,0.18878634,0.04647273,0.1694129,0.030124865,-0.03972941,0.043355245,0.16750602,-0.10579754,-0.55241376,0.1497236,-0.035688296,0.35503456,-0.1342114,-0.109701626,0.09861117,-0.07763188,0.18598522,-0.12588274,-0.058784287,-0.060473178,-0.30492985,-0.07555486,0.16983025,-0.06811739,-0.1284554,-0.21599475,0.039573383,0.042161368,0.07325464,0.17646685,-0.15488838,-0.018647902,0.102040865,-0.120172374,-0.17642851,0.039792355,-0.28929248,0.3136999,-0.033633124,-0.03153071,-0.016055968,0.103694715,-0.16019586,-0.068042204,-0.19218823,0.13787824,0.04920097,-0.1901062,0.021919958,0.054794125,-0.2576133,-0.25855738,0.19668657,-0.1712328,0.06949815,-0.06787628,-0.25855815,-0.3466473,0.116521165,0.047734912,0.21747172],\"type\":\"scatter\"}],                        {\"hovermode\":\"closest\",\"title\":{\"text\":\"Word Embeddings\"},\"template\":{\"data\":{\"histogram2dcontour\":[{\"type\":\"histogram2dcontour\",\"colorbar\":{\"outlinewidth\":0,\"ticks\":\"\"},\"colorscale\":[[0.0,\"#0d0887\"],[0.1111111111111111,\"#46039f\"],[0.2222222222222222,\"#7201a8\"],[0.3333333333333333,\"#9c179e\"],[0.4444444444444444,\"#bd3786\"],[0.5555555555555556,\"#d8576b\"],[0.6666666666666666,\"#ed7953\"],[0.7777777777777778,\"#fb9f3a\"],[0.8888888888888888,\"#fdca26\"],[1.0,\"#f0f921\"]]}],\"choropleth\":[{\"type\":\"choropleth\",\"colorbar\":{\"outlinewidth\":0,\"ticks\":\"\"}}],\"histogram2d\":[{\"type\":\"histogram2d\",\"colorbar\":{\"outlinewidth\":0,\"ticks\":\"\"},\"colorscale\":[[0.0,\"#0d0887\"],[0.1111111111111111,\"#46039f\"],[0.2222222222222222,\"#7201a8\"],[0.3333333333333333,\"#9c179e\"],[0.4444444444444444,\"#bd3786\"],[0.5555555555555556,\"#d8576b\"],[0.6666666666666666,\"#ed7953\"],[0.7777777777777778,\"#fb9f3a\"],[0.8888888888888888,\"#fdca26\"],[1.0,\"#f0f921\"]]}],\"heatmap\":[{\"type\":\"heatmap\",\"colorbar\":{\"outlinewidth\":0,\"ticks\":\"\"},\"colorscale\":[[0.0,\"#0d0887\"],[0.1111111111111111,\"#46039f\"],[0.2222222222222222,\"#7201a8\"],[0.3333333333333333,\"#9c179e\"],[0.4444444444444444,\"#bd3786\"],[0.5555555555555556,\"#d8576b\"],[0.6666666666666666,\"#ed7953\"],[0.7777777777777778,\"#fb9f3a\"],[0.8888888888888888,\"#fdca26\"],[1.0,\"#f0f921\"]]}],\"heatmapgl\":[{\"type\":\"heatmapgl\",\"colorbar\":{\"outlinewidth\":0,\"ticks\":\"\"},\"colorscale\":[[0.0,\"#0d0887\"],[0.1111111111111111,\"#46039f\"],[0.2222222222222222,\"#7201a8\"],[0.3333333333333333,\"#9c179e\"],[0.4444444444444444,\"#bd3786\"],[0.5555555555555556,\"#d8576b\"],[0.6666666666666666,\"#ed7953\"],[0.7777777777777778,\"#fb9f3a\"],[0.8888888888888888,\"#fdca26\"],[1.0,\"#f0f921\"]]}],\"contourcarpet\":[{\"type\":\"contourcarpet\",\"colorbar\":{\"outlinewidth\":0,\"ticks\":\"\"}}],\"contour\":[{\"type\":\"contour\",\"colorbar\":{\"outlinewidth\":0,\"ticks\":\"\"},\"colorscale\":[[0.0,\"#0d0887\"],[0.1111111111111111,\"#46039f\"],[0.2222222222222222,\"#7201a8\"],[0.3333333333333333,\"#9c179e\"],[0.4444444444444444,\"#bd3786\"],[0.5555555555555556,\"#d8576b\"],[0.6666666666666666,\"#ed7953\"],[0.7777777777777778,\"#fb9f3a\"],[0.8888888888888888,\"#fdca26\"],[1.0,\"#f0f921\"]]}],\"surface\":[{\"type\":\"surface\",\"colorbar\":{\"outlinewidth\":0,\"ticks\":\"\"},\"colorscale\":[[0.0,\"#0d0887\"],[0.1111111111111111,\"#46039f\"],[0.2222222222222222,\"#7201a8\"],[0.3333333333333333,\"#9c179e\"],[0.4444444444444444,\"#bd3786\"],[0.5555555555555556,\"#d8576b\"],[0.6666666666666666,\"#ed7953\"],[0.7777777777777778,\"#fb9f3a\"],[0.8888888888888888,\"#fdca26\"],[1.0,\"#f0f921\"]]}],\"mesh3d\":[{\"type\":\"mesh3d\",\"colorbar\":{\"outlinewidth\":0,\"ticks\":\"\"}}],\"scatter\":[{\"fillpattern\":{\"fillmode\":\"overlay\",\"size\":10,\"solidity\":0.2},\"type\":\"scatter\"}],\"parcoords\":[{\"type\":\"parcoords\",\"line\":{\"colorbar\":{\"outlinewidth\":0,\"ticks\":\"\"}}}],\"scatterpolargl\":[{\"type\":\"scatterpolargl\",\"marker\":{\"colorbar\":{\"outlinewidth\":0,\"ticks\":\"\"}}}],\"bar\":[{\"error_x\":{\"color\":\"#2a3f5f\"},\"error_y\":{\"color\":\"#2a3f5f\"},\"marker\":{\"line\":{\"color\":\"#E5ECF6\",\"width\":0.5},\"pattern\":{\"fillmode\":\"overlay\",\"size\":10,\"solidity\":0.2}},\"type\":\"bar\"}],\"scattergeo\":[{\"type\":\"scattergeo\",\"marker\":{\"colorbar\":{\"outlinewidth\":0,\"ticks\":\"\"}}}],\"scatterpolar\":[{\"type\":\"scatterpolar\",\"marker\":{\"colorbar\":{\"outlinewidth\":0,\"ticks\":\"\"}}}],\"histogram\":[{\"marker\":{\"pattern\":{\"fillmode\":\"overlay\",\"size\":10,\"solidity\":0.2}},\"type\":\"histogram\"}],\"scattergl\":[{\"type\":\"scattergl\",\"marker\":{\"colorbar\":{\"outlinewidth\":0,\"ticks\":\"\"}}}],\"scatter3d\":[{\"type\":\"scatter3d\",\"line\":{\"colorbar\":{\"outlinewidth\":0,\"ticks\":\"\"}},\"marker\":{\"colorbar\":{\"outlinewidth\":0,\"ticks\":\"\"}}}],\"scattermapbox\":[{\"type\":\"scattermapbox\",\"marker\":{\"colorbar\":{\"outlinewidth\":0,\"ticks\":\"\"}}}],\"scatterternary\":[{\"type\":\"scatterternary\",\"marker\":{\"colorbar\":{\"outlinewidth\":0,\"ticks\":\"\"}}}],\"scattercarpet\":[{\"type\":\"scattercarpet\",\"marker\":{\"colorbar\":{\"outlinewidth\":0,\"ticks\":\"\"}}}],\"carpet\":[{\"aaxis\":{\"endlinecolor\":\"#2a3f5f\",\"gridcolor\":\"white\",\"linecolor\":\"white\",\"minorgridcolor\":\"white\",\"startlinecolor\":\"#2a3f5f\"},\"baxis\":{\"endlinecolor\":\"#2a3f5f\",\"gridcolor\":\"white\",\"linecolor\":\"white\",\"minorgridcolor\":\"white\",\"startlinecolor\":\"#2a3f5f\"},\"type\":\"carpet\"}],\"table\":[{\"cells\":{\"fill\":{\"color\":\"#EBF0F8\"},\"line\":{\"color\":\"white\"}},\"header\":{\"fill\":{\"color\":\"#C8D4E3\"},\"line\":{\"color\":\"white\"}},\"type\":\"table\"}],\"barpolar\":[{\"marker\":{\"line\":{\"color\":\"#E5ECF6\",\"width\":0.5},\"pattern\":{\"fillmode\":\"overlay\",\"size\":10,\"solidity\":0.2}},\"type\":\"barpolar\"}],\"pie\":[{\"automargin\":true,\"type\":\"pie\"}]},\"layout\":{\"autotypenumbers\":\"strict\",\"colorway\":[\"#636efa\",\"#EF553B\",\"#00cc96\",\"#ab63fa\",\"#FFA15A\",\"#19d3f3\",\"#FF6692\",\"#B6E880\",\"#FF97FF\",\"#FECB52\"],\"font\":{\"color\":\"#2a3f5f\"},\"hovermode\":\"closest\",\"hoverlabel\":{\"align\":\"left\"},\"paper_bgcolor\":\"white\",\"plot_bgcolor\":\"#E5ECF6\",\"polar\":{\"bgcolor\":\"#E5ECF6\",\"angularaxis\":{\"gridcolor\":\"white\",\"linecolor\":\"white\",\"ticks\":\"\"},\"radialaxis\":{\"gridcolor\":\"white\",\"linecolor\":\"white\",\"ticks\":\"\"}},\"ternary\":{\"bgcolor\":\"#E5ECF6\",\"aaxis\":{\"gridcolor\":\"white\",\"linecolor\":\"white\",\"ticks\":\"\"},\"baxis\":{\"gridcolor\":\"white\",\"linecolor\":\"white\",\"ticks\":\"\"},\"caxis\":{\"gridcolor\":\"white\",\"linecolor\":\"white\",\"ticks\":\"\"}},\"coloraxis\":{\"colorbar\":{\"outlinewidth\":0,\"ticks\":\"\"}},\"colorscale\":{\"sequential\":[[0.0,\"#0d0887\"],[0.1111111111111111,\"#46039f\"],[0.2222222222222222,\"#7201a8\"],[0.3333333333333333,\"#9c179e\"],[0.4444444444444444,\"#bd3786\"],[0.5555555555555556,\"#d8576b\"],[0.6666666666666666,\"#ed7953\"],[0.7777777777777778,\"#fb9f3a\"],[0.8888888888888888,\"#fdca26\"],[1.0,\"#f0f921\"]],\"sequentialminus\":[[0.0,\"#0d0887\"],[0.1111111111111111,\"#46039f\"],[0.2222222222222222,\"#7201a8\"],[0.3333333333333333,\"#9c179e\"],[0.4444444444444444,\"#bd3786\"],[0.5555555555555556,\"#d8576b\"],[0.6666666666666666,\"#ed7953\"],[0.7777777777777778,\"#fb9f3a\"],[0.8888888888888888,\"#fdca26\"],[1.0,\"#f0f921\"]],\"diverging\":[[0,\"#8e0152\"],[0.1,\"#c51b7d\"],[0.2,\"#de77ae\"],[0.3,\"#f1b6da\"],[0.4,\"#fde0ef\"],[0.5,\"#f7f7f7\"],[0.6,\"#e6f5d0\"],[0.7,\"#b8e186\"],[0.8,\"#7fbc41\"],[0.9,\"#4d9221\"],[1,\"#276419\"]]},\"xaxis\":{\"gridcolor\":\"white\",\"linecolor\":\"white\",\"ticks\":\"\",\"title\":{\"standoff\":15},\"zerolinecolor\":\"white\",\"automargin\":true,\"zerolinewidth\":2},\"yaxis\":{\"gridcolor\":\"white\",\"linecolor\":\"white\",\"ticks\":\"\",\"title\":{\"standoff\":15},\"zerolinecolor\":\"white\",\"automargin\":true,\"zerolinewidth\":2},\"scene\":{\"xaxis\":{\"backgroundcolor\":\"#E5ECF6\",\"gridcolor\":\"white\",\"linecolor\":\"white\",\"showbackground\":true,\"ticks\":\"\",\"zerolinecolor\":\"white\",\"gridwidth\":2},\"yaxis\":{\"backgroundcolor\":\"#E5ECF6\",\"gridcolor\":\"white\",\"linecolor\":\"white\",\"showbackground\":true,\"ticks\":\"\",\"zerolinecolor\":\"white\",\"gridwidth\":2},\"zaxis\":{\"backgroundcolor\":\"#E5ECF6\",\"gridcolor\":\"white\",\"linecolor\":\"white\",\"showbackground\":true,\"ticks\":\"\",\"zerolinecolor\":\"white\",\"gridwidth\":2}},\"shapedefaults\":{\"line\":{\"color\":\"#2a3f5f\"}},\"annotationdefaults\":{\"arrowcolor\":\"#2a3f5f\",\"arrowhead\":0,\"arrowwidth\":1},\"geo\":{\"bgcolor\":\"white\",\"landcolor\":\"#E5ECF6\",\"subunitcolor\":\"white\",\"showland\":true,\"showlakes\":true,\"lakecolor\":\"white\"},\"title\":{\"x\":0.05},\"mapbox\":{\"style\":\"light\"}}}},                        {\"responsive\": true}                    ).then(function(){\n",
              "                            \n",
              "var gd = document.getElementById('b060b5a0-45a9-4725-81f6-d65d5599e85a');\n",
              "var x = new MutationObserver(function (mutations, observer) {{\n",
              "        var display = window.getComputedStyle(gd).display;\n",
              "        if (!display || display === 'none') {{\n",
              "            console.log([gd, 'removed!']);\n",
              "            Plotly.purge(gd);\n",
              "            observer.disconnect();\n",
              "        }}\n",
              "}});\n",
              "\n",
              "// Listen for the removal of the full notebook cells\n",
              "var notebookContainer = gd.closest('#notebook-container');\n",
              "if (notebookContainer) {{\n",
              "    x.observe(notebookContainer, {childList: true});\n",
              "}}\n",
              "\n",
              "// Listen for the clearing of the current output cell\n",
              "var outputEl = gd.closest('.output');\n",
              "if (outputEl) {{\n",
              "    x.observe(outputEl, {childList: true});\n",
              "}}\n",
              "\n",
              "                        })                };                            </script>        </div>\n",
              "</body>\n",
              "</html>"
            ]
          },
          "metadata": {}
        }
      ],
      "source": [
        "def plot_2d_embeddings(embeddings, id_start=1, count=100):\n",
        "  # Get 1st and 2nd embedding dims for the desired tokens.\n",
        "  x1 = embeddings[id_start:id_start+count, 0]\n",
        "  x2 = embeddings[id_start:id_start+count, 1]\n",
        "\n",
        "  # Get the corresponding words from the reverse index (for labeling).\n",
        "  tokens = [reverse_index[i] for i in range(id_start, id_start+count)]\n",
        "\n",
        "  # Plot with the plotly library.\n",
        "  data = plotly.Scatter(x=x1, y=x2, text=tokens,\n",
        "                        mode='markers', textposition='bottom left',\n",
        "                        hoverinfo='text')\n",
        "  fig = plotly.Figure(data=[data],\n",
        "                      layout=plotly.Layout(title=\"Word Embeddings\",\n",
        "                                           hovermode='closest'))\n",
        "  fig.show()\n",
        "\n",
        "# Very frequent tokens tend to be more syntactic than semantic, so let's plot\n",
        "# some rarer words.\n",
        "plot_2d_embeddings(embeddings2, id_start=500, count=500)"
      ]
    },
    {
      "cell_type": "markdown",
      "metadata": {
        "id": "MKHQWdfb3gCb"
      },
      "source": [
        "### <span style=\"color:chocolate\">Exercise 8:</span> Interpreting embeddings (20 points)"
      ]
    },
    {
      "cell_type": "markdown",
      "metadata": {
        "id": "Z3Mm8MjRcZ20"
      },
      "source": [
        "Notice that the 2-D embeddings fall in a narrow diagonal band. Answer the following questions:\n",
        "\n",
        "1. Have the learned embeddings separated positive and negative words? What is the most negative word? Does this make sense?\n",
        "2. Give 2 examples of words that seem to have surprising embedding values and try to explain their positions. For example, what's going on with the tokens '7', '8', and '9'? What are two other surprising results?\n",
        "3. The embedding for 'crazy' is very close to (0,0). Explain what this means in terms of the model's output.\n",
        "4. Can you explain what you think the 2 learned embedding dimensions mean, if anything?"
      ]
    },
    {
      "cell_type": "markdown",
      "metadata": {
        "id": "x_qAAvvo2y3t"
      },
      "source": [
        "1. The learned embeddings have separated the positive and negative words. The positive words are towards the upper part of the diagonal and the negative words are towards the lower part. The most negative word is \"avoid\" which makes a lot of sense (\"avoid this movie\" etc.).\n",
        "\n",
        "2. The tokens '7', '8' and '9' seem to have positive embedding values. This could be because all these numbers are considered ratings out of 10, and are above 5, which means the movie would be considered above mediocre. The reason 7 would appear more positive is likely because it is a rating that is given out a lot more than an 8 or 9. \"Today\" is another one which appears to be positive but I would expect it to be neutral. Reviews like \"This movie is still good today\" may be present in the dataset and skew the results for the word \"today\" to be considered positive. \"Unless\" is another word which is not negative on its own, but is overwhelmingly negative. Reviews like \"I wouldn't watch this unless I was forced to\" may skew its embedding value.\n",
        "\n",
        "3. \"Crazy\" being very close to neutral indicates that the training dataset has reviews containing positive phrases like \"crazy amazing\" but also negative ones like \"crazy stupid.\" This means crazy appears equally in positive and negative sentiment.\n",
        "\n",
        "4. The x-axis appears to represent sentiment polarity- the primary feature separating positive and negative words. Positive words like \"good\", \"great\", \"amazing\" and high numbers like \"7\", \"8\", \"9\" appear on one end, while negative words like \"bad\", \"terrible\", \"boring\" appear on the other end.\n",
        "\n",
        "    The y-axis appears to capture sentiment polarity or a highly correlated feature."
      ]
    },
    {
      "cell_type": "markdown",
      "metadata": {
        "id": "Aex0kACQ3gCb"
      },
      "source": [
        "----\n",
        "#### <span style=\"color:chocolate\">Additional practice question</span> (not graded)\n",
        "\n",
        "More data and bigger models"
      ]
    },
    {
      "cell_type": "markdown",
      "metadata": {
        "id": "IXCitmUvxfwb"
      },
      "source": [
        "Remember how you limited your input sequences to 20 tokens and 1000 vocabulary entries? Let's see how well you can do using more data and bigger models (more parameters)."
      ]
    },
    {
      "cell_type": "markdown",
      "metadata": {
        "id": "U8HlPwTn3gCb"
      },
      "source": [
        "Using pieces of code from above, set up and train a model to achieve at least 80% accuracy on both training and validation data. Ensure the following elements are included:\n",
        "\n",
        "1. Truncate and pad input to the desired length;\n",
        "2. Limit the vocabulary to the desired size;\n",
        "3. Set up a model using embeddings;\n",
        "4. Use the averaging strategy rather than the concatenating strategy;\n",
        "5. Add additional layer(s) after the GlobalAveragePooling1D layer and before the output layer;\n",
        "6. Evaluate the model's performance on the test data and comment on its generalization performance. Hint: remember to apply the same preprocessing to the test data. Use the <span style=\"color:chocolate\">model.evaluate()</span> function for the final evaluation."
      ]
    },
    {
      "cell_type": "code",
      "execution_count": null,
      "metadata": {
        "id": "ekbJ4sIq2hID"
      },
      "outputs": [],
      "source": [
        "# YOUR CODE HERE"
      ]
    }
  ],
  "metadata": {
    "colab": {
      "provenance": []
    },
    "kernelspec": {
      "display_name": "Python 3 (ipykernel)",
      "language": "python",
      "name": "python3"
    },
    "language_info": {
      "codemirror_mode": {
        "name": "ipython",
        "version": 3
      },
      "file_extension": ".py",
      "mimetype": "text/x-python",
      "name": "python",
      "nbconvert_exporter": "python",
      "pygments_lexer": "ipython3",
      "version": "3.12.4"
    }
  },
  "nbformat": 4,
  "nbformat_minor": 0
}
