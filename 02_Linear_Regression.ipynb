{
  "cells": [
    {
      "cell_type": "markdown",
      "metadata": {
        "id": "rHLcriKWLRe4"
      },
      "source": [
        "# Assignment 2"
      ]
    },
    {
      "cell_type": "markdown",
      "metadata": {
        "id": "5WTSyQnhzjC8"
      },
      "source": [
        "### Import libraries"
      ]
    },
    {
      "cell_type": "code",
      "execution_count": null,
      "metadata": {
        "id": "7X58hOMTUH-w"
      },
      "outputs": [],
      "source": [
        "import numpy as np\n",
        "from sklearn.model_selection import train_test_split\n",
        "from sklearn.metrics import mean_squared_error\n",
        "import matplotlib.pyplot as plt"
      ]
    },
    {
      "cell_type": "markdown",
      "metadata": {
        "id": "lOgs20yQzjC8"
      },
      "source": [
        "### Define functions"
      ]
    },
    {
      "cell_type": "code",
      "execution_count": null,
      "metadata": {
        "id": "-EuNmLKXzjC8"
      },
      "outputs": [],
      "source": [
        "def create_1d_data(num_examples, w, b, bound):\n",
        "  \"\"\"Create X, Y data with a linear relationship with added noise.\n",
        "\n",
        "  Args:\n",
        "    num_examples: number of examples to generate\n",
        "    w: desired slope\n",
        "    b: desired intercept\n",
        "    bound: lower and upper boundary of the data interval\n",
        "\n",
        "  Returns:\n",
        "    X and Y with shape (num_examples)\n",
        "  \"\"\"\n",
        "  np.random.seed(4)  # consistent random number generation\n",
        "  X = np.arange(num_examples)\n",
        "  deltas = np.random.uniform(low=-bound, high=bound, size=X.shape) # added noise\n",
        "  Y = b + deltas + w * X\n",
        "\n",
        "  return X, Y"
      ]
    },
    {
      "cell_type": "markdown",
      "metadata": {
        "id": "hrKtl2-IzjC8"
      },
      "source": [
        "---\n",
        "### Step 1: Data ingestion"
      ]
    },
    {
      "cell_type": "markdown",
      "metadata": {
        "id": "qN4IV3fMzjC9"
      },
      "source": [
        "Let's start by creating some artificial data using the <span style=\"color:chocolate\">create_1d_data()</span> function defined at the top of the notebook."
      ]
    },
    {
      "cell_type": "code",
      "execution_count": null,
      "metadata": {
        "id": "6qJg0IiYVJ8U",
        "colab": {
          "base_uri": "https://localhost:8080/"
        },
        "outputId": "e9d2a851-6e6f-4a02-c39b-9de3ff94257b"
      },
      "outputs": [
        {
          "output_type": "stream",
          "name": "stdout",
          "text": [
            "Printing shape of X: (70,)\n",
            "Printing first 10 elements in X: [0 1 2 3 4 5 6 7 8 9]\n",
            "\n",
            "Printing shape of Y: (70,)\n",
            "Printing first 10 elements in Y: [ 1.93405968  3.0944645   5.94536872  7.42963199  9.39545765 10.43217899\n",
            " 13.95254891 14.01246051 16.50596472 18.86958306]\n"
          ]
        }
      ],
      "source": [
        "# Define parameters\n",
        "num_examples = 70\n",
        "w = 2\n",
        "b = 1\n",
        "bound = 1\n",
        "\n",
        "# Create data\n",
        "X, Y = create_1d_data(num_examples, w, b, bound)\n",
        "\n",
        "# Print shapes\n",
        "print('Printing shape of X:', X.shape)\n",
        "print('Printing first 10 elements in X:', X[:10])\n",
        "print('\\nPrinting shape of Y:', Y.shape)\n",
        "print('Printing first 10 elements in Y:', Y[:10])"
      ]
    },
    {
      "cell_type": "markdown",
      "metadata": {
        "id": "8NXo1n9j1LMT"
      },
      "source": [
        "---\n",
        "### Step 2: Data Preprocessing"
      ]
    },
    {
      "cell_type": "markdown",
      "metadata": {
        "id": "ZtnIxBW5zjC9"
      },
      "source": [
        "Our objectives here involve adding one more feature to X and creating data partitions."
      ]
    },
    {
      "cell_type": "markdown",
      "metadata": {
        "id": "YFZWQ5C6zjC9"
      },
      "source": [
        "### <span style=\"color:chocolate\">Exercise 1:</span> Adding features (10 points)"
      ]
    },
    {
      "cell_type": "markdown",
      "metadata": {
        "id": "E6twRsqUzjC9"
      },
      "source": [
        "1. Add a column of $1s$ to $X$ (this will serve as an intercept or \"bias\" in our modeling task later on). Note: do not create a new array, just concatenate with the current values;\n",
        "2. Print the shape of the array."
      ]
    },
    {
      "cell_type": "code",
      "execution_count": null,
      "metadata": {
        "id": "GzBKSonPzjC9",
        "colab": {
          "base_uri": "https://localhost:8080/"
        },
        "outputId": "3b586291-e53b-4562-b708-7c52fdfee072"
      },
      "outputs": [
        {
          "output_type": "stream",
          "name": "stdout",
          "text": [
            "Printing shape of X:  (70, 2)\n"
          ]
        }
      ],
      "source": [
        "newcol = np.ones(X.shape[0])\n",
        "X = np.column_stack((newcol, X))\n",
        "print('Printing shape of X: ', X.shape)\n"
      ]
    },
    {
      "cell_type": "markdown",
      "metadata": {
        "id": "7irmWaoAzjC9"
      },
      "source": [
        "### <span style=\"color:chocolate\">Exercise 2:</span> Data splits (10 points)"
      ]
    },
    {
      "cell_type": "markdown",
      "metadata": {
        "id": "8iclODsjzjC9"
      },
      "source": [
        "Using the <span style=\"color:chocolate\">train_test_split()</span> method available in scikit-learn:\n",
        "1. Split the (X,Y) data into training and test paritions by setting test_size=0.2 and random_state=1234. All the other arguments of the method are set to default values. Name the resulting arrays X_train, X_test, Y_train, Y_test;\n",
        "2. Print the shape of each array."
      ]
    },
    {
      "cell_type": "code",
      "execution_count": null,
      "metadata": {
        "id": "PV54SL-4zjC9",
        "colab": {
          "base_uri": "https://localhost:8080/"
        },
        "outputId": "718c2758-96f5-445c-a6b7-47d7fb301f49"
      },
      "outputs": [
        {
          "output_type": "stream",
          "name": "stdout",
          "text": [
            "Shape X_train: (56, 2)\n",
            "Shape X_test: (14, 2)\n",
            "Shape Y_train: (56,)\n",
            "Shape Y_test: (14,)\n"
          ]
        }
      ],
      "source": [
        "X_train, X_test, Y_train, Y_test = train_test_split(X, Y, test_size = 0.2, random_state = 1234)\n",
        "print(\"Shape X_train:\", X_train.shape)\n",
        "print(\"Shape X_test:\", X_test.shape)\n",
        "print(\"Shape Y_train:\", Y_train.shape)\n",
        "print(\"Shape Y_test:\", Y_test.shape)"
      ]
    },
    {
      "cell_type": "markdown",
      "metadata": {
        "id": "_8GkoDvszjC9"
      },
      "source": [
        "---\n",
        "### Step 3: Exploratory data analysis (EDA)"
      ]
    },
    {
      "cell_type": "markdown",
      "metadata": {
        "id": "jtLMeS4vzjC9"
      },
      "source": [
        "### <span style=\"color:chocolate\">Exercise 3:</span> Plots (10 points)"
      ]
    },
    {
      "cell_type": "markdown",
      "metadata": {
        "id": "f1E93nz6zjC9"
      },
      "source": [
        "Create a side-by-side histogram for the values in Y_train and X_train. Make sure to include axes name and titles for each subplot."
      ]
    },
    {
      "cell_type": "code",
      "execution_count": null,
      "metadata": {
        "id": "M9_3Qc0PzjC9",
        "colab": {
          "base_uri": "https://localhost:8080/",
          "height": 427
        },
        "outputId": "06fefddc-4320-46f8-f75d-3259c6545f47"
      },
      "outputs": [
        {
          "output_type": "display_data",
          "data": {
            "text/plain": [
              "<Figure size 1200x500 with 2 Axes>"
            ],
            "image/png": "[encoded data removed]"
          },
          "metadata": {}
        }
      ],
      "source": [
        "fig, axes = plt.subplots(1,2, figsize=(12, 5))\n",
        "\n",
        "axes[0].hist(X_train, bins=15)\n",
        "axes[0].set_title(\"Histogram of X\")\n",
        "axes[0].set_xlabel(\"X values\")\n",
        "axes[0].set_ylabel(\"Frequency\")\n",
        "\n",
        "axes[1].hist(Y_train, bins=15)\n",
        "axes[1].set_title(\"Histogram of Y\")\n",
        "axes[1].set_xlabel(\"Y values\")\n",
        "axes[1].set_ylabel(\"Frequency\")\n",
        "\n",
        "plt.tight_layout()\n",
        "plt.show()"
      ]
    },
    {
      "cell_type": "markdown",
      "metadata": {
        "id": "mFOgRcR-zjC9"
      },
      "source": [
        "---\n",
        "### Step 4: Modeling"
      ]
    },
    {
      "cell_type": "markdown",
      "metadata": {
        "id": "g0lZwYDZzjC9"
      },
      "source": [
        "Let's start by considering the two models proposed in Assignment 1:\n",
        "1. $M_1(x) = 5+x$\n",
        "2. $M_2(x) = 1+2x$"
      ]
    },
    {
      "cell_type": "markdown",
      "metadata": {
        "id": "hnsU9AozzjC9"
      },
      "source": [
        "### <span style=\"color:chocolate\">Exercise 4:</span> Practice with Parameters (10 points)"
      ]
    },
    {
      "cell_type": "markdown",
      "metadata": {
        "id": "i5uva9pFzjC9"
      },
      "source": [
        "Perform the following computations:\n",
        "\n",
        "1. Use matrix multiplication (np.dot) to create $M_1$ and $M_2$ (as previously defined) to produce vectors of predictions using the X_train data. Call these predictions M1_hat_train, M2_hat_train. Hint: the \"learned\" parameters are alredy provided to you;\n",
        "3. Print the shapes of the predictions to verify that they match the shape of Y_train."
      ]
    },
    {
      "cell_type": "code",
      "execution_count": null,
      "metadata": {
        "id": "aBEZ_QOX6qOi",
        "colab": {
          "base_uri": "https://localhost:8080/"
        },
        "outputId": "639abe2e-5530-46c9-c369-869d030f7310"
      },
      "outputs": [
        {
          "output_type": "stream",
          "name": "stdout",
          "text": [
            "Shape of M1_hat_train:  (56,)\n",
            "Shape of M2_hat_train:  (56,)\n"
          ]
        }
      ],
      "source": [
        "M1_weights = np.array([5,1])\n",
        "M2_weights = np.array([1,2])\n",
        "M1_hat_train = np.dot(X_train, M1_weights)\n",
        "M2_hat_train = 1 + np.dot(X_train, M2_weights)\n",
        "print(\"Shape of M1_hat_train: \", M1_hat_train.shape)\n",
        "print(\"Shape of M2_hat_train: \", M2_hat_train.shape)"
      ]
    },
    {
      "cell_type": "markdown",
      "metadata": {
        "id": "0sDpwHAGzjC9"
      },
      "source": [
        "### <span style=\"color:chocolate\">Exercise 5:</span> Learn parameters with Gradient Descent (20 points)"
      ]
    },
    {
      "cell_type": "markdown",
      "metadata": {
        "id": "QaXYiTm9ftRf"
      },
      "source": [
        "1. Fill in the <span style=\"color:green\">NotImplemented</span> parts of the <span style=\"color:chocolate\">gradient_descent()</span> function below. Hint: refer to ``02 Linear Regression_helper.ipynb file``;\n",
        "\n",
        "2. Run this function with our artificial (X_train, Y_train) data . Set learning_rate = .0002 and num_epochs = 5. Print out the weights and loss after each epoch.\n",
        "\n",
        "3. Generate a plot with the loss values on the y-axis and the epoch number on the x-axis for visualization. Make sure to include axes name and title."
      ]
    },
    {
      "cell_type": "code",
      "execution_count": null,
      "metadata": {
        "id": "e4N_AoiqzjC9",
        "colab": {
          "base_uri": "https://localhost:8080/"
        },
        "outputId": "825ccdd2-0da7-4f04-9749-1b05ef63b5c5"
      },
      "outputs": [
        {
          "output_type": "stream",
          "name": "stdout",
          "text": [
            "0\n",
            "1\n",
            "2\n",
            "3\n",
            "4\n"
          ]
        }
      ],
      "source": [
        "num_epochs = 5\n",
        "for i in range(num_epochs):\n",
        "    print(i)"
      ]
    },
    {
      "cell_type": "code",
      "execution_count": null,
      "metadata": {
        "id": "_hP9rzDyFXTg"
      },
      "outputs": [],
      "source": [
        "def gradient_descent(inputs, outputs, learning_rate, num_epochs):\n",
        "  \"\"\"Apply the gradient descent algorithm to learn learn linear regression.\n",
        "\n",
        "  Args:\n",
        "    inputs: A 2-D array where each column is an input feature and each\n",
        "            row is a training example.\n",
        "    outputs: A 1-D array containing the real-valued\n",
        "             label corresponding to the input data in the same row.\n",
        "    learning_rate: The learning rate to use for updates.\n",
        "    num_epochs: The number of passes through the full training data.\n",
        "\n",
        "  Returns:\n",
        "    weights: A 2-D array with the learned weights after each training epoch.\n",
        "    losses: A 1-D array with the loss after each epoch.\n",
        "  \"\"\"\n",
        "  # m = number of examples, n = number of features\n",
        "  m, n = inputs.shape\n",
        "\n",
        "  # We'll use a vector of size n to store the learned weights and initialize\n",
        "  # all weights to 1.\n",
        "  W = np.ones(n)\n",
        "\n",
        "  # Keep track of the training loss and weights after each step.\n",
        "  losses = []\n",
        "  weights = []\n",
        "\n",
        "  for epoch in range(num_epochs):\n",
        "    # Append the old weights to the weights list to keep track of them.\n",
        "    weights.append(W)\n",
        "    print(\"Weights: \", weights)\n",
        "\n",
        "    # Evaluate the current predictions for the training examples given\n",
        "    # the current estimate of W.\n",
        "    predictions = np.dot(inputs, W)\n",
        "\n",
        "    # Find the difference between the predictions and the actual target\n",
        "    # values.\n",
        "    diff = predictions - outputs\n",
        "\n",
        "    # In standard linear regression, we want to minimize the sum of squared\n",
        "    # differences. Compute the mean squared error loss. Don't bother with the\n",
        "    # 1/2 scaling factor here.\n",
        "    loss = np.mean(diff ** 2)\n",
        "\n",
        "    # Append the loss to the losses list to keep a track of it.\n",
        "    losses.append(loss)\n",
        "    print(\"Losses: \", losses)\n",
        "\n",
        "    # Compute the gradient with respect to the loss.\n",
        "    # [Formula (4) in the Gradient Descent Implementation]\n",
        "    gradient = (2/m) * np.dot(inputs.T, diff)\n",
        "\n",
        "    # Update weights, scaling the gradient by the learning rate.\n",
        "    W = W - learning_rate * gradient\n",
        "\n",
        "  # Append the final weights after the loop\n",
        "  weights.append(W)\n",
        "\n",
        "  return np.array(weights), np.array(losses)"
      ]
    },
    {
      "cell_type": "code",
      "execution_count": null,
      "metadata": {
        "id": "SrOYRpRgzjC-",
        "colab": {
          "base_uri": "https://localhost:8080/"
        },
        "outputId": "8ba0c2f5-befa-4433-801d-6974dd91a0d7"
      },
      "outputs": [
        {
          "output_type": "stream",
          "name": "stdout",
          "text": [
            "Weights:  [array([1., 1.])]\n",
            "Losses:  [np.float64(1665.3666608648086)]\n",
            "Weights:  [array([1., 1.]), array([1.01418788, 1.66525772])]\n",
            "Losses:  [np.float64(1665.3666608648086), np.float64(187.40513955606463)]\n",
            "Weights:  [array([1., 1.]), array([1.01418788, 1.66525772]), array([1.01895194, 1.88825083])]\n",
            "Losses:  [np.float64(1665.3666608648086), np.float64(187.40513955606463), np.float64(21.344447859595864)]\n",
            "Weights:  [array([1., 1.]), array([1.01418788, 1.66525772]), array([1.01895194, 1.88825083]), array([1.02055715, 1.96299757])]\n",
            "Losses:  [np.float64(1665.3666608648086), np.float64(187.40513955606463), np.float64(21.344447859595864), np.float64(2.686212284426659)]\n",
            "Weights:  [array([1., 1.]), array([1.01418788, 1.66525772]), array([1.01895194, 1.88825083]), array([1.02055715, 1.96299757]), array([1.02110352, 1.98805237])]\n",
            "Losses:  [np.float64(1665.3666608648086), np.float64(187.40513955606463), np.float64(21.344447859595864), np.float64(2.686212284426659), np.float64(0.5898109426970056)]\n"
          ]
        },
        {
          "output_type": "execute_result",
          "data": {
            "text/plain": [
              "(array([[1.        , 1.        ],\n",
              "        [1.01418788, 1.66525772],\n",
              "        [1.01895194, 1.88825083],\n",
              "        [1.02055715, 1.96299757],\n",
              "        [1.02110352, 1.98805237],\n",
              "        [1.02129496, 1.99645053]]),\n",
              " array([1.66536666e+03, 1.87405140e+02, 2.13444479e+01, 2.68621228e+00,\n",
              "        5.89810943e-01]))"
            ]
          },
          "metadata": {},
          "execution_count": 26
        }
      ],
      "source": [
        "gradient_descent(X_train, Y_train, 0.0002, 5)"
      ]
    },
    {
      "cell_type": "markdown",
      "metadata": {
        "id": "mHzsnfVCzjC-"
      },
      "source": [
        "---\n",
        "### Step 5: Hyperparameter tuning"
      ]
    },
    {
      "cell_type": "markdown",
      "metadata": {
        "id": "E0lcTkA1zjC-"
      },
      "source": [
        "Hyperparameter tuning plays an important role in optimizing ML models. One systematically adjusts hyperparameters to find the right balance between model complexity and generalization, ultimately leading to better predictive performance and model effectiveness.\n",
        "\n",
        "Note that hyperparameter tuning is typically performed on **a separate validation dataset**. However, for the purposes of this assignment and based on the ML knowledge you've acquired thus far, we will perform hyperparameter tuning directly on the training data."
      ]
    },
    {
      "cell_type": "markdown",
      "metadata": {
        "id": "dkF8GD8czjC-"
      },
      "source": [
        "### <span style=\"color:chocolate\">Exercise 6:</span> Tuning hyperparameters (10 points)"
      ]
    },
    {
      "cell_type": "markdown",
      "metadata": {
        "id": "HVe5y1Y2zjC-"
      },
      "source": [
        "Answer the following questions:\n",
        "    \n",
        "1. Do you think it would be beneficial to extend the model training in Exercise 5 by increasing the learning rate to 0.02? Justify your answer;\n",
        "\n",
        "2. Restoring to the previous learning_rate = .0002, would you  consider extending the model training in Exercise 5 by increasing the number of epochs to 10? Justify your answer.\n",
        "\n",
        "Note: to support your answers, we recommend the following actions:\n",
        "- create side-by-side subplots to show the loss at each epoch (make sure to include axes name and title), and\n",
        "- print the loss at the last epoch under the following scenarios:\n",
        "    - learning_rate=.0002, num_epochs=5;\n",
        "    - learning_rate=.02, num_epochs=5;\n",
        "    - learning_rate=.0002, num_epochs=10."
      ]
    },
    {
      "cell_type": "code",
      "execution_count": null,
      "metadata": {
        "id": "_QPT2BDNzjC-",
        "colab": {
          "base_uri": "https://localhost:8080/",
          "height": 1000
        },
        "outputId": "e5ef33e6-539d-4c80-af18-6e80b3f060d0"
      },
      "outputs": [
        {
          "output_type": "stream",
          "name": "stdout",
          "text": [
            "Weights:  [array([1., 1.])]\n",
            "Losses:  [np.float64(1665.3666608648086)]\n",
            "Weights:  [array([1., 1.]), array([1.01418788, 1.66525772])]\n",
            "Losses:  [np.float64(1665.3666608648086), np.float64(187.40513955606463)]\n",
            "Weights:  [array([1., 1.]), array([1.01418788, 1.66525772]), array([1.01895194, 1.88825083])]\n",
            "Losses:  [np.float64(1665.3666608648086), np.float64(187.40513955606463), np.float64(21.344447859595864)]\n",
            "Weights:  [array([1., 1.]), array([1.01418788, 1.66525772]), array([1.01895194, 1.88825083]), array([1.02055715, 1.96299757])]\n",
            "Losses:  [np.float64(1665.3666608648086), np.float64(187.40513955606463), np.float64(21.344447859595864), np.float64(2.686212284426659)]\n",
            "Weights:  [array([1., 1.]), array([1.01418788, 1.66525772]), array([1.01895194, 1.88825083]), array([1.02055715, 1.96299757]), array([1.02110352, 1.98805237])]\n",
            "Losses:  [np.float64(1665.3666608648086), np.float64(187.40513955606463), np.float64(21.344447859595864), np.float64(2.686212284426659), np.float64(0.5898109426970056)]\n",
            "Weights:  [array([1., 1.])]\n",
            "Losses:  [np.float64(1665.3666608648086)]\n",
            "Weights:  [array([1., 1.]), array([ 2.41878839, 67.5257721 ])]\n",
            "Losses:  [np.float64(1665.3666608648086), np.float64(7139122.1589806825)]\n",
            "Weights:  [array([1., 1.]), array([ 2.41878839, 67.5257721 ]), array([  -90.4006607 , -4288.59461095])]\n",
            "Losses:  [np.float64(1665.3666608648086), np.float64(7139122.1589806825), np.float64(30610071189.148193)]\n",
            "Weights:  [array([1., 1.]), array([ 2.41878839, 67.5257721 ]), array([  -90.4006607 , -4288.59461095]), array([  5987.51452476, 280950.89027965])]\n",
            "Losses:  [np.float64(1665.3666608648086), np.float64(7139122.1589806825), np.float64(30610071189.148193), np.float64(131245337997012.45)]\n",
            "Weights:  [array([1., 1.]), array([ 2.41878839, 67.5257721 ]), array([  -90.4006607 , -4288.59461095]), array([  5987.51452476, 280950.89027965]), array([  -391995.3005066 , -18396577.98716515])]\n",
            "Losses:  [np.float64(1665.3666608648086), np.float64(7139122.1589806825), np.float64(30610071189.148193), np.float64(131245337997012.45), np.float64(5.6273435758094995e+17)]\n",
            "Weights:  [array([1., 1.])]\n",
            "Losses:  [np.float64(1665.3666608648086)]\n",
            "Weights:  [array([1., 1.]), array([1.01418788, 1.66525772])]\n",
            "Losses:  [np.float64(1665.3666608648086), np.float64(187.40513955606463)]\n",
            "Weights:  [array([1., 1.]), array([1.01418788, 1.66525772]), array([1.01895194, 1.88825083])]\n",
            "Losses:  [np.float64(1665.3666608648086), np.float64(187.40513955606463), np.float64(21.344447859595864)]\n",
            "Weights:  [array([1., 1.]), array([1.01418788, 1.66525772]), array([1.01895194, 1.88825083]), array([1.02055715, 1.96299757])]\n",
            "Losses:  [np.float64(1665.3666608648086), np.float64(187.40513955606463), np.float64(21.344447859595864), np.float64(2.686212284426659)]\n",
            "Weights:  [array([1., 1.]), array([1.01418788, 1.66525772]), array([1.01895194, 1.88825083]), array([1.02055715, 1.96299757]), array([1.02110352, 1.98805237])]\n",
            "Losses:  [np.float64(1665.3666608648086), np.float64(187.40513955606463), np.float64(21.344447859595864), np.float64(2.686212284426659), np.float64(0.5898109426970056)]\n",
            "Weights:  [array([1., 1.]), array([1.01418788, 1.66525772]), array([1.01895194, 1.88825083]), array([1.02055715, 1.96299757]), array([1.02110352, 1.98805237]), array([1.02129496, 1.99645053])]\n",
            "Losses:  [np.float64(1665.3666608648086), np.float64(187.40513955606463), np.float64(21.344447859595864), np.float64(2.686212284426659), np.float64(0.5898109426970056), np.float64(0.3542629436554315)]\n",
            "Weights:  [array([1., 1.]), array([1.01418788, 1.66525772]), array([1.01895194, 1.88825083]), array([1.02055715, 1.96299757]), array([1.02110352, 1.98805237]), array([1.02129496, 1.99645053]), array([1.02136744, 1.9992654 ])]\n",
            "Losses:  [np.float64(1665.3666608648086), np.float64(187.40513955606463), np.float64(21.344447859595864), np.float64(2.686212284426659), np.float64(0.5898109426970056), np.float64(0.3542629436554315), np.float64(0.32779656662430195)]\n",
            "Weights:  [array([1., 1.]), array([1.01418788, 1.66525772]), array([1.01895194, 1.88825083]), array([1.02055715, 1.96299757]), array([1.02110352, 1.98805237]), array([1.02129496, 1.99645053]), array([1.02136744, 1.9992654 ]), array([1.02140003, 2.00020876])]\n",
            "Losses:  [np.float64(1665.3666608648086), np.float64(187.40513955606463), np.float64(21.344447859595864), np.float64(2.686212284426659), np.float64(0.5898109426970056), np.float64(0.3542629436554315), np.float64(0.32779656662430195), np.float64(0.324822167109412)]\n",
            "Weights:  [array([1., 1.]), array([1.01418788, 1.66525772]), array([1.01895194, 1.88825083]), array([1.02055715, 1.96299757]), array([1.02110352, 1.98805237]), array([1.02129496, 1.99645053]), array([1.02136744, 1.9992654 ]), array([1.02140003, 2.00020876]), array([1.02141926, 2.0005248 ])]\n",
            "Losses:  [np.float64(1665.3666608648086), np.float64(187.40513955606463), np.float64(21.344447859595864), np.float64(2.686212284426659), np.float64(0.5898109426970056), np.float64(0.3542629436554315), np.float64(0.32779656662430195), np.float64(0.324822167109412), np.float64(0.324487277598242)]\n",
            "Weights:  [array([1., 1.]), array([1.01418788, 1.66525772]), array([1.01895194, 1.88825083]), array([1.02055715, 1.96299757]), array([1.02110352, 1.98805237]), array([1.02129496, 1.99645053]), array([1.02136744, 1.9992654 ]), array([1.02140003, 2.00020876]), array([1.02141926, 2.0005248 ]), array([1.021434  , 2.00063055])]\n",
            "Losses:  [np.float64(1665.3666608648086), np.float64(187.40513955606463), np.float64(21.344447859595864), np.float64(2.686212284426659), np.float64(0.5898109426970056), np.float64(0.3542629436554315), np.float64(0.32779656662430195), np.float64(0.324822167109412), np.float64(0.324487277598242), np.float64(0.3244489580924435)]\n",
            "Rather than increasing the learning rate, it is beneficial to increase the epoch.\n",
            "This is because in the histogram, we see that there is less divergence compared to the one with the same learning rate and 5 epochs.\n",
            "Compared to the 0.02 learning rate histogram, there are also less losses.\n"
          ]
        },
        {
          "output_type": "display_data",
          "data": {
            "text/plain": [
              "<Figure size 1500x500 with 3 Axes>"
            ],
            "image/png": "[encoded data removed]"
          },
          "metadata": {}
        }
      ],
      "source": [
        "fig, axes = plt.subplots(1,3, figsize=(15,5))\n",
        "\n",
        "L_Rate_one = gradient_descent(X_train, Y_train, 0.0002, 5)[1]\n",
        "axes[0].hist(L_Rate_one, bins=15)\n",
        "axes[0].set_title(\"Losses with Learning Rate 0.0002 Epoch 5\")\n",
        "axes[0].set_xlabel(\"Losses\")\n",
        "axes[0].set_ylabel(\"Frequency\")\n",
        "\n",
        "L_Rate_one = gradient_descent(X_train, Y_train, 0.02, 5)[1]\n",
        "axes[1].hist(Y_train, bins=15)\n",
        "axes[1].set_title(\"Losses with Learning Rate 0.02 Epoch 5\")\n",
        "axes[1].set_xlabel(\"Losses\")\n",
        "axes[1].set_ylabel(\"Frequency\")\n",
        "\n",
        "epoch_change = gradient_descent(X_train, Y_train, 0.0002, 10)[1]\n",
        "axes[2].hist(Y_train, bins=15)\n",
        "axes[2].set_title(\"Losses with Learning Rate 0.0002 Epoch 10\")\n",
        "axes[2].set_xlabel(\"Losses\")\n",
        "axes[2].set_ylabel(\"Frequency\")\n",
        "\n",
        "print(\"Rather than increasing the learning rate, it is beneficial to increase the epoch.\")\n",
        "print(\"This is because in the histogram, we see that there is less divergence compared to the one with the same learning rate and 5 epochs.\")\n",
        "print(\"Compared to the 0.02 learning rate histogram, there are also less losses.\")\n"
      ]
    },
    {
      "cell_type": "markdown",
      "metadata": {
        "id": "DsAhJ2C_zjC-"
      },
      "source": [
        "### <span style=\"color:chocolate\">Exercise 7:</span> Choosing the best model (10 points)"
      ]
    },
    {
      "cell_type": "markdown",
      "metadata": {
        "id": "fDYCFNxZzjC-"
      },
      "source": [
        "Write down the learned model that you consider most optimal given your answers to the hyperparameter tuning exercise. Call this model $M_3(x)$."
      ]
    },
    {
      "cell_type": "code",
      "execution_count": null,
      "metadata": {
        "id": "lSaTWL64zjC-",
        "colab": {
          "base_uri": "https://localhost:8080/"
        },
        "outputId": "4fa616c7-f8a3-4ad9-c60d-5cc950052a74"
      },
      "outputs": [
        {
          "output_type": "stream",
          "name": "stdout",
          "text": [
            "Weights:  [array([1., 1.])]\n",
            "Losses:  [np.float64(1665.3666608648086)]\n",
            "Weights:  [array([1., 1.]), array([1.01418788, 1.66525772])]\n",
            "Losses:  [np.float64(1665.3666608648086), np.float64(187.40513955606463)]\n",
            "Weights:  [array([1., 1.]), array([1.01418788, 1.66525772]), array([1.01895194, 1.88825083])]\n",
            "Losses:  [np.float64(1665.3666608648086), np.float64(187.40513955606463), np.float64(21.344447859595864)]\n",
            "Weights:  [array([1., 1.]), array([1.01418788, 1.66525772]), array([1.01895194, 1.88825083]), array([1.02055715, 1.96299757])]\n",
            "Losses:  [np.float64(1665.3666608648086), np.float64(187.40513955606463), np.float64(21.344447859595864), np.float64(2.686212284426659)]\n",
            "Weights:  [array([1., 1.]), array([1.01418788, 1.66525772]), array([1.01895194, 1.88825083]), array([1.02055715, 1.96299757]), array([1.02110352, 1.98805237])]\n",
            "Losses:  [np.float64(1665.3666608648086), np.float64(187.40513955606463), np.float64(21.344447859595864), np.float64(2.686212284426659), np.float64(0.5898109426970056)]\n",
            "Weights:  [array([1., 1.]), array([1.01418788, 1.66525772]), array([1.01895194, 1.88825083]), array([1.02055715, 1.96299757]), array([1.02110352, 1.98805237]), array([1.02129496, 1.99645053])]\n",
            "Losses:  [np.float64(1665.3666608648086), np.float64(187.40513955606463), np.float64(21.344447859595864), np.float64(2.686212284426659), np.float64(0.5898109426970056), np.float64(0.3542629436554315)]\n",
            "Weights:  [array([1., 1.]), array([1.01418788, 1.66525772]), array([1.01895194, 1.88825083]), array([1.02055715, 1.96299757]), array([1.02110352, 1.98805237]), array([1.02129496, 1.99645053]), array([1.02136744, 1.9992654 ])]\n",
            "Losses:  [np.float64(1665.3666608648086), np.float64(187.40513955606463), np.float64(21.344447859595864), np.float64(2.686212284426659), np.float64(0.5898109426970056), np.float64(0.3542629436554315), np.float64(0.32779656662430195)]\n",
            "Weights:  [array([1., 1.]), array([1.01418788, 1.66525772]), array([1.01895194, 1.88825083]), array([1.02055715, 1.96299757]), array([1.02110352, 1.98805237]), array([1.02129496, 1.99645053]), array([1.02136744, 1.9992654 ]), array([1.02140003, 2.00020876])]\n",
            "Losses:  [np.float64(1665.3666608648086), np.float64(187.40513955606463), np.float64(21.344447859595864), np.float64(2.686212284426659), np.float64(0.5898109426970056), np.float64(0.3542629436554315), np.float64(0.32779656662430195), np.float64(0.324822167109412)]\n",
            "Weights:  [array([1., 1.]), array([1.01418788, 1.66525772]), array([1.01895194, 1.88825083]), array([1.02055715, 1.96299757]), array([1.02110352, 1.98805237]), array([1.02129496, 1.99645053]), array([1.02136744, 1.9992654 ]), array([1.02140003, 2.00020876]), array([1.02141926, 2.0005248 ])]\n",
            "Losses:  [np.float64(1665.3666608648086), np.float64(187.40513955606463), np.float64(21.344447859595864), np.float64(2.686212284426659), np.float64(0.5898109426970056), np.float64(0.3542629436554315), np.float64(0.32779656662430195), np.float64(0.324822167109412), np.float64(0.324487277598242)]\n",
            "Weights:  [array([1., 1.]), array([1.01418788, 1.66525772]), array([1.01895194, 1.88825083]), array([1.02055715, 1.96299757]), array([1.02110352, 1.98805237]), array([1.02129496, 1.99645053]), array([1.02136744, 1.9992654 ]), array([1.02140003, 2.00020876]), array([1.02141926, 2.0005248 ]), array([1.021434  , 2.00063055])]\n",
            "Losses:  [np.float64(1665.3666608648086), np.float64(187.40513955606463), np.float64(21.344447859595864), np.float64(2.686212284426659), np.float64(0.5898109426970056), np.float64(0.3542629436554315), np.float64(0.32779656662430195), np.float64(0.324822167109412), np.float64(0.324487277598242), np.float64(0.3244489580924435)]\n",
            "Final Weights:  [1.02144724 2.00066583]\n",
            "M3(x) = np.dot(M3_final_weights, X_train)\n"
          ]
        }
      ],
      "source": [
        "M3_weights, M3_losses = gradient_descent(X_train, Y_train, 0.0002, 10)\n",
        "M3_final_weights = M3_weights[-1]\n",
        "print(\"Final Weights: \" , M3_final_weights)\n",
        "print(\"M3(x) = np.dot(M3_final_weights, X_train)\")\n",
        "\n",
        "M3_x = np.dot(X_train, M3_final_weights)"
      ]
    },
    {
      "cell_type": "markdown",
      "metadata": {
        "id": "cA42-V_-zjDE"
      },
      "source": [
        "---\n",
        "### Step 6: Evaluation and Generalization"
      ]
    },
    {
      "cell_type": "markdown",
      "metadata": {
        "id": "n2qE9zKnzjDF"
      },
      "source": [
        "To evaluate our models, we assess their performance based on how closely they fit the available data. In other words, we compare the true value $y$ with the predicted value $\\hat{y}$ for each $x$."
      ]
    },
    {
      "cell_type": "markdown",
      "metadata": {
        "id": "-YID-MjRzjDF"
      },
      "source": [
        "### <span style=\"color:chocolate\">Exercise 8:</span> Computing MSE (10 points)"
      ]
    },
    {
      "cell_type": "markdown",
      "metadata": {
        "id": "XfrEPN1gzjDF"
      },
      "source": [
        "Assess the performance of the three models ($M_1(x)$, $M_2(x)$, $M_3(x)$) by computing the MSE metric on the training dataset. Hint: you can use the <span style=\"color:chocolate\">mean_squared_error()</span> method available in sklearn.metrics."
      ]
    },
    {
      "cell_type": "code",
      "execution_count": null,
      "metadata": {
        "id": "vei4H8A0zjDF",
        "colab": {
          "base_uri": "https://localhost:8080/"
        },
        "outputId": "8f5342d8-c7ce-4cda-a96c-3f38e99b96e5"
      },
      "outputs": [
        {
          "output_type": "stream",
          "name": "stdout",
          "text": [
            "MSE M1:  1397.608983658733\n",
            "MSE M2:  1.1743507594839617\n",
            "MSE M3:  0.32444396071340914\n",
            "As seen here, the MSE for M3 is the smallest. Therefore M3 is the best performing model and M1 the worst.\n"
          ]
        }
      ],
      "source": [
        "MSE_M1 = mean_squared_error(M1_hat_train, Y_train)\n",
        "MSE_M2 = mean_squared_error(M2_hat_train, Y_train)\n",
        "MSE_M3 = mean_squared_error(M3_x, Y_train)\n",
        "\n",
        "print(\"MSE M1: \", MSE_M1)\n",
        "print(\"MSE M2: \", MSE_M2)\n",
        "print(\"MSE M3: \", MSE_M3)\n",
        "\n",
        "print(\"As seen here, the MSE for M3 is the smallest. Therefore M3 is the best performing model and M1 the worst.\")"
      ]
    },
    {
      "cell_type": "markdown",
      "metadata": {
        "id": "O-wz6j-GzjDF"
      },
      "source": [
        "### <span style=\"color:chocolate\">Exercise 9:</span> Generalization (10 points)"
      ]
    },
    {
      "cell_type": "markdown",
      "metadata": {
        "id": "fyX0oDr4zjDF"
      },
      "source": [
        "Which of the three models ($M_1(x)$, $M_2(x)$, $M_3(x)$) demonstrates better generalization ability? Hint: compare training vs. test MSE."
      ]
    },
    {
      "cell_type": "code",
      "execution_count": null,
      "metadata": {
        "id": "FdqWB714zjDF",
        "colab": {
          "base_uri": "https://localhost:8080/"
        },
        "outputId": "fe302b04-7ab2-4cd9-9f3a-bff83d7bbd3e"
      },
      "outputs": [
        {
          "output_type": "stream",
          "name": "stdout",
          "text": [
            "MSE M1:  1113.6003911560044\n",
            "MSE M2:  1.4062566168172699\n",
            "MSE M3:  0.29736400999669804\n",
            "Model 3 has better generalization ability. This is because both training and test MSE are very small and similar in value as compared to M1 and M2.\n"
          ]
        }
      ],
      "source": [
        "M1_hat_test = np.dot(X_test, M1_weights)\n",
        "M2_hat_test = 1 + np.dot(X_test, M2_weights)\n",
        "M3_x_test = np.dot(X_test, M3_final_weights)\n",
        "\n",
        "MSE_M1_test = mean_squared_error(M1_hat_test, Y_test)\n",
        "MSE_M2_test = mean_squared_error(M2_hat_test, Y_test)\n",
        "MSE_M3_test = mean_squared_error(M3_x_test, Y_test)\n",
        "\n",
        "print(\"MSE M1: \", MSE_M1_test)\n",
        "print(\"MSE M2: \", MSE_M2_test)\n",
        "print(\"MSE M3: \", MSE_M3_test)\n",
        "\n",
        "print(\"Model 3 has better generalization ability. This is because both training and test MSE are very small and similar in value as compared to M1 and M2.\")"
      ]
    }
  ],
  "metadata": {
    "colab": {
      "provenance": []
    },
    "kernelspec": {
      "display_name": "Python 3",
      "name": "python3"
    },
    "language_info": {
      "codemirror_mode": {
        "name": "ipython",
        "version": 3
      },
      "file_extension": ".py",
      "mimetype": "text/x-python",
      "name": "python",
      "nbconvert_exporter": "python",
      "pygments_lexer": "ipython3",
      "version": "3.12.4"
    }
  },
  "nbformat": 4,
  "nbformat_minor": 0
}